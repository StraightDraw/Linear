{
 "cells": [
  {
   "cell_type": "markdown",
   "metadata": {},
   "source": [
    "# 2.9.1 Lab 5"
   ]
  },
  {
   "cell_type": "markdown",
   "metadata": {},
   "source": [
    "## Part I. Find a basis for the span of the set of vectors\n",
    "\n",
    "For the set of vectors indicated, find a basis for their span.\n",
    "\n",
    "If your birthday is in:\n",
    "\n",
    "* January through April, do the sets of vectors $\\vec v$.\n",
    "* May through August, do the sets of vectors $\\vec x$.\n",
    "* September through December, do the sets of vectors $\\vec y$.\n",
    "\n",
    "$$\\vec v_1 =\\left[\\begin{array}{r}0\\\\0\\\\0\\\\1\\\\\\end{array}\\right],\\vec v_2=\\left[\\begin{array}{r}0\\\\-1\\\\1\\\\1\\\\\\end{array}\\right],\\vec v_3=\\left[\\begin{array}{r}0\\\\3\\\\-3\\\\4\\\\\\end{array}\\right],\\vec v_4=\\left[\\begin{array}{r}-1\\\\2\\\\-4\\\\4\\\\\\end{array}\\right]$$"
   ]
  },
  {
   "cell_type": "markdown",
   "metadata": {},
   "source": [
    "```\n",
    "v1 = [0 ; 0 ; 0 ; 1 ];\n",
    "v2 = [0 ; -1 ; 1 ; 1 ];\n",
    "v3 = [0 ; 3 ; -3 ; 4 ];\n",
    "v4 = [-1 ; 2 ; -4 ; 4 ];\n",
    "```"
   ]
  },
  {
   "cell_type": "markdown",
   "metadata": {},
   "source": [
    "$$\\vec x_1 =\\left[\\begin{array}{r}4\\\\-4\\\\0\\\\0\\end{array}\\right],\\vec x_2=\\left[\\begin{array}{r}1\\\\-1\\\\0\\\\0\\end{array}\\right],\\vec x_3=\\left[\\begin{array}{r}1\\\\-5\\\\0\\\\0\\end{array}\\right],\\vec x_4=\\left[\\begin{array}{r}-1\\\\21\\\\1\\\\1\\end{array}\\right]$$"
   ]
  },
  {
   "cell_type": "markdown",
   "metadata": {},
   "source": [
    "```\n",
    "x1 = [4 ; -4 ; 0 ; 0 ];\n",
    "x2 = [1 ; -1 ; 0 ; 0 ];\n",
    "x3 = [1 ; -5 ; 0 ; 0 ];\n",
    "x4 = [-1 ; 21 ; 1 ; 1 ];\n",
    "```"
   ]
  },
  {
   "cell_type": "markdown",
   "metadata": {},
   "source": [
    "$$\\vec y_1 =\\left[\\begin{array}{r}-4\\\\0\\\\0\\\\-4\\\\\\end{array}\\right],\\vec y_2=\\left[\\begin{array}{r}2\\\\3\\\\0\\\\2\\\\\\end{array}\\right],\\vec y_3=\\left[\\begin{array}{r}6\\\\-2\\\\0\\\\6\\\\\\end{array}\\right],\\vec y_4=\\left[\\begin{array}{r}19\\\\5\\\\1\\\\19\\\\\\end{array}\\right]$$"
   ]
  },
  {
   "cell_type": "markdown",
   "metadata": {},
   "source": [
    "```\n",
    "y1 = [-4 ; 0 ; 0 ; -4 ];\n",
    "y2 = [2 ; 3 ; 0 ; 2 ];\n",
    "y3 = [6 ; -2 ; 0 ; 6 ];\n",
    "y4 = [19 ; 5 ; 1 ; 19 ];\n",
    "```"
   ]
  },
  {
   "cell_type": "markdown",
   "metadata": {},
   "source": [
    "## Part II. Find a basis for the column space of the matrix\n",
    "\n",
    "For the matrix indicated, find a basis for the column space.\n",
    "\n",
    "If your first name begins with:\n",
    "\n",
    "* A through D, do A.\n",
    "* D through J, do D.\n",
    "* J through Z, do J.\n",
    "\n",
    "$$A = \\left[\\begin{array}{rrr}1&23&8\\\\1&18&5\\\\0&0&1\\\\\\end{array}\\right]$$"
   ]
  },
  {
   "cell_type": "markdown",
   "metadata": {},
   "source": [
    "```\n",
    "A = [1 23 8 ; 1 18 5 ; 0 0 1 ];\n",
    "```"
   ]
  },
  {
   "cell_type": "markdown",
   "metadata": {},
   "source": [
    "$$ D = \\left[\\begin{array}{rrr}1&10&2\\\\0&0&1\\\\0&1&-2\\\\\\end{array}\\right]$$"
   ]
  },
  {
   "cell_type": "markdown",
   "metadata": {},
   "source": [
    "```\n",
    "D = [1 10 2 ; 0 0 1 ; 0 1 -2 ];\n",
    "```"
   ]
  },
  {
   "cell_type": "markdown",
   "metadata": {},
   "source": [
    "$$J = \\left[\\begin{array}{rrr}-6&5&-12\\\\0&1&1\\\\8&-6&17\\\\\\end{array}\\right]$$"
   ]
  },
  {
   "cell_type": "markdown",
   "metadata": {},
   "source": [
    "```\n",
    "J = [-6 5 -12 ; 0 1 1 ; 8 -6 17 ];\n",
    "```"
   ]
  },
  {
   "cell_type": "markdown",
   "metadata": {},
   "source": [
    "### Part III: Find the $\\mathcal B$-coordinates of the vector\n",
    "\n",
    "Write the vector\n",
    "\n",
    "$$\\vec w = \\left[\\begin{array}{r}8\\\\-2\\\\\\end{array}\\right]$$\n",
    "\n",
    "in $\\mathcal B$-coordinates where the basis vectors $\\vec b_1,\\vec b_2$ are given.\n",
    "\n",
    "If your last name begins with:\n",
    "\n",
    "* B through G, do Set 1.\n",
    "* H through Q,  Set 2.\n",
    "* R through Z,  Set 3.\n",
    "* A pick any of the three.\n",
    "\n",
    "**Set 1**\n",
    "\n",
    "$$ \\vec b_1 =\\left[\\begin{array}{r}3\\\\1\\end{array}\\right],\\vec b_2=\\left[\\begin{array}{r}4\\\\1\\\\\\end{array}\\right]$$"
   ]
  },
  {
   "cell_type": "markdown",
   "metadata": {},
   "source": [
    "```\n",
    "B = [3 4 ; 1 1 ];\n",
    "```"
   ]
  },
  {
   "cell_type": "markdown",
   "metadata": {},
   "source": [
    "**Set 2**\n",
    "\n",
    "$$ \\vec b_1 =\\left[\\begin{array}{r}-3\\\\3\\\\\\end{array}\\right],\\vec b_2=\\left[\\begin{array}{r}-7\\\\2\\\\\\end{array}\\right]  $$"
   ]
  },
  {
   "cell_type": "markdown",
   "metadata": {},
   "source": [
    "```\n",
    "B = [-3 -7 ; 3 2 ];\n",
    "```"
   ]
  },
  {
   "cell_type": "markdown",
   "metadata": {},
   "source": [
    "**Set 3**\n",
    "\n",
    "$$\\vec b_1 =\\left[\\begin{array}{r}-8\\\\6\\\\\\end{array}\\right],\\vec b_2=\\left[\\begin{array}{r}3\\\\-1\\\\\\end{array}\\right]$$"
   ]
  },
  {
   "cell_type": "markdown",
   "metadata": {},
   "source": [
    "```\n",
    "B= [-8 3 ; 6 -1 ];\n",
    "```"
   ]
  }
 ],
 "metadata": {
  "kernelspec": {
   "display_name": "Matlab",
   "language": "matlab",
   "name": "matlab"
  },
  "language_info": {
   "codemirror_mode": "octave",
   "file_extension": ".m",
   "help_links": [
    {
     "text": "MetaKernel Magics",
     "url": "https://metakernel.readthedocs.io/en/latest/source/README.html"
    }
   ],
   "mimetype": "text/x-octave",
   "name": "matlab",
   "version": "0.16.11"
  }
 },
 "nbformat": 4,
 "nbformat_minor": 4
}
