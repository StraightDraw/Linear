{
 "cells": [
  {
   "cell_type": "markdown",
   "metadata": {},
   "source": [
    "# 1.2.1 Lab"
   ]
  },
  {
   "cell_type": "markdown",
   "metadata": {},
   "source": [
    "This lab includes three problems. In each section, you will complete only one of the problems. Read the directions carefully. The first two you must row-reduce. On the third, you must to REF, back-substitute and solve.\n",
    "\n",
    "You must use MATLAB commands to accomplish the task, and you may not use the `rref` command except to check your work. You must show all steps.\n",
    "\n",
    "When done, export your work as HTML or PDF and upload to the D2L Lab 1 assignment."
   ]
  },
  {
   "cell_type": "markdown",
   "metadata": {},
   "source": [
    "\n",
    "## Part I: RREF\n",
    "\n",
    "You must row-reduce one of the following matrices to RREF and solve. If there are no solutions, say so.\n",
    "\n",
    "If your birthday is in:\n",
    "\n",
    "* January through April, do J.\n",
    "* May through August, do M.\n",
    "* September through December, do S.\n",
    "\n",
    "You may use any variable you like. I had begun to run out, and using the same variable twice causes a good deal of confusion. If you prefer working with $M$ to the letter I gave you, switch to $M$."
   ]
  },
  {
   "cell_type": "code",
   "execution_count": 1,
   "metadata": {},
   "outputs": [
    {
     "name": "stdout",
     "output_type": "stream",
     "text": [
      "\n",
      "J =\n",
      "\n",
      "     3     2\n",
      "     0    -1\n",
      "    -1     0\n",
      "     0    -1\n",
      "     3     1\n",
      "\n",
      "\n"
     ]
    }
   ],
   "source": [
    "J = [ 3     2 ;\n",
    "      0    -1 ;\n",
    "     -1     0 ;\n",
    "      0    -1 ;\n",
    "      3     1 ]\n",
    "      "
   ]
  },
  {
   "cell_type": "code",
   "execution_count": 2,
   "metadata": {},
   "outputs": [
    {
     "name": "stdout",
     "output_type": "stream",
     "text": [
      "\n",
      "M =\n",
      "\n",
      "    -1     0\n",
      "     0     1\n",
      "    -1     6\n",
      "     1    -6\n",
      "     0     1\n",
      "\n",
      "\n"
     ]
    }
   ],
   "source": [
    "M = [ -1     0 ;\n",
    "       0     1 ;\n",
    "      -1     6 ;\n",
    "       1    -6 ;\n",
    "       0     1 ]"
   ]
  },
  {
   "cell_type": "code",
   "execution_count": 3,
   "metadata": {},
   "outputs": [
    {
     "name": "stdout",
     "output_type": "stream",
     "text": [
      "\n"
     ]
    }
   ],
   "source": [
    "S = [ 9    -2 ;\n",
    "     -4     1 ;\n",
    "      1     0 ;\n",
    "     -4     1 ;\n",
    "      0    -1 ];"
   ]
  },
  {
   "cell_type": "markdown",
   "metadata": {},
   "source": [
    "## Part III: REF and Solve\n",
    "\n",
    "You must row-reduce one of the following matrices to REF, then back-substitute to solve. Give all possible solutions. If there are no solutions, say so.\n",
    "\n",
    "If your first name begins with:\n",
    "\n",
    "* A through D, do A.\n",
    "* D through J, do D.\n",
    "* J through Z, do J.\n",
    "\n",
    "You may use any variable you like. I had begun to run out, and using the same variable twice causes a good deal of confusion."
   ]
  },
  {
   "cell_type": "code",
   "execution_count": 4,
   "metadata": {},
   "outputs": [
    {
     "name": "stdout",
     "output_type": "stream",
     "text": [
      "\n",
      "A =\n",
      "\n",
      "    -6     2     0    -5\n",
      "     0     0     0     1\n",
      "    -4     1     0    -3\n",
      "\n",
      "\n"
     ]
    }
   ],
   "source": [
    "A = [ -6     2     0    -5 ; \n",
    "       0     0     0     1 ;\n",
    "      -4     1     0    -3 ]"
   ]
  },
  {
   "cell_type": "code",
   "execution_count": 5,
   "metadata": {},
   "outputs": [
    {
     "name": "stdout",
     "output_type": "stream",
     "text": [
      "\n",
      "E =\n",
      "\n",
      "    -4   -10     3     3\n",
      "     0     1    -2     0\n",
      "     5    14    -3     0\n",
      "\n",
      "\n"
     ]
    }
   ],
   "source": [
    "E = [ -4   -10     3     3 ;\n",
    "       0     1    -2     0 ;\n",
    "       5    14    -3     0 ]"
   ]
  },
  {
   "cell_type": "code",
   "execution_count": 6,
   "metadata": {},
   "outputs": [
    {
     "name": "stdout",
     "output_type": "stream",
     "text": [
      "\n",
      "K =\n",
      "\n",
      "    -6    -1   -14     0\n",
      "     2     1     6     0\n",
      "     0     1     0    -1\n",
      "\n",
      "\n"
     ]
    }
   ],
   "source": [
    "K = [ -6    -1   -14     0 ; \n",
    "       2     1     6     0 ;\n",
    "       0     1     0     -1 ]"
   ]
  },
  {
   "cell_type": "markdown",
   "metadata": {},
   "source": [
    "Part II\n",
    "\n",
    "You must row-reduce one of the following matrices to REF. Do not go further than REF.\n",
    "\n",
    "If your last name begins with:\n",
    "\n",
    "* A through D, do A.\n",
    "* D through J, do D.\n",
    "* J through Z, do J.\n",
    "\n",
    "You may use any variable you like. I had begun to run out, and using the same variable twice causes a good deal of confusion.."
   ]
  },
  {
   "cell_type": "code",
   "execution_count": 7,
   "metadata": {},
   "outputs": [
    {
     "name": "stdout",
     "output_type": "stream",
     "text": [
      "\n",
      "B =\n",
      "\n",
      "     0     0     3    -1    -1\n",
      "     1    -2     7    -2    -4\n",
      "     0     0     3    -2    -1\n",
      "     0     5    -1    -1     1\n",
      "     0     0     0    -3     2\n",
      "\n",
      "\n"
     ]
    }
   ],
   "source": [
    "B = [ 0     0     3    -1    -1 ;\n",
    "      1    -2     7    -2    -4 ;\n",
    "      0     0     3    -2    -1 ;\n",
    "      0     5    -1    -1     1 ;\n",
    "      0     0     0    -3     2 ]"
   ]
  },
  {
   "cell_type": "code",
   "execution_count": 8,
   "metadata": {},
   "outputs": [
    {
     "name": "stdout",
     "output_type": "stream",
     "text": [
      "\n",
      "H =\n",
      "\n",
      "    -5     0     5    15    14\n",
      "     0     0     1     3     0\n",
      "     0     5    -1    -2     1\n",
      "     2     0    -2    -5    -5\n",
      "     0     0     2     6    -1\n",
      "\n",
      "\n"
     ]
    }
   ],
   "source": [
    "H = [ -5     0     5    15    14 ;\n",
    "       0     0     1     3     0 ;\n",
    "       0     5    -1    -2     1 ;\n",
    "       2     0    -2    -5    -5 ;\n",
    "       0     0     2     6    -1 ]"
   ]
  },
  {
   "cell_type": "code",
   "execution_count": 9,
   "metadata": {},
   "outputs": [
    {
     "name": "stdout",
     "output_type": "stream",
     "text": [
      "\n"
     ]
    }
   ],
   "source": [
    "R = [ 0     0     0    -6    -7 ;\n",
    "     -1     0     2     4    19 ;\n",
    "      0     1     0    13    16 ;\n",
    "      0     2     0     5     8 ;\n",
    "     -3     0     7    12    62 ];\n",
    " "
   ]
  }
 ],
 "metadata": {
  "kernelspec": {
   "display_name": "Matlab",
   "language": "matlab",
   "name": "matlab"
  },
  "language_info": {
   "codemirror_mode": "octave",
   "file_extension": ".m",
   "help_links": [
    {
     "text": "MetaKernel Magics",
     "url": "https://metakernel.readthedocs.io/en/latest/source/README.html"
    }
   ],
   "mimetype": "text/x-octave",
   "name": "matlab",
   "version": "0.16.11"
  }
 },
 "nbformat": 4,
 "nbformat_minor": 4
}
