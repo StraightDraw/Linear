{
 "cells": [
  {
   "cell_type": "markdown",
   "metadata": {},
   "source": [
    "# 1.1 Systems of Linear Equations"
   ]
  },
  {
   "cell_type": "markdown",
   "metadata": {},
   "source": [
    "The Margalit and Robanoff [Linear Algebra](https://textbooks.math.gatech.edu/ila/systems-of-eqns.html) textbook uses this section to provide motivation for solving linear systems along with a geometric visualization of what a solution might look like. There isn't much MATLAB can help with, here, but you should read and interact with this section to help you understand it.\n",
    "\n",
    "The key point is that we can solve huge systems of equations nearly as easily as simple ones we solved in high school algrebra.\n",
    "\n",
    "$$\\begin{array}{rcccccccc}\n",
    "     5x  & + &   y  & + &   5z  &  = & 11 \\\\\n",
    "    -x   & + &      & + &   2z  &  = & 0  \\\\\n",
    "    -x   & + &      & + &   4z  &  = & 2  \\\\\n",
    "\\end{array}$$\n",
    "\n",
    "The linear system above corresponds to the matrix equations\n",
    " \n",
    "$$A\\vec x = \\vec v$$\n",
    " \n",
    "where  $A$ is the coefficient matrix, $\\vec v$ is the right hand side, and $\\vec x$ is the solution vector we hope to find. If we take the coefficients of the system, then\n",
    "\n",
    "$$A = \\left[\\begin{array}{rcc}\n",
    "     5 & 1 & 5\\\\\n",
    "    -1 & 0 & 2\\\\\n",
    "    -1 & 0 & 4\n",
    "\\end{array}\\right]$$\n",
    "\n",
    "and \n",
    "\n",
    "$$\\vec v = \\left[\\begin{array}{r} 11 \\\\ 0 \\\\ 2 \\end{array}\\right]$$\n",
    " \n",
    " \n"
   ]
  },
  {
   "cell_type": "markdown",
   "metadata": {},
   "source": [
    "The matrix algebra is much easier than solving algebraically, and the next section takes us through the three elementary row operations the application of which do **not** change the solutions of the system."
   ]
  }
 ],
 "metadata": {
  "kernelspec": {
   "display_name": "Matlab",
   "language": "matlab",
   "name": "matlab"
  },
  "language_info": {
   "codemirror_mode": "octave",
   "file_extension": ".m",
   "help_links": [
    {
     "text": "MetaKernel Magics",
     "url": "https://metakernel.readthedocs.io/en/latest/source/README.html"
    }
   ],
   "mimetype": "text/x-octave",
   "name": "matlab",
   "version": "0.16.11"
  }
 },
 "nbformat": 4,
 "nbformat_minor": 4
}
