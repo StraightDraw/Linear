{
 "cells": [
  {
   "cell_type": "markdown",
   "metadata": {},
   "source": [
    "# 3.2 One-to-one and Onto Transformations"
   ]
  },
  {
   "cell_type": "markdown",
   "metadata": {},
   "source": [
    "## Domain and Codomain\n",
    "\n",
    "A transformation \n",
    "\n",
    "$$T\\left(\\vec x\\right) = \\vec y$$\n",
    "\n",
    "based on the $n\\times m$ matrix $A$ always maps from the domain $\\mathbb R^m$ into the range $\\mathbb R^n$. The vectors $\\vec x$ in the domain, to be able to be multiplied in the order $A\\vec x$ must have the same number of components as the columns of $A$, which is $m$. The vectors $\\vec y$ in the range will have $n$ components because $n$ dot products will be needed.\n",
    "\n",
    "We reproduce a theorem from Margalit to show what we can do with MATLAB to verify a matrix transformation is one-to-one.\n",
    "\n",
    "### Theorem. *One-to-one* matrix transformations.\n",
    "\n",
    "Let $A$ be an $m\\times n$ matrix, and let $T\\left(\\vec x\\right) = A \\vec x$ be the associated matrix transformation. The following statements are equivalent:\n",
    "\n",
    "1. $T$ is one-to-one.\n",
    "2. For every $\\vec b \\in \\mathbb R^m$, the equation $T\\left(\\vec x\\right) = \\vec b$ has at most one solution.\n",
    "3. For every $\\vec b\\in \\mathbb R^n$, the equation $A\\vec x = \\vec b$ has a unique solution or is inconsistent.\n",
    "4. $A\\vec x = \\vec 0$ has only the trivial solution.\n",
    "5. The columns of $A$ are linearly independent.\n",
    "6. $A$ has a pivot in every column.\n",
    "7. The range of $T$ has dimension $n$.\n",
    "\n",
    "To verify a matrix transformation is one-to-one, we can use option 6: row-reduce $A$ to determine if every column corresponds to a pivot position."
   ]
  },
  {
   "cell_type": "markdown",
   "metadata": {},
   "source": [
    "## Examples\n",
    "\n",
    "Consider the transformations corresponding to the following matrices:\n",
    "\n",
    "$$A = \\left[\\begin{array}{rr}3&-11\\\\0&1\\\\0&1\\\\\\end{array}\\right],\\hspace{1cm} B = \\left[\\begin{array}{rrr}0&-1&1\\\\2&3&5\\\\-4&9&-24\\\\\\end{array}\\right]$$\n",
    "\n",
    "$$C = \\left[\\begin{array}{rrrr}0&0&-1&1\\\\1&4&1&1\\\\1&4&-2&6\\\\1&4&-2&4\\\\\\end{array}\\right],\\hspace{1cm} D = \\left[\\begin{array}{rrrrr}4&2&23&10&8\\\\-4&-2&-18&-7&-6\\\\-16&-8&-57&-18&-19\\\\\\end{array}\\right]$$\n",
    "\n",
    "It should be clear right away that the *wide* matrix $D$ could never be associated with a one-to-one transformation. There is no way it could have pivots in all five columns since only three pivots are possible. Let's check on the others."
   ]
  },
  {
   "cell_type": "code",
   "execution_count": 2,
   "metadata": {},
   "outputs": [
    {
     "name": "stdout",
     "output_type": "stream",
     "text": [
      "\n",
      "ans =\n",
      "\n",
      "     1     0\n",
      "     0     1\n",
      "     0     0\n",
      "\n",
      "\n",
      "ans =\n",
      "\n",
      "     1     0     0\n",
      "     0     1     0\n",
      "     0     0     1\n",
      "\n",
      "\n"
     ]
    }
   ],
   "source": [
    "A = [3 -11 ; 0 1 ; 0 1 ];\n",
    "B = [0 -1 1 ; 2 3 5 ; -4 9 -24 ];\n",
    "C = [0 0 -1 1 ; 1 4 1 1 ; 1 4 -2 6 ; 1 4 -2 4 ];\n",
    "D = [4 2 23 10 8 ; -4 -2 -18 -7 -6 ; -16 -8 -57 -18 -19 ];\n",
    "\n",
    "rref(A)\n",
    "rref(B)"
   ]
  },
  {
   "cell_type": "markdown",
   "metadata": {},
   "source": [
    "Both matrices $A$ and $B$ have a pivot in each column, so their corresponding transformations will be one-to-one. "
   ]
  },
  {
   "cell_type": "code",
   "execution_count": 3,
   "metadata": {},
   "outputs": [
    {
     "name": "stdout",
     "output_type": "stream",
     "text": [
      "\n",
      "ans =\n",
      "\n",
      "     1     4     0     0\n",
      "     0     0     1     0\n",
      "     0     0     0     1\n",
      "     0     0     0     0\n",
      "\n",
      "\n"
     ]
    }
   ],
   "source": [
    "rref(C)"
   ]
  },
  {
   "cell_type": "markdown",
   "metadata": {},
   "source": [
    "While it certainly would be possible for a $4\\times 4$ matrix to be one-to-one, this one is not. It has only three pivots."
   ]
  },
  {
   "cell_type": "markdown",
   "metadata": {},
   "source": [
    "### Theorem. *Onto* matrix transformations. \n",
    "\n",
    "Let $A$ be an $m\\times n$ matrix, and let $T\\left(\\vec x\\right) = A \\vec x$ be the associated matrix transformation. The following statements are equivalent:\n",
    "1. $T$ is onto.\n",
    "2. $T\\left(\\vec x\\right) = \\vec b$ has at least one solution for every $\\vec b \\in \\mathbb R^m$.\n",
    "3. $A\\vec x = \\vec b$ is consistent for every $\\vec b \\in \\mathbb R^m$\n",
    "4. The columns of $A$ span $\\mathbb R^m$.\n",
    "5. $A$ has a pivot in every row.\n",
    "6. The range of $T$ has dimension $m$.\n",
    "\n",
    "Let's consider the same 4 matrices as before.\n",
    "\n",
    "````{margin}\n",
    "```{note}\n",
    "A square matrix $M$ is both *one-to-one* and *onto*, or neither.\n",
    "```\n",
    "````"
   ]
  },
  {
   "cell_type": "code",
   "execution_count": 4,
   "metadata": {},
   "outputs": [
    {
     "name": "stdout",
     "output_type": "stream",
     "text": [
      "\n",
      "ans =\n",
      "\n",
      "     1     0\n",
      "     0     1\n",
      "     0     0\n",
      "\n",
      "\n"
     ]
    }
   ],
   "source": [
    "A = [3 -11 ; 0 1 ; 0 1 ];\n",
    "B = [0 -1 1 ; 2 3 5 ; -4 9 -24 ];\n",
    "C = [0 0 -1 1 ; 1 4 1 1 ; 1 4 -2 6 ; 1 4 -2 4 ];\n",
    "D = [4 2 23 10 8 ; -4 -2 -18 -7 -6 ; -16 -8 -57 -18 -19 ];\n",
    "\n",
    "rref(A)"
   ]
  },
  {
   "cell_type": "markdown",
   "metadata": {},
   "source": [
    "Of course, there is no way for the *tall* matrix $A$ to be onto since it can have at most 2 pivots."
   ]
  },
  {
   "cell_type": "code",
   "execution_count": 5,
   "metadata": {},
   "outputs": [
    {
     "name": "stdout",
     "output_type": "stream",
     "text": [
      "\n",
      "ans =\n",
      "\n",
      "     1     0     0\n",
      "     0     1     0\n",
      "     0     0     1\n",
      "\n",
      "\n"
     ]
    }
   ],
   "source": [
    "rref(B)"
   ]
  },
  {
   "cell_type": "code",
   "execution_count": 7,
   "metadata": {},
   "outputs": [
    {
     "name": "stdout",
     "output_type": "stream",
     "text": [
      "\n",
      "ans =\n",
      "\n",
      "    1.0000    0.5000         0         0   -1.2500\n",
      "         0         0    1.0000         0    1.0000\n",
      "         0         0         0    1.0000   -1.0000\n",
      "\n",
      "\n"
     ]
    }
   ],
   "source": [
    "rref(D)"
   ]
  },
  {
   "cell_type": "markdown",
   "metadata": {},
   "source": [
    "The transformations associated with matrices $B$ and $D$ are *onto* because the matrices have pivots in every row."
   ]
  },
  {
   "cell_type": "code",
   "execution_count": 8,
   "metadata": {},
   "outputs": [
    {
     "name": "stdout",
     "output_type": "stream",
     "text": [
      "\n",
      "ans =\n",
      "\n",
      "     1     4     0     0\n",
      "     0     0     1     0\n",
      "     0     0     0     1\n",
      "     0     0     0     0\n",
      "\n",
      "\n"
     ]
    }
   ],
   "source": [
    "rref(C)"
   ]
  },
  {
   "cell_type": "markdown",
   "metadata": {},
   "source": [
    "The transformation associated with matrix $C$ is not *onto* because not every row has a pivot."
   ]
  }
 ],
 "metadata": {
  "kernelspec": {
   "display_name": "Matlab",
   "language": "matlab",
   "name": "matlab"
  },
  "language_info": {
   "codemirror_mode": "octave",
   "file_extension": ".m",
   "help_links": [
    {
     "text": "MetaKernel Magics",
     "url": "https://metakernel.readthedocs.io/en/latest/source/README.html"
    }
   ],
   "mimetype": "text/x-octave",
   "name": "matlab",
   "version": "0.16.11"
  }
 },
 "nbformat": 4,
 "nbformat_minor": 4
}
