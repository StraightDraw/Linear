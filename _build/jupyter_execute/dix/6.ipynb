{
 "cells": [
  {
   "cell_type": "markdown",
   "metadata": {},
   "source": [
    "# A.6 Cofactor Expansion Tool\n",
    "\n",
    "When working with determinants by cofactor expansion, having a tool to quickly produce the minors of a matrix is invaluable."
   ]
  },
  {
   "cell_type": "markdown",
   "metadata": {},
   "source": [
    "## The `minor` function code\n",
    "\n",
    "```\n",
    "function myMatrix  = minor(A,i,j)\n",
    "    % Input Validation\n",
    "    arguments\n",
    "        A (:,:,:)\n",
    "        i (1,1) {mustBeInteger, mustBePositive}\n",
    "        j (1,1) {mustBeInteger, mustBePositive}\n",
    "    end\n",
    "\n",
    "% Delete row i\n",
    "A(i,:) = [];\n",
    "\n",
    "% Delete colun j\n",
    "A(:,j) = [];\n",
    "\n",
    "% Assign result to cofactor matrix\n",
    "myMatrix = A;\n",
    "end\n",
    "```"
   ]
  },
  {
   "cell_type": "markdown",
   "metadata": {},
   "source": [
    "## Breaking down the sections\n",
    "\n",
    "We force the user to input a matrix and ask what row and column to delete.\n",
    "\n",
    "```\n",
    "    arguments\n",
    "        A (:,:,:)\n",
    "        i (1,1) {mustBeInteger, mustBePositive}\n",
    "        j (1,1) {mustBeInteger, mustBePositive}\n",
    "    end\n",
    "```\n",
    "\n",
    "We delete row $i$ and column $j$ in turn by setting them equal to an empty matrix.\n",
    "\n",
    "```\n",
    "A(i,:) = [];\n",
    "\n",
    "A(:,j) = [];\n",
    "```\n",
    "\n",
    "We return the deleted matrix $A$ as the output of the function.\n",
    "\n",
    "```\n",
    "myMatrix = A;\n",
    "```"
   ]
  }
 ],
 "metadata": {
  "kernelspec": {
   "display_name": "Matlab",
   "language": "matlab",
   "name": "matlab"
  },
  "language_info": {
   "codemirror_mode": "octave",
   "file_extension": ".m",
   "help_links": [
    {
     "text": "MetaKernel Magics",
     "url": "https://metakernel.readthedocs.io/en/latest/source/README.html"
    }
   ],
   "mimetype": "text/x-octave",
   "name": "matlab",
   "version": "0.16.11"
  }
 },
 "nbformat": 4,
 "nbformat_minor": 4
}