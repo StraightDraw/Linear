{
 "cells": [
  {
   "cell_type": "markdown",
   "metadata": {},
   "source": [
    "# A.5 Timesaver\n",
    "\n",
    "Perhaps it seems counterintutive to have a function to produce the matrix code for a MATLAB matrix. Won't MATLAB do that for us?\n",
    "\n",
    "Yes and no. When using random generators to find good examples, we need a way to copy-paste the good examples into a notebook. That's what this function is used for, a big time-saver over trying to get the code using MATLAB commands before the random matrix generators overwrite it."
   ]
  },
  {
   "cell_type": "markdown",
   "metadata": {},
   "source": [
    "## The `codemat` function code\n",
    "\n",
    "```\n",
    "function myString = codemat(A)\n",
    "    arguments\n",
    "        A (:,:,:)\n",
    "    end\n",
    "\n",
    "% Loop criteria based on matrix dimensions\n",
    "[m, n] = size(A);\n",
    "\n",
    "myString = '[' ;\n",
    "\n",
    "for i = 1:m\n",
    "    for j = 1:n\n",
    "        if j < n\n",
    "            myString = strcat(myString, string(A(i,j)), {' '});\n",
    "        elseif i < m\n",
    "            myString = strcat(myString, string(A(i,j)), {' '}, ';', {' '});\n",
    "        else \n",
    "            myString = strcat(myString, string(A(i,j)), {' '}, ']');\n",
    "        end\n",
    "    end\n",
    "end\n",
    "\n",
    "%Copy to clipboard for easy pasting\n",
    "clipboard('copy',myString);\n",
    "end\n",
    "```"
   ]
  },
  {
   "cell_type": "markdown",
   "metadata": {},
   "source": [
    "## Breaking down the sections\n",
    "\n",
    "We force the user to input a matrix, set the dimensions of that matrix to $m\\times n$.\n",
    "\n",
    "```\n",
    "    arguments\n",
    "        A (:,:,:)\n",
    "    end\n",
    "    [m, n] = size(A);\n",
    "```\n",
    "\n",
    "We initialize the string we are creating.\n",
    "\n",
    "```\n",
    "myString = '[' ;\n",
    "```\n",
    "The loop creates the rows of the matrix with elements in each row separated by spaces. A semicolon is placed at the end of each row.\n",
    "\n",
    "```\n",
    "for i = 1:m\n",
    "    for j = 1:n\n",
    "        if j < n\n",
    "            myString = strcat(myString, string(A(i,j)), {' '});\n",
    "        elseif i < m\n",
    "            myString = strcat(myString, string(A(i,j)), {' '}, ';', {' '});\n",
    "        else \n",
    "            myString = strcat(myString, string(A(i,j)), {' '}, ']');\n",
    "        end\n",
    "    end\n",
    "end\n",
    "```\n",
    "\n",
    "We place the contents of myString into the clipbaord for easy copy-pasting into another notebook.\n",
    "\n",
    "```\n",
    "clipboard('copy', myString);\n",
    "```"
   ]
  }
 ],
 "metadata": {
  "kernelspec": {
   "display_name": "Matlab",
   "language": "matlab",
   "name": "matlab"
  },
  "language_info": {
   "codemirror_mode": "octave",
   "file_extension": ".m",
   "help_links": [
    {
     "text": "MetaKernel Magics",
     "url": "https://metakernel.readthedocs.io/en/latest/source/README.html"
    }
   ],
   "mimetype": "text/x-octave",
   "name": "matlab",
   "version": "0.16.11"
  }
 },
 "nbformat": 4,
 "nbformat_minor": 4
}