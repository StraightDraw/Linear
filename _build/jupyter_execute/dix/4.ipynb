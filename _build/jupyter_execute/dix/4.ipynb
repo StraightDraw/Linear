{
 "cells": [
  {
   "cell_type": "markdown",
   "metadata": {},
   "source": [
    "# A.4 Dollar sign math for creating vectors from columns of matrix\n",
    "\n",
    "Mathematicians have been using LaTeX for decades. Recently, the wider scientific community has embraced it, and hipper and younger folks are referring to it as dollar sign math. Conversion functions from MATLAB to DSM are incredibly useful for instructors creating tests, quizzes and other class materials.\n",
    "\n",
    "Creating matrices is time-consuming enough in DSM, but what if you want to create five vectors? Even using my `dsm` function, that's five time the work. However, the following code creates an indexed set of vectors from the columns of a matrix.\n",
    "\n",
    "````{margin}\n",
    "```{note}\n",
    "The `dsmvec` function calls the `dsm` function and will not work unless the `dsm` function is also saved in the same folder.\n",
    "```\n",
    "````"
   ]
  },
  {
   "cell_type": "markdown",
   "metadata": {},
   "source": [
    "## The `dsmvec` function code\n",
    "\n",
    "```\n",
    "function myString  = dsmvec(A)\n",
    "    % Input Validation\n",
    "    arguments\n",
    "        A (:,:,:)\n",
    "    end\n",
    "[m,n] = size(A);\n",
    "\n",
    "% Create first vector\n",
    "myString = strcat('v_1',' = ',dsm(A(:,1)) )\n",
    "\n",
    "% Create last n-1 vectors\n",
    "for j = 2:n\n",
    "    myString = strcat(myString,', ','v_',string(j),'=',dsm(A(:,j)))\n",
    "end\n",
    "\n",
    "myString\n",
    "clipboard('copy',myString);\n",
    "end\n",
    "```"
   ]
  },
  {
   "cell_type": "markdown",
   "metadata": {},
   "source": [
    "## Breaking down the sections\n",
    "\n",
    "We force the user to input a matrix, set the dimensions of that matrix to $m\\times n$.\n",
    "\n",
    "```\n",
    "    arguments\n",
    "        A (:,:,:)\n",
    "    end\n",
    "    [m, n] = size(A);\n",
    "```\n",
    "\n",
    "The first vector is always called $v_1$ using the code `v_1`. It does not need a comma before it, but we do need to initialize the variable `myString`. We accomplish all of that in one line.\n",
    "\n",
    "```\n",
    "% Create first vector\n",
    "myString = strcat('v_1',' = ',dsm(A(:,1)) )\n",
    "```\n",
    "\n",
    "We use exactly the same string setup as before for each remaining indexed vector, but we add in a comma to separate the vectors.\n",
    "\n",
    "```\n",
    "% Create last n-1 vectors\n",
    "for j = 2:n\n",
    "    myString = strcat(myString,', ','v_',string(j),'=',dsm(A(:,j)))\n",
    "end\n",
    "\n",
    "```"
   ]
  }
 ],
 "metadata": {
  "kernelspec": {
   "display_name": "Matlab",
   "language": "matlab",
   "name": "matlab"
  },
  "language_info": {
   "codemirror_mode": "octave",
   "file_extension": ".m",
   "help_links": [
    {
     "text": "MetaKernel Magics",
     "url": "https://metakernel.readthedocs.io/en/latest/source/README.html"
    }
   ],
   "mimetype": "text/x-octave",
   "name": "matlab",
   "version": "0.16.11"
  }
 },
 "nbformat": 4,
 "nbformat_minor": 4
}