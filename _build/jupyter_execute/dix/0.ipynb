{
 "cells": [
  {
   "cell_type": "markdown",
   "metadata": {},
   "source": [
    "# Appendix: Instructor Apps"
   ]
  },
  {
   "cell_type": "markdown",
   "metadata": {},
   "source": [
    "Do you ever struggle to make multiple quiz questions? What if you have a large class taking a test in a classroom where the desks are arranged in ways that cheating would be easy? You would like four versions of the test, but doggone it, that means four matrices for every item, or four sets of vectors. And they have to be reasonably similar.\n",
    "\n",
    "Using random matrices is a start, but it takes a bit to tweak them or validate them. That's why I have written several functions in MATLAB to make my life easier.\n",
    "\n",
    "geninvert(n)\n",
    ": Generates an $n\\times n$ invertible matrix\n",
    "\n",
    "genrowred(m,n,k)\n",
    ": Generates an $m\\times n$ matrix suitable for row-reduction. Since it is created from a matrix in REF by using $k$ random row operations, the process of row-reducing is much cleaner than for randomly generated matrices.\n"
   ]
  },
  {
   "cell_type": "markdown",
   "id": "refined-sellers",
   "metadata": {},
   "source": [
    "\n",
    "```{toctree}\n",
    ":hidden:\n",
    ":titlesonly:\n",
    "\n",
    "\n",
    "1\n",
    "2\n",
    "3\n",
    "4\n",
    "5\n",
    "6\n",
    "```\n"
   ]
  }
 ],
 "metadata": {
  "kernelspec": {
   "display_name": "Matlab",
   "language": "matlab",
   "name": "matlab"
  },
  "language_info": {
   "codemirror_mode": "octave",
   "file_extension": ".m",
   "help_links": [
    {
     "text": "MetaKernel Magics",
     "url": "https://metakernel.readthedocs.io/en/latest/source/README.html"
    }
   ],
   "mimetype": "text/x-octave",
   "name": "matlab",
   "version": "0.16.11"
  }
 },
 "nbformat": 4,
 "nbformat_minor": 4
}