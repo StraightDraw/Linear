{
 "cells": [
  {
   "cell_type": "markdown",
   "metadata": {},
   "source": [
    "# A.1 Generate Example Matrices"
   ]
  },
  {
   "cell_type": "markdown",
   "metadata": {},
   "source": [
    "Generating an example matrix in MATLAB is easy. The code\n",
    "\n",
    "```\n",
    "A = randi(4,5,3)\n",
    "```\n",
    "\n",
    "will produce something like:"
   ]
  },
  {
   "cell_type": "markdown",
   "metadata": {},
   "source": [
    "A = randi(9,3,5)"
   ]
  },
  {
   "cell_type": "markdown",
   "metadata": {},
   "source": [
    "Often, however, we want invertible matrices the columns of which when treated as vectors will form a linearly independent set.\n",
    "\n",
    "```\n",
    "function myMatrix = geninvert(N)\n",
    "    arguments\n",
    "        N (1,1) {mustBeInteger, mustBePositive}\n",
    "    end\n",
    "    n = min(8, N)\n",
    "\n",
    "A=randi([-2 5],n);\n",
    "\n",
    "    while (abs(det(A)) > 5) | (abs(det(A)) < .1)\n",
    "        A=randi([-2 5],n);\n",
    "    end\n",
    "\n",
    "myMatrix = A;\n",
    "clipboard('copy',myMatrix);\n",
    "end\n",
    "```\n",
    "\n",
    "The top section controls the function arguments and uses MATLAB's own structure to provide meaningful error codes if the user inputs something whacky like 3.14. The arguments sets up $N$ to be a positive integer, and then we need it to be a small number, or the function can get caught in a nearly infinite loop.\n",
    "\n",
    "We have to initialize a matrix since we're using a while loop. Note that since we're creating matrices with integer elements, the code\n",
    "\n",
    "```\n",
    "abs(det(A)) < 0\n",
    "```\n",
    "\n",
    "works as if we were using\n",
    "\n",
    "```\n",
    "abs(det(A)) == 0\n",
    "```\n",
    "\n",
    "but since some determinants that are actually zero evaluate to something like $\\text{e-}16$\n",
    "\n",
    "I include a \"copy this to clipboard\" command at the end so I can quickly paste the result, if I like it, into a test, quiz or lab I'm working on."
   ]
  }
 ],
 "metadata": {
  "kernelspec": {
   "display_name": "Matlab",
   "language": "matlab",
   "name": "matlab"
  },
  "language_info": {
   "codemirror_mode": "octave",
   "file_extension": ".m",
   "help_links": [
    {
     "text": "MetaKernel Magics",
     "url": "https://metakernel.readthedocs.io/en/latest/source/README.html"
    }
   ],
   "mimetype": "text/x-octave",
   "name": "matlab",
   "version": "0.16.11"
  }
 },
 "nbformat": 4,
 "nbformat_minor": 4
}