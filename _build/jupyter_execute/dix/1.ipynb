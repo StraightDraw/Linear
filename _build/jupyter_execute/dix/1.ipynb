{
 "cells": [
  {
   "cell_type": "markdown",
   "metadata": {},
   "source": [
    "# A.1 Generate $n\\times n$ example matrix that is invertible"
   ]
  },
  {
   "cell_type": "markdown",
   "metadata": {},
   "source": [
    "Generating an example square matrix in MATLAB is easy. The code\n",
    "\n",
    "```\n",
    "A = randi(4,5)\n",
    "```\n",
    "\n",
    "will produce something like"
   ]
  },
  {
   "cell_type": "code",
   "execution_count": 13,
   "metadata": {},
   "outputs": [
    {
     "name": "stdout",
     "output_type": "stream",
     "text": [
      "\n",
      "A =\n",
      "\n",
      "     2     1     4     1     3\n",
      "     2     3     4     3     3\n",
      "     3     2     2     3     4\n",
      "     1     4     3     2     4\n",
      "     3     3     1     4     3\n",
      "\n",
      "\n"
     ]
    }
   ],
   "source": [
    "A = randi(4,5)"
   ]
  },
  {
   "cell_type": "markdown",
   "metadata": {},
   "source": [
    "where all the entries are postive and less than four. For most linear algebra example matrices, this isn't all that helpful, like when we want invertible matrices the columns of which when treated as vectors will form a linearly independent set."
   ]
  },
  {
   "cell_type": "markdown",
   "metadata": {},
   "source": [
    "## The `geninvert` function code\n",
    "\n",
    "````{margin}\n",
    "```{tip}\n",
    "The last line executes a \"copy this matrix to the clipboard\" command. Now I can paste the result using `Ctrl+V` into a test or quiz I'm creating.\n",
    "```\n",
    "````\n",
    "\n",
    "\n",
    "```\n",
    "function myMatrix = geninvert(N)\n",
    "    arguments\n",
    "        N (1,1) {mustBeInteger, mustBePositive}\n",
    "    end\n",
    "    n = min(8, N)\n",
    "\n",
    "A=randi([-2 5],n);\n",
    "\n",
    "    while (abs(det(A)) > 5) | (abs(det(A)) < .1)\n",
    "        A=randi([-2 5],n);\n",
    "    end\n",
    "\n",
    "myMatrix = A;\n",
    "clipboard('copy',myMatrix);\n",
    "end\n",
    "```"
   ]
  },
  {
   "cell_type": "markdown",
   "metadata": {},
   "source": [
    "## Breaking down the sections\n",
    "\n",
    "### Argument validation\n",
    "\n",
    "The first section constrains the argument $N$, to a positive integer.\n",
    "\n",
    "````{margin}\n",
    "```{note}\n",
    "We're using MATLAB's onboard error-text to alert users to the problem when they input something whacky like 3.14.\n",
    "```\n",
    "````\n",
    "\n",
    "```\n",
    "function myMatrix = geninvert(N)\n",
    "    arguments\n",
    "        N (1,1) {mustBeInteger, mustBePositive}\n",
    "    end\n",
    "    n = min(8, N)\n",
    "```\n",
    "\n",
    "The arguments sets up $N$ to be a positive integer. Weneed it to be a small number, or the function can get caught in a nearly infinite loop, which is why we use the smaller of the two integers, the user-input value or 8.\n",
    "\n",
    "### Loop initialization\n",
    "\n",
    "We have to initialize a matrix since we're using a while loop (see below).\n",
    "\n",
    "```\n",
    "A=randi([-2 5],n);\n",
    "```\n",
    "\n",
    "````{margin}\n",
    "If we execute the code block \n",
    "\n",
    "```\n",
    "geninvertz(5,6)\n",
    "```\n",
    "\n",
    "we get something like this:\n",
    "\n",
    "$$\\left[\\begin{array}{rrrrr}1&0&1&-2&0\\\\2&4&-1&-1&0\\\\-1&3&-2&2&0\\\\5&-1&-2&0&2\\\\0&-1&0&1&0\\\\\\end{array}\\right]$$\n",
    "\n",
    "````\n",
    "\n",
    "\n",
    "\n",
    "### While loop\n",
    "\n",
    "We have two conditions the while loop checks before executing which together force the determinant to be non-zero and less than or equal to 5.\n",
    "\n",
    "```\n",
    "    while (abs(det(A)) > 5) | (abs(det(A)) < .1)\n",
    "        A=randi([-2 5],n);\n",
    "    end\n",
    "```\n",
    "\n",
    "The condition\n",
    "\n",
    "```\n",
    "abs(det(A)) < .1\n",
    "```\n",
    "\n",
    "works as if we were using\n",
    "\n",
    "```\n",
    "abs(det(A)) == 0\n",
    "```\n",
    "\n",
    "but prevents a funky error. Some determinants that are actually zero evaluate to a non-zero value like $\\text{e-}16$. This does not work in general, but here we know we have created a matrix with only integer values, so it's determinant must be an integer, too."
   ]
  },
  {
   "cell_type": "markdown",
   "metadata": {},
   "source": [
    "## The `geninvertz` function code\n",
    "\n",
    "Often, we prefer a more sparse matrix, so we can force some extra zeros in with this version. It works exactly the same as before, we can specify how total zeros we would like. We can randomly get more than we ask for, but not less.\n",
    "\n",
    "```\n",
    "function myMatrix = geninvertz(N,Z)\n",
    "    arguments\n",
    "        N (1,1) {mustBeInteger, mustBePositive}\n",
    "        Z (1,1) {mustBeInteger, mustBePositive}\n",
    "    end\n",
    "    n = min(8, N);\n",
    "    z = min(8, Z^2 - Z);\n",
    "\n",
    "zeroMatrix = zeros(n);\n",
    "countZeros = 0;\n",
    "A=randi([-2 5],n);\n",
    "\n",
    "% Create random matrices until det(a) <= 5 but not zero\n",
    "while (abs(det(A)) > 5) | (abs(det(A)) < .1) | (countZeros < z)\n",
    "    A=randi([-2 5],n);\n",
    "    countZeros = 0;\n",
    "    for i = 1:n\n",
    "        for j = 1:n\n",
    "            if A(i,j)==0\n",
    "                countZeros = countZeros + 1; \n",
    "                \n",
    "            end\n",
    "        end\n",
    "    end\n",
    "\n",
    "myMatrix = A;\n",
    "clipboard('copy',myMatrix);\n",
    "end\n",
    "```"
   ]
  }
 ],
 "metadata": {
  "kernelspec": {
   "display_name": "Matlab",
   "language": "matlab",
   "name": "matlab"
  },
  "language_info": {
   "codemirror_mode": "octave",
   "file_extension": ".m",
   "help_links": [
    {
     "text": "MetaKernel Magics",
     "url": "https://metakernel.readthedocs.io/en/latest/source/README.html"
    }
   ],
   "mimetype": "text/x-octave",
   "name": "matlab",
   "version": "0.16.11"
  }
 },
 "nbformat": 4,
 "nbformat_minor": 4
}