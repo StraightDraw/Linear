{
 "cells": [
  {
   "cell_type": "markdown",
   "metadata": {},
   "source": [
    "# Chapter 1 \n",
    "\n",
    "## Systems of Linear Equations: Algebra\n",
    "\n",
    "````{warning}\n",
    "Reading these materials and doing the excercises is **not enough** to understand the course material. You must also read and study the corresponding chapters and sections in the Margalit and Rabinoff [*Linear Algebra* online textbook](https://textbooks.math.gatech.edu/ila/chap-algebra.html).\n",
    "````\n",
    "The information below is like a study guide though much of the information is copied directly from Margalit and Rabinoff. You will be quizzed and tested not only on how to perform various tasks in MATLAB, but on your understanding of the visualizations and discussions in the textbook. Be sure to study these concepts prior to quizzes and tests."
   ]
  },
  {
   "cell_type": "markdown",
   "metadata": {},
   "source": [
    "### 1.1 Systems of Linear Equations\n",
    "\n",
    "1. Understand the definition of $\\mathbb{R}^n$, and what it means to use $\\mathbb{R}^n$ to label points on a geometric object.\n",
    "2. Visualize \n",
    "    1. Solutions of systems of linear equations.\n",
    "    2. Parameterized solution sets.\n",
    "    \n",
    "**Vocabulary words.** Consistent, inconsistent, solution set."
   ]
  },
  {
   "cell_type": "markdown",
   "metadata": {},
   "source": [
    "### 1.2 Row Reduction\n",
    "\n",
    "1. Learn to replace a system of linear equations by an augmented matrix.\n",
    "2. Learn how the elimination method corresponds to performing row operations on an augmented matrix.\n",
    "3. Understand when a matrix is in (reduced) row echelon form.\n",
    "4. Learn which row reduced matrices come from inconsistent linear systems.\n",
    "5. Key Tasks: the row reduction algorithm.\n",
    "\n",
    "**Vocabulary words.** Row operation, row equivalence, matrix, augmented matrix, pivot, row echelon form (REF), reduced row echelon form (RREF)."
   ]
  },
  {
   "cell_type": "markdown",
   "metadata": {},
   "source": [
    "### 1.3 Parametric Form\n",
    "\n",
    "1. Learn to express the solution set of a system of linear equations in parametric form.\n",
    "3. Understand the three possibilities for the number of solutions of a system of linear equations.\n",
    "3. Key Task: solutions in parametric form.\n",
    "\n",
    "**Vocabulary words.** Pivot, pivot column, free variable, basic variables."
   ]
  },
  {
   "cell_type": "markdown",
   "id": "square-harmony",
   "metadata": {},
   "source": [
    "\n",
    "```{toctree}\n",
    ":hidden:\n",
    ":titlesonly:\n",
    "\n",
    "\n",
    "1\n",
    "2\n",
    "3\n",
    "```\n"
   ]
  }
 ],
 "metadata": {
  "kernelspec": {
   "display_name": "Matlab",
   "language": "matlab",
   "name": "matlab"
  },
  "language_info": {
   "codemirror_mode": "octave",
   "file_extension": ".m",
   "help_links": [
    {
     "text": "MetaKernel Magics",
     "url": "https://metakernel.readthedocs.io/en/latest/source/README.html"
    }
   ],
   "mimetype": "text/x-octave",
   "name": "matlab",
   "version": "0.16.11"
  }
 },
 "nbformat": 4,
 "nbformat_minor": 4
}