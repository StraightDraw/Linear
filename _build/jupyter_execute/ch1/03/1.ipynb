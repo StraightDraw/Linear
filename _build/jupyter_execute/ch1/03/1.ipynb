{
 "cells": [
  {
   "cell_type": "markdown",
   "metadata": {},
   "source": [
    "# 1.3.1 Lab 2\n",
    "\n",
    "Your assignment is to solve three linear systems, and write the solutions in parametric form (vector form). To help entering vectors in Dollar Sign Math (LaTeX), be sure to download and use the `dsm` script included in the Lab Assignment. You can also access the [code for the script here](/../dix/3.ipynb).\n",
    "\n",
    "\n",
    "````{note}\n",
    "Each matrix below is an augmented matrix that represents a linear system that can be solved.\n",
    "````\n",
    "\n",
    "## Part I: RREF with solutions in vector form\n",
    "\n",
    "The augmented matrices in this section have already been row-reduced to REF. You must row-reduce all the way to RREF and solve for all basic variables in terms of the free variables. When that is complete, write the parameterized solutions in vector form.\n",
    "\n",
    "If your birthday is in:\n",
    "\n",
    "* January through April, do J.\n",
    "* May through August, do M.\n",
    "* September through December, do S.\n"
   ]
  },
  {
   "cell_type": "code",
   "execution_count": 46,
   "metadata": {},
   "outputs": [
    {
     "name": "stdout",
     "output_type": "stream",
     "text": [
      "\n"
     ]
    }
   ],
   "source": [
    "J = [5 -1 -2  5  4 ;\n",
    "     0 -1  5  5  1 ;\n",
    "     0  0  0  5 -1 ] ;"
   ]
  },
  {
   "cell_type": "code",
   "execution_count": 47,
   "metadata": {},
   "outputs": [
    {
     "name": "stdout",
     "output_type": "stream",
     "text": [
      "\n"
     ]
    }
   ],
   "source": [
    "M = [-2 -1  1  3 -2 ;\n",
    "      0  0 -2 -1  4 ;\n",
    "      0  0  0 -1  1 ] ;"
   ]
  },
  {
   "cell_type": "code",
   "execution_count": 48,
   "metadata": {},
   "outputs": [
    {
     "name": "stdout",
     "output_type": "stream",
     "text": [
      "\n"
     ]
    }
   ],
   "source": [
    "S = [3 -1  3 -1  5 ; \n",
    "     0  3  0  2  4 ;\n",
    "     0  0  0  2  1 ] ;"
   ]
  },
  {
   "cell_type": "markdown",
   "metadata": {},
   "source": [
    "## Part II: REF, back-substitution and solutions in paramteric form\n",
    "\n",
    "The matrices below are augmented matrices that represent linear systems. Solve the linear system but row-reducing to REF and back-substituting. You may also row-reduce to RREF, if you prefer. Write the solutions in vector form.\n",
    "\n",
    "If your first name begins with:\n",
    "\n",
    "* A through D, do A.\n",
    "* D through J, do D.\n",
    "* J through Z, do J."
   ]
  },
  {
   "cell_type": "code",
   "execution_count": 49,
   "metadata": {},
   "outputs": [
    {
     "name": "stdout",
     "output_type": "stream",
     "text": [
      "\n"
     ]
    }
   ],
   "source": [
    "A = [1  2   2   0 ;\n",
    "     3  6  10  -2 ] ;"
   ]
  },
  {
   "cell_type": "code",
   "execution_count": 50,
   "metadata": {},
   "outputs": [
    {
     "name": "stdout",
     "output_type": "stream",
     "text": [
      "\n"
     ]
    }
   ],
   "source": [
    "D = [4 -1 -2 -9 ;\n",
    "     8 -2 -3 -7 ] ;"
   ]
  },
  {
   "cell_type": "code",
   "execution_count": 51,
   "metadata": {},
   "outputs": [
    {
     "name": "stdout",
     "output_type": "stream",
     "text": [
      "\n"
     ]
    }
   ],
   "source": [
    "J = [-2  1 -1  0 ;\n",
    "      2 -1  1  0 ] ;"
   ]
  },
  {
   "cell_type": "markdown",
   "metadata": {},
   "source": [
    "## Part III: Solve\n",
    "\n",
    "Using either method, find the solutions to the linear systems represented by the augmented matrix below, and write your solutions in vector form.\n",
    "\n",
    "If your last name begins with:\n",
    "\n",
    "* B through G, do B.\n",
    "* H through Q, do H.\n",
    "* R through Z, do R.\n",
    "* A pick any of the three."
   ]
  },
  {
   "cell_type": "code",
   "execution_count": 52,
   "metadata": {},
   "outputs": [
    {
     "name": "stdout",
     "output_type": "stream",
     "text": [
      "\n"
     ]
    }
   ],
   "source": [
    "B = [ 0  0  3 -1  3  4 ;\n",
    "      1  1  0  2  1  0 ;\n",
    "     -1 -1  0 -2  4  5 ;\n",
    "     -1 -1  0 -2  4  5 ] ;"
   ]
  },
  {
   "cell_type": "code",
   "execution_count": 53,
   "metadata": {},
   "outputs": [
    {
     "name": "stdout",
     "output_type": "stream",
     "text": [
      "\n"
     ]
    }
   ],
   "source": [
    "H = [ 3 -2  2 -2  5  1 ;\n",
    "      0  0  0  0 -1  0 ;\n",
    "      9 -6  6 -6 11  3 ;\n",
    "     12 -5 10 -3 24  7 ] ;"
   ]
  },
  {
   "cell_type": "code",
   "execution_count": 54,
   "metadata": {},
   "outputs": [
    {
     "name": "stdout",
     "output_type": "stream",
     "text": [
      "\n"
     ]
    }
   ],
   "source": [
    "R = [ 1  1  2  5  -1  4 ;\n",
    "      5  5 10 30  -5 19 ; \n",
    "     14 14 28 85 -14 53 ; \n",
    "      0  0  1 -2   2  5 ] ;"
   ]
  }
 ],
 "metadata": {
  "kernelspec": {
   "display_name": "Python 3",
   "language": "python",
   "name": "python3"
  },
  "language_info": {
   "codemirror_mode": {
    "name": "ipython",
    "version": 3
   },
   "file_extension": ".py",
   "mimetype": "text/x-python",
   "name": "python",
   "nbconvert_exporter": "python",
   "pygments_lexer": "ipython3",
   "version": "3.6.12"
  }
 },
 "nbformat": 4,
 "nbformat_minor": 4
}