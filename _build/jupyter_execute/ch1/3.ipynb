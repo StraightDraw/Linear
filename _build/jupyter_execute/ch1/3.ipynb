{
 "cells": [
  {
   "cell_type": "markdown",
   "metadata": {},
   "source": [
    "# 1.3 Parameterized Solutions\n",
    "\n",
    "## Example 1"
   ]
  },
  {
   "cell_type": "markdown",
   "metadata": {},
   "source": [
    "### Basic and Free Variables\n",
    "\n",
    "Consider the following example that might occur after row-reducing an augemented matrix:\n",
    "\n",
    "$$A = \\left[\\begin{array}{rrr|r}-2&2&0&6\\\\0&0&-1&2\\\\\\end{array}\\right]$$\n",
    "\n"
   ]
  },
  {
   "cell_type": "markdown",
   "metadata": {},
   "source": [
    "We have two pivots, $b_{11} = -2$ and $b_{23} = -1$. The pivot columns correspond to *basic* variables while the other columns correspond to *free* variables. Let's solve as far we as we can.\n",
    "\n",
    "````{tip}\n",
    "Usually, we back-substitute, starting from bottom-right and working our way back up toward top-left.\n",
    "````\n",
    "\n",
    "Cleary, \n",
    "\n",
    "$$x_3 = - 2$$\n",
    "\n",
    "and $x_2$ is a free variable, but the best we can do for $x_1$ is:\n",
    "\n",
    "$$-2x_1 + 2x_2 = 6$$\n",
    "\n",
    "We solve for the basic variables in terms of any free variables.\n",
    "\n",
    "$$x_1 = -3 + x_2$$"
   ]
  },
  {
   "cell_type": "markdown",
   "metadata": {},
   "source": [
    "### Parameterized Solutions\n",
    "Now we know the solutions have a very specific form. The Margalit and Robanoff textbook uses the following notation to express it:\n",
    "\n",
    "$$(x_1,x_2,x_3) = (-3 +x_2, x_2, -2)$$\n",
    "\n",
    "In the column-vector notation we have been using:\n",
    "\n",
    "$$\\vec x = \\left[\\begin{array}{rrr} -3 & + & x_2 \\\\ && x_2 \\\\ -2 && \\end{array}\\right]$$\n",
    "\n",
    "or\n",
    "\n",
    "$$\\vec x = \\left[\\begin{array}{r} -3\\\\ 0 \\\\ -2\\end{array}\\right] + \\left[\\begin{array}{rrr} x_2 \\\\ x_2 \\\\ 0 \\end{array}\\right]$$ \n",
    "\n",
    "which, after factoring out $x_2$, is equivalent to the vector equations\n",
    "\n",
    "$$\\vec x = \\left[\\begin{array}{r} -3\\\\ 0 \\\\ -2\\end{array}\\right] + \\left[\\begin{array}{rrr} 1 \\\\ 1 \\\\ 0 \\end{array}\\right]x_2$$ \n",
    "\n",
    "where the $x_2$ can be any real number. Since $x_2$ is a free variable, then we can plug any value for it that we like, and the result will still be a solution to our linear system."
   ]
  },
  {
   "cell_type": "markdown",
   "metadata": {},
   "source": [
    "## Example 2\n",
    "\n",
    "$$B = \\left[\\begin{array}{rrr|r}15&9&-4&-17\\\\-5&-3&4&11\\\\0&0&0&1\\\\\\end{array}\\right]$$\n",
    "\n",
    "The steps in the code block will row-reduce the augmented matrix. Only the result is shown below.\n",
    "\n",
    "````{tip}\n",
    "Placing a semicolon at the end of a line tells MATLAB to execute that line but suppress the result.\n",
    "````"
   ]
  },
  {
   "cell_type": "code",
   "execution_count": 23,
   "metadata": {},
   "outputs": [
    {
     "name": "stdout",
     "output_type": "stream",
     "text": [
      "\n",
      "B =\n",
      "\n",
      "    -5    -3     4    11\n",
      "     0     0     8    16\n",
      "     0     0     0     1\n",
      "\n",
      "\n"
     ]
    }
   ],
   "source": [
    "B= [ 15     9    -4   -17 ; -5    -3     4    11 ; 0     0     0     1 ];\n",
    "B([1 2],:) = B([2 1],:);\n",
    "B(2,:) = B(2,:) + 3 * B(1,:)"
   ]
  },
  {
   "cell_type": "markdown",
   "metadata": {},
   "source": [
    "The bottom row of the matrix \n",
    "\n",
    "$$A = \\left[\\begin{array}{rrrr}-5&-3&4&11\\\\0&0&8&16\\\\0&0&0&1\\\\\\end{array}\\right]$$\n",
    "\n",
    "claims that $0 = 1$ which is not possible, which means there are no solutions to this linear system. "
   ]
  },
  {
   "cell_type": "markdown",
   "metadata": {},
   "source": [
    "## Example 3\n",
    "\n",
    "Suppose we have the following REF of the augmented matrix\n",
    "\n",
    "$$C = \\left[\\begin{array}{rrrrr|r}3&-3&0&9&0&6\\\\0&0&1&5&0&1\\\\0&0&0&0&5&5\\\\\\end{array}\\right]$$"
   ]
  },
  {
   "cell_type": "markdown",
   "metadata": {},
   "source": [
    "where we see basic variables $x_1, x_3, x_5$ and free variables $x_2, x_4$. Then $x_5 = 1$,\n",
    "\n",
    "$$x_3 = 1 - 5x_4$$\n",
    "\n",
    "and\n",
    "\n",
    "$$3x_1 = 6 + 3x_2 - 9x_4$$\n",
    "\n",
    "which simplifies to\n",
    "\n",
    "$$x_1 = 2 + x_2 - 3x_4$$\n",
    "\n",
    "Using the Margilit and Robanoff notation: $(x_1,x_2,x_3,x_4, x_5) = (2+x_2 -3x_4,x_2,1-5x_4,x_4,5)$, but we will use the expanded form shown below in this supplement.\n",
    "\n",
    "````{margin}\n",
    "```{warning}\n",
    "We have **not** learned about vectors and vector operations. That's in chapter 2, but the vector arithmetic I'm using is not difficult.\n",
    "```\n",
    "````\n"
   ]
  },
  {
   "cell_type": "markdown",
   "metadata": {},
   "source": [
    "This means our solutions will have the form:\n",
    "\n",
    "$$\\vec x = \\left[ \\begin{array}{ccccc}2 & +x_2 & -3x_4\\\\ &x_2&\\\\1 && -5x_4 \\\\ &&x_4 \\\\ 5&&\\end{array}\\right]= \\left[\\begin{array}{r} 2 \\\\ 0 \\\\ 1 \\\\ 0 \\\\ 5\\end{array}\\right] + \\left[\\begin{array}{c} x_2 \\\\ x_2 \\\\ 0 \\\\ 0 \\\\ 0\\end{array}\\right] + \\left[\\begin{array}{c} -3x_4 \\\\ 0 \\\\ -5x_4 \\\\ x_4 \\\\ 0\\end{array}\\right] $$ "
   ]
  },
  {
   "cell_type": "markdown",
   "metadata": {},
   "source": [
    "which simplifies, after factoring, to\n",
    "\n",
    "$$\\vec x = \\left[\\begin{array}{r} 2 \\\\ 0 \\\\ 1 \\\\ 0 \\\\ 5\\end{array}\\right] + \\left[\\begin{array}{r} 1 \\\\ 1 \\\\ 0 \\\\ 0 \\\\ 0\\end{array}\\right]x_2 + \\left[\\begin{array}{r} -3 \\\\ 0 \\\\ -5 \\\\ 1 \\\\ 0\\end{array}\\right]x_4 $$ \n",
    "\n"
   ]
  },
  {
   "cell_type": "markdown",
   "id": "stuffed-worship",
   "metadata": {},
   "source": [
    "\n",
    "```{toctree}\n",
    ":hidden:\n",
    ":titlesonly:\n",
    "\n",
    "\n",
    "03/1\n",
    "03/2\n",
    "```\n"
   ]
  }
 ],
 "metadata": {
  "kernelspec": {
   "display_name": "Matlab",
   "language": "matlab",
   "name": "matlab"
  },
  "language_info": {
   "codemirror_mode": "octave",
   "file_extension": ".m",
   "help_links": [
    {
     "text": "MetaKernel Magics",
     "url": "https://metakernel.readthedocs.io/en/latest/source/README.html"
    }
   ],
   "mimetype": "text/x-octave",
   "name": "matlab",
   "version": "0.16.11"
  }
 },
 "nbformat": 4,
 "nbformat_minor": 4
}