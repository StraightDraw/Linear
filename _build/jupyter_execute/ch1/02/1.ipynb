{
 "cells": [
  {
   "cell_type": "markdown",
   "metadata": {
    "jupyter": {
     "source_hidden": true
    }
   },
   "source": [
    "# 1.2.1 Lab 1"
   ]
  },
  {
   "cell_type": "markdown",
   "metadata": {},
   "source": [
    "This lab includes three problems. In each section, you will complete only one of the problems. Read the directions carefully. You must use MATLAB commands to accomplish the task, and you may not use the `rref` command except to check your work. You must show all steps.\n",
    "\n",
    "When done, export your work as HTML or PDF and upload to the D2L Lab 1 assignment."
   ]
  },
  {
   "cell_type": "markdown",
   "metadata": {},
   "source": [
    "## Part I: REF\n",
    "\n",
    "You must row-reduce one of the following matrices to REF.\n",
    "\n",
    "If your birthday is in:\n",
    "\n",
    "* January through April, do J.\n",
    "* May through August, do M.\n",
    "* September through December, do S.\n",
    "\n",
    "You may use any variable you like. I had begun to run out, and using the same variable twice causes a good deal of confusion. If you prefer working with $M$ to the letter I gave you, switch to $M$."
   ]
  },
  {
   "cell_type": "code",
   "execution_count": 2,
   "metadata": {},
   "outputs": [
    {
     "name": "stdout",
     "output_type": "stream",
     "text": [
      "\n"
     ]
    }
   ],
   "source": [
    "J = [ 3     2 ;\n",
    "      0    -1 ;\n",
    "     -1     0 ;\n",
    "      0    -1 ;\n",
    "      3     1 ];\n",
    "      "
   ]
  },
  {
   "cell_type": "code",
   "execution_count": 3,
   "metadata": {},
   "outputs": [
    {
     "name": "stdout",
     "output_type": "stream",
     "text": [
      "\n"
     ]
    }
   ],
   "source": [
    "M = [ -1     0 ;\n",
    "       0     1 ;\n",
    "      -1     6 ;\n",
    "       1    -6 ;\n",
    "       0     1 ];"
   ]
  },
  {
   "cell_type": "code",
   "execution_count": 4,
   "metadata": {},
   "outputs": [
    {
     "name": "stdout",
     "output_type": "stream",
     "text": [
      "\n"
     ]
    }
   ],
   "source": [
    "S = [ 9    -2 ;\n",
    "     -4     1 ;\n",
    "      1     0 ;\n",
    "     -4     1 ;\n",
    "      0    -1 ];"
   ]
  },
  {
   "cell_type": "markdown",
   "metadata": {},
   "source": [
    "## Part II\n",
    "\n",
    "You must row-reduce one of the following matrices to REF. Do not go further than REF. You can use text to show your algebra (back-substitution).\n",
    "\n",
    "If your **last name** begins with:\n",
    "\n",
    "* B through G, do B.\n",
    "* H through P, do H.\n",
    "* R through Z, do R.\n",
    "* Pick any of the three."
   ]
  },
  {
   "cell_type": "code",
   "execution_count": 5,
   "metadata": {},
   "outputs": [
    {
     "name": "stdout",
     "output_type": "stream",
     "text": [
      "\n"
     ]
    }
   ],
   "source": [
    "B = [ 0     0     3    -1    -1 ;\n",
    "      1    -2     7    -2    -4 ;\n",
    "      0     0     3    -2    -1 ;\n",
    "      0     5    -1    -1     1 ;\n",
    "      0     0     0    -3     2 ];"
   ]
  },
  {
   "cell_type": "code",
   "execution_count": 6,
   "metadata": {},
   "outputs": [
    {
     "name": "stdout",
     "output_type": "stream",
     "text": [
      "\n"
     ]
    }
   ],
   "source": [
    "H = [ -5     0     5    15    14 ;\n",
    "       0     0     1     3     0 ;\n",
    "       0     5    -1    -2     1 ;\n",
    "       2     0    -2    -5    -5 ;\n",
    "       0     0     2     6    -1 ];"
   ]
  },
  {
   "cell_type": "code",
   "execution_count": 7,
   "metadata": {},
   "outputs": [
    {
     "name": "stdout",
     "output_type": "stream",
     "text": [
      "\n"
     ]
    }
   ],
   "source": [
    "R = [ 0     0     0    -6    -7 ;\n",
    "     -1     0     2     4    19 ;\n",
    "      0     1     0    13    16 ;\n",
    "      0     2     0     5     8 ;\n",
    "     -3     0     7    12    62 ];\n",
    " "
   ]
  },
  {
   "cell_type": "markdown",
   "metadata": {},
   "source": [
    "## Part III: REF and solve\n",
    "\n",
    "You must row-reduce one of the following matrices to REF and solve it. Each matrix below represents an augmented matrix. The first three columns are the coefficient matrix $A$. The last column is a vector $\\vec v$. Your job is to find the vector $\\vec x$ such that\n",
    "\n",
    "$$A\\vec x = \\vec v$$\n",
    "\n",
    "If your **first name** begins with:\n",
    "\n",
    "* A through D, do A.\n",
    "* E through J, do E.\n",
    "* K through Z, do K.\n",
    "\n",
    "You may use any variable letter you like. I had begun to run out because using the same variable twice in a dcoument can cause a good deal of confusion."
   ]
  },
  {
   "cell_type": "code",
   "execution_count": 8,
   "metadata": {},
   "outputs": [
    {
     "name": "stdout",
     "output_type": "stream",
     "text": [
      "\n"
     ]
    }
   ],
   "source": [
    "A = [ -6     2     0    -5 ; \n",
    "       0     0     0     1 ;\n",
    "      -4     1     0    -3 ];      "
   ]
  },
  {
   "cell_type": "code",
   "execution_count": 9,
   "metadata": {},
   "outputs": [
    {
     "name": "stdout",
     "output_type": "stream",
     "text": [
      "\n"
     ]
    }
   ],
   "source": [
    "E = [ -4   -10     3     3 ;\n",
    "       0     1    -2     0 ;\n",
    "       5    14    -3     0 ];\n",
    "       "
   ]
  },
  {
   "cell_type": "code",
   "execution_count": 10,
   "metadata": {},
   "outputs": [
    {
     "name": "stdout",
     "output_type": "stream",
     "text": [
      "\n"
     ]
    }
   ],
   "source": [
    "K = [ -6    -1   -14     0 ; \n",
    "       2     1     6     0 ;\n",
    "       0     1     0    -1 ];"
   ]
  }
 ],
 "metadata": {
  "kernelspec": {
   "display_name": "Python 3",
   "language": "python",
   "name": "python3"
  },
  "language_info": {
   "codemirror_mode": {
    "name": "ipython",
    "version": 3
   },
   "file_extension": ".py",
   "mimetype": "text/x-python",
   "name": "python",
   "nbconvert_exporter": "python",
   "pygments_lexer": "ipython3",
   "version": "3.6.12"
  }
 },
 "nbformat": 4,
 "nbformat_minor": 4
}