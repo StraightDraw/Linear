{
 "cells": [
  {
   "cell_type": "markdown",
   "metadata": {},
   "source": [
    "# 1.1 Row Operations"
   ]
  },
  {
   "cell_type": "markdown",
   "metadata": {},
   "source": [
    "Consider the matrix equation: $A\\vec x=\\vec v$ where \n",
    "\n",
    "$$A=\\left[\\begin{array}{rrr}2&0&-10\\\\0&0&-2\\\\1&1&-3\\\\\\end{array}\\right] \\hspace{1cm}\\text{and} \\hspace{1cm}\\vec v = \\left[\\begin{array}{r}-4\\\\2\\\\3\\\\\\end{array}\\right]$$"
   ]
  },
  {
   "cell_type": "markdown",
   "metadata": {},
   "source": [
    "We can create an example matrix and the vector."
   ]
  },
  {
   "cell_type": "code",
   "execution_count": 4,
   "metadata": {},
   "outputs": [
    {
     "name": "stdout",
     "output_type": "stream",
     "text": [
      "\n",
      "A =\n",
      "\n",
      "     2     0   -10\n",
      "     0     0    -2\n",
      "     1     1    -3\n",
      "\n",
      "\n"
     ]
    }
   ],
   "source": [
    "A=[2 0 -10 ; 0 0 -2 ; 1 1 -3]"
   ]
  },
  {
   "cell_type": "code",
   "execution_count": 5,
   "metadata": {},
   "outputs": [
    {
     "name": "stdout",
     "output_type": "stream",
     "text": [
      "\n",
      "v =\n",
      "\n",
      "    -4\n",
      "     2\n",
      "     3\n",
      "\n",
      "\n"
     ]
    }
   ],
   "source": [
    "v=[-4 ; 2 ; 3]"
   ]
  },
  {
   "cell_type": "markdown",
   "metadata": {},
   "source": [
    "Matlab treats $\\vec v$ as a $3\\times 1$ matrix, and all built-in Matlab matrix operations work for vectors just as they do for marices."
   ]
  },
  {
   "cell_type": "markdown",
   "metadata": {},
   "source": [
    "## Augmented Matrices\n",
    "\n",
    "The solution vector $\\vec x$ can be found by row-reducing the corresponding augmented matrix:\n",
    "\n",
    "$$[A|\\vec v]=\\left[\\begin{array}{rrr|r}2&0&-10&-4\\\\0&0&-2&2\\\\1&1&-3&3\\\\\\end{array}\\right]$$\n",
    "\n",
    "````{margin}\n",
    "```{note}\n",
    "Joining two objects is often called *concatenation* in programming languages.\n",
    "```\n",
    "````\n",
    "We create the augmented matrix in Matlab using the code block below. The brackets say \"join these two matrices into one\" which MATLAB will do if its possible."
   ]
  },
  {
   "cell_type": "code",
   "execution_count": 7,
   "metadata": {},
   "outputs": [
    {
     "name": "stdout",
     "output_type": "stream",
     "text": [
      "\n",
      "B =\n",
      "\n",
      "     2     0   -10    -4\n",
      "     0     0    -2     2\n",
      "     1     1    -3     3\n",
      "\n",
      "\n"
     ]
    }
   ],
   "source": [
    "B=[A,v]"
   ]
  },
  {
   "cell_type": "markdown",
   "metadata": {},
   "source": [
    "Now the column vector $\\vec v$  is the fourth column of the matrix. To refer to individual elements of matrix , we can specify its row and column:"
   ]
  },
  {
   "cell_type": "markdown",
   "metadata": {},
   "source": [
    "To refer to an entire row (or column), we use a colon which is Matlab's indexing operator:"
   ]
  },
  {
   "cell_type": "code",
   "execution_count": 8,
   "metadata": {},
   "outputs": [
    {
     "name": "stdout",
     "output_type": "stream",
     "text": [
      "\n",
      "ans =\n",
      "\n",
      "     0     0    -2     2\n",
      "\n",
      "\n"
     ]
    }
   ],
   "source": [
    "B(2,:)"
   ]
  },
  {
   "cell_type": "markdown",
   "metadata": {},
   "source": [
    "With the colon is in the column position, all elements in Row 2 are displayed as Matlab indexes through columns 1 through 4. We will use this indexing feature to create row operations."
   ]
  },
  {
   "cell_type": "markdown",
   "metadata": {},
   "source": [
    "## Row Operations\n",
    "\n",
    "The three elementary row operations are:\n",
    "1. Swapping two rows\n",
    "2. Multiplying a row by a non-zero scalar\n",
    "3. Replacing any row with the sum of that row and a scalar multiple of another row"
   ]
  },
  {
   "cell_type": "markdown",
   "metadata": {},
   "source": [
    "### Swapping Rows\n",
    "In the augmented matrix B, we see that Row 2 has a pivot in the third position. Thus, we can make progress by swapping Row 2 and Row 3."
   ]
  },
  {
   "cell_type": "code",
   "execution_count": 71,
   "metadata": {},
   "outputs": [
    {
     "name": "stdout",
     "output_type": "stream",
     "text": [
      "\n",
      "B =\n",
      "\n",
      "     2     0   -10    -4\n",
      "     1     1    -3     3\n",
      "     0     0    -2     2\n",
      "\n",
      "\n"
     ]
    }
   ],
   "source": [
    "B([2 3],:)=B([3 2],:)"
   ]
  },
  {
   "cell_type": "markdown",
   "metadata": {},
   "source": [
    "We can swap multiple rows at once. Try this."
   ]
  },
  {
   "cell_type": "code",
   "execution_count": 72,
   "metadata": {},
   "outputs": [
    {
     "name": "stdout",
     "output_type": "stream",
     "text": [
      "\n",
      "C =\n",
      "\n",
      "     0     0    -2     2\n",
      "     1     1    -3     3\n",
      "     2     0   -10    -4\n",
      "\n",
      "\n"
     ]
    }
   ],
   "source": [
    "C=B;\n",
    "C([1 2 3],:)=C([3 2 1],:)"
   ]
  },
  {
   "cell_type": "markdown",
   "metadata": {},
   "source": [
    "````{hint}\n",
    "Save your matrix into a new matrix before operating on it. This keeps a clean copy of your matrix plus the updated versions separate.\n",
    "````\n",
    "\n",
    "As you can in the above example, the lists in the brackets control how the rows will be swapped. Experiment with different values, and see what happens."
   ]
  },
  {
   "cell_type": "markdown",
   "metadata": {},
   "source": [
    "### Multiplying a Row by a Non-zero Scalar\n",
    "Let's return to matrix B. Multiplying through the first row by 1/2 will turn the first pivot into a one:"
   ]
  },
  {
   "cell_type": "code",
   "execution_count": 73,
   "metadata": {},
   "outputs": [
    {
     "name": "stdout",
     "output_type": "stream",
     "text": [
      "\n",
      "b =\n",
      "\n",
      "     2     0   -10    -4\n",
      "     1     1    -3     3\n",
      "     0     0    -2     2\n",
      "\n",
      "\n"
     ]
    }
   ],
   "source": [
    "b=B"
   ]
  },
  {
   "cell_type": "markdown",
   "metadata": {},
   "source": [
    "````{admonition} Pro Tip\n",
    ":class: tip\n",
    "Use lower case letters for matrices while performing row operations. They are a whole lot easier to type. Now $B$ will be our clean copy of the original augmented matrix.\n",
    "````"
   ]
  },
  {
   "cell_type": "code",
   "execution_count": 74,
   "metadata": {},
   "outputs": [
    {
     "name": "stdout",
     "output_type": "stream",
     "text": [
      "\n",
      "b =\n",
      "\n",
      "     1     0    -5    -2\n",
      "     1     1    -3     3\n",
      "     0     0    -2     2\n",
      "\n",
      "\n"
     ]
    }
   ],
   "source": [
    "b(1,:)=.5*b(1,:)"
   ]
  },
  {
   "cell_type": "markdown",
   "metadata": {},
   "source": [
    "### Replacing a Row with the Sum of that Row and a Scalar Multiple of Another Row\n",
    "We would now like to subtract Row 2 minus Row 1:\n",
    "\n",
    "so that entry , and thus we will have all zeros below the first pivot:"
   ]
  },
  {
   "cell_type": "code",
   "execution_count": 75,
   "metadata": {},
   "outputs": [
    {
     "name": "stdout",
     "output_type": "stream",
     "text": [
      "\n",
      "b =\n",
      "\n",
      "     1     0    -5    -2\n",
      "     0     1     2     5\n",
      "     0     0    -2     2\n",
      "\n",
      "\n"
     ]
    }
   ],
   "source": [
    "b(2,:)=b(2,:)-b(1,:)"
   ]
  },
  {
   "cell_type": "markdown",
   "metadata": {},
   "source": [
    "We can replace Row 2 with the sum of Rows 2 and 3:"
   ]
  },
  {
   "cell_type": "code",
   "execution_count": 76,
   "metadata": {},
   "outputs": [
    {
     "name": "stdout",
     "output_type": "stream",
     "text": [
      "\n",
      "b =\n",
      "\n",
      "     1     0    -5    -2\n",
      "     0     1     0     7\n",
      "     0     0    -2     2\n",
      "\n",
      "\n"
     ]
    }
   ],
   "source": [
    "b(2,:)=b(2,:)+b(3,:)"
   ]
  },
  {
   "cell_type": "markdown",
   "metadata": {},
   "source": [
    "Continuing to RREF\n",
    "Let's multiply Row 3 by :"
   ]
  },
  {
   "cell_type": "code",
   "execution_count": 77,
   "metadata": {},
   "outputs": [
    {
     "name": "stdout",
     "output_type": "stream",
     "text": [
      "\n",
      "b =\n",
      "\n",
      "     1     0    -5    -2\n",
      "     0     1     0     7\n",
      "     0     0     1    -1\n",
      "\n",
      "\n"
     ]
    }
   ],
   "source": [
    "b(3,:)=b(3,:)/-2"
   ]
  },
  {
   "cell_type": "markdown",
   "metadata": {},
   "source": [
    "To get all zeros above the third pivot, we need to add 5 times Row 3 to Row 1:"
   ]
  },
  {
   "cell_type": "code",
   "execution_count": 78,
   "metadata": {},
   "outputs": [
    {
     "name": "stdout",
     "output_type": "stream",
     "text": [
      "\n",
      "b =\n",
      "\n",
      "     1     0     0    -7\n",
      "     0     1     0     7\n",
      "     0     0     1    -1\n",
      "\n",
      "\n"
     ]
    }
   ],
   "source": [
    "b(1,:)=b(1,:)+5*b(3,:)"
   ]
  },
  {
   "cell_type": "markdown",
   "metadata": {},
   "source": [
    "Since the matrix is now in RREF, the solution is . \n",
    "Verifying the Solution\n",
    "Let's check our solution. First, we need a Matlab version of :"
   ]
  },
  {
   "cell_type": "code",
   "execution_count": 79,
   "metadata": {},
   "outputs": [
    {
     "name": "stdout",
     "output_type": "stream",
     "text": [
      "\n",
      "x =\n",
      "\n",
      "    -7\n",
      "     7\n",
      "    -1\n",
      "\n",
      "\n"
     ]
    }
   ],
   "source": [
    "x=b(:,4)"
   ]
  },
  {
   "cell_type": "markdown",
   "metadata": {},
   "source": [
    "We can verify that  as required:"
   ]
  },
  {
   "cell_type": "code",
   "execution_count": 80,
   "metadata": {},
   "outputs": [
    {
     "name": "stdout",
     "output_type": "stream",
     "text": [
      "\n",
      "ans =\n",
      "\n",
      "    -4\n",
      "     2\n",
      "     3\n",
      "\n",
      "\n",
      "v =\n",
      "\n",
      "    -4\n",
      "     2\n",
      "     3\n",
      "\n",
      "\n"
     ]
    }
   ],
   "source": [
    "A*x\n",
    "v"
   ]
  },
  {
   "cell_type": "markdown",
   "metadata": {},
   "source": [
    "We can also use a logical operator to check:"
   ]
  },
  {
   "cell_type": "code",
   "execution_count": 81,
   "metadata": {},
   "outputs": [
    {
     "name": "stdout",
     "output_type": "stream",
     "text": [
      "\n",
      "ans =\n",
      "\n",
      "  3x1 logical array\n",
      "\n",
      "   1\n",
      "   1\n",
      "   1\n",
      "\n",
      "\n"
     ]
    }
   ],
   "source": [
    "A*x == v"
   ]
  },
  {
   "cell_type": "markdown",
   "metadata": {},
   "source": [
    "If the two expressions were not equal, we would get an array of zero's instead. We can also check whether our has produced the correct RREF by the using function RREF."
   ]
  },
  {
   "cell_type": "code",
   "execution_count": 82,
   "metadata": {},
   "outputs": [
    {
     "name": "stdout",
     "output_type": "stream",
     "text": [
      "\n",
      "ans =\n",
      "\n",
      "     1     0     0    -7\n",
      "     0     1     0     7\n",
      "     0     0     1    -1\n",
      "\n",
      "\n"
     ]
    }
   ],
   "source": [
    "rref([A,v])"
   ]
  },
  {
   "cell_type": "markdown",
   "metadata": {},
   "source": [
    "Hence, we have verified that we have the correct solution."
   ]
  },
  {
   "cell_type": "markdown",
   "metadata": {},
   "source": [
    "\n",
    "```{toctree}\n",
    ":hidden:\n",
    ":titlesonly:\n",
    "\n",
    "\n",
    "01/1\n",
    "01/2\n",
    "```\n"
   ]
  }
 ],
 "metadata": {
  "kernelspec": {
   "display_name": "Matlab",
   "language": "matlab",
   "name": "matlab"
  },
  "language_info": {
   "codemirror_mode": "octave",
   "file_extension": ".m",
   "help_links": [
    {
     "text": "MetaKernel Magics",
     "url": "https://metakernel.readthedocs.io/en/latest/source/README.html"
    }
   ],
   "mimetype": "text/x-octave",
   "name": "matlab",
   "version": "0.16.11"
  }
 },
 "nbformat": 4,
 "nbformat_minor": 4
}