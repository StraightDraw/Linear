{
 "cells": [
  {
   "cell_type": "markdown",
   "metadata": {},
   "source": [
    "# 1.1.2 Homework"
   ]
  },
  {
   "cell_type": "markdown",
   "metadata": {},
   "source": [
    "This is page is under construction.\n",
    "\n",
    "Consider the matrix equation: $A\\vec x=\\vec v$ where \n",
    "\n",
    "$$A=\\left[\\begin{array}{rrr}2&0&-10\\\\0&0&-2\\\\1&1&-3\\\\\\end{array}\\right] \\hspace{1cm}\\text{and} \\hspace{1cm}\\vec v = \\left[\\begin{array}{r}-4\\\\2\\\\3\\\\\\end{array}\\right]$$"
   ]
  },
  {
   "cell_type": "markdown",
   "metadata": {},
   "source": [
    "We can create an example matrix and the vector."
   ]
  }
 ],
 "metadata": {
  "kernelspec": {
   "display_name": "Matlab",
   "language": "matlab",
   "name": "matlab"
  },
  "language_info": {
   "codemirror_mode": "octave",
   "file_extension": ".m",
   "help_links": [
    {
     "text": "MetaKernel Magics",
     "url": "https://metakernel.readthedocs.io/en/latest/source/README.html"
    }
   ],
   "mimetype": "text/x-octave",
   "name": "matlab",
   "version": "0.16.11"
  }
 },
 "nbformat": 4,
 "nbformat_minor": 4
}