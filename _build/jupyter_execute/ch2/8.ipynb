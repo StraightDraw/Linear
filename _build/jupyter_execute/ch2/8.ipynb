{
 "cells": [
  {
   "cell_type": "markdown",
   "metadata": {},
   "source": [
    "# 2.8 Bases as Coordinate Systems"
   ]
  },
  {
   "cell_type": "markdown",
   "metadata": {},
   "source": [
    "The standard basis vectors are the columns of the $n\\times n$ identity matrices which are generally referred to as $I_n$."
   ]
  },
  {
   "cell_type": "markdown",
   "metadata": {},
   "source": [
    "##  Identity matrix and standard basis for $\\mathbb R^2$:"
   ]
  },
  {
   "cell_type": "code",
   "execution_count": 2,
   "metadata": {},
   "outputs": [
    {
     "name": "stdout",
     "output_type": "stream",
     "text": [
      "\n",
      "I2 =\n",
      "\n",
      "     1     0\n",
      "     0     1\n",
      "\n",
      "\n"
     ]
    }
   ],
   "source": [
    "I2 = eye(2)"
   ]
  },
  {
   "cell_type": "markdown",
   "metadata": {},
   "source": [
    "We refer to the standard basis vectors as $\\vec e_1$ and $\\vec e_2$."
   ]
  },
  {
   "cell_type": "code",
   "execution_count": 4,
   "metadata": {},
   "outputs": [
    {
     "name": "stdout",
     "output_type": "stream",
     "text": [
      "\n",
      "e1 =\n",
      "\n",
      "     1\n",
      "     0\n",
      "\n",
      "\n"
     ]
    }
   ],
   "source": [
    "e1 = I2(:,1)"
   ]
  },
  {
   "cell_type": "code",
   "execution_count": 5,
   "metadata": {},
   "outputs": [
    {
     "name": "stdout",
     "output_type": "stream",
     "text": [
      "\n",
      "e2 =\n",
      "\n",
      "     0\n",
      "     1\n",
      "\n",
      "\n"
     ]
    }
   ],
   "source": [
    "e2 = I2(:,2)"
   ]
  },
  {
   "cell_type": "markdown",
   "metadata": {},
   "source": [
    "##  Identity matrix and standard basis for $\\mathbb R^3$"
   ]
  },
  {
   "cell_type": "code",
   "execution_count": 7,
   "metadata": {},
   "outputs": [
    {
     "name": "stdout",
     "output_type": "stream",
     "text": [
      "\n",
      "I3 =\n",
      "\n",
      "     1     0     0\n",
      "     0     1     0\n",
      "     0     0     1\n",
      "\n",
      "\n"
     ]
    }
   ],
   "source": [
    "I3 = eye(3)"
   ]
  },
  {
   "cell_type": "markdown",
   "metadata": {},
   "source": [
    "Notice that we still use the vectors $\\vec e_1$ and $\\vec e_2$ even though we are referring to 3-component vectors now."
   ]
  },
  {
   "cell_type": "code",
   "execution_count": 8,
   "metadata": {},
   "outputs": [
    {
     "name": "stdout",
     "output_type": "stream",
     "text": [
      "\n",
      "e1 =\n",
      "\n",
      "     1\n",
      "     0\n",
      "     0\n",
      "\n",
      "\n"
     ]
    }
   ],
   "source": [
    "e1 = I3(:,1)"
   ]
  },
  {
   "cell_type": "code",
   "execution_count": 10,
   "metadata": {},
   "outputs": [
    {
     "name": "stdout",
     "output_type": "stream",
     "text": [
      "\n",
      "e2 =\n",
      "\n",
      "     0\n",
      "     1\n",
      "     0\n",
      "\n",
      "\n"
     ]
    }
   ],
   "source": [
    "e2 = I3(:,2)"
   ]
  },
  {
   "cell_type": "code",
   "execution_count": 11,
   "metadata": {},
   "outputs": [
    {
     "name": "stdout",
     "output_type": "stream",
     "text": [
      "\n",
      "e3 =\n",
      "\n",
      "     0\n",
      "     0\n",
      "     1\n",
      "\n",
      "\n"
     ]
    }
   ],
   "source": [
    "e3 = I3(:,3)"
   ]
  },
  {
   "cell_type": "markdown",
   "metadata": {},
   "source": [
    "## Alternate basis $\\mathcal B$"
   ]
  },
  {
   "cell_type": "markdown",
   "metadata": {},
   "source": [
    "Any set of linearly independent vectors $\\{\\vec v_1,\\vec v_2, \\dots , \\vec v_m \\}$ may serve as a basis for the subset it spans. For example, suppose that the vectors $\\{\\vec v_1,\\vec v_2, \\vec v_3 \\}$ all live in $\\mathbb R^3$ and that they are linearly independent. Then, we can use \n",
    "\n",
    "$$\\mathcal B = \\{\\vec v_1,\\vec v_2, \\vec v_3 \\}$$\n",
    "\n",
    "as the basis for $\\mathbb R^3$. To see why, let's create a linearly independent set.\n",
    "\n",
    "### Example: Alternate basis for $\\mathbb R^3$"
   ]
  },
  {
   "cell_type": "markdown",
   "metadata": {},
   "source": [
    "Suppose that we have the following vectors:\n",
    "\n",
    "$$\\vec v_1 =\\left[\\begin{array}{r}-1\\\\1\\\\0\\\\\\end{array}\\right],\\vec v_2=\\left[\\begin{array}{r}1\\\\9\\\\5\\\\\\end{array}\\right],\\vec v_3=\\left[\\begin{array}{r}-1\\\\-1\\\\-2\\\\\\end{array}\\right] \\hspace{1cm}\\text{and} \\hspace{1cm}\\vec w=\\left[\\begin{array}{r}-3\\\\5\\\\2\\\\\\end{array}\\right]$$"
   ]
  },
  {
   "cell_type": "markdown",
   "metadata": {},
   "source": [
    "#### Verifying $\\{\\vec v_1,\\vec v_2, \\vec v_3 \\}$ is a basis for $\\mathbb R^3$"
   ]
  },
  {
   "cell_type": "markdown",
   "metadata": {},
   "source": [
    "Let's create a matrix whose columns are the candidates for the basis vectors, then row-reduce."
   ]
  },
  {
   "cell_type": "code",
   "execution_count": 18,
   "metadata": {},
   "outputs": [
    {
     "name": "stdout",
     "output_type": "stream",
     "text": [
      "\n",
      "B =\n",
      "\n",
      "    -1     1    -1\n",
      "     1     9    -1\n",
      "     0     5    -2\n",
      "\n",
      "\n"
     ]
    }
   ],
   "source": [
    "B = [-1 1 -1 ; 1 9 -1 ; 0 5 -2 ]"
   ]
  },
  {
   "cell_type": "code",
   "execution_count": 19,
   "metadata": {},
   "outputs": [
    {
     "name": "stdout",
     "output_type": "stream",
     "text": [
      "\n",
      "ans =\n",
      "\n",
      "     1     0     0\n",
      "     0     1     0\n",
      "     0     0     1\n",
      "\n",
      "\n"
     ]
    }
   ],
   "source": [
    "rref(B)"
   ]
  },
  {
   "cell_type": "markdown",
   "metadata": {},
   "source": [
    "Because we have 3 pivots, we know the $\\text{Span}\\{\\vec v_1,\\vec v_2, \\vec v_3 \\}$ is a 3-dimensional subspace of $\\mathbb R^3$, and the only 3D subspace of $\\mathbb R^3$ is $\\mathbb R^3$ itself."
   ]
  },
  {
   "cell_type": "markdown",
   "metadata": {},
   "source": [
    "#### Finding the $\\mathcal B$-coordinates of a point"
   ]
  },
  {
   "cell_type": "markdown",
   "metadata": {},
   "source": [
    "We want to determine how to write the vector $\\vec w$ as a linear combination of the basis vectors. The coordinates $c_1, c_2, c_3$ will be the coefficients of the linear dependence relation when we solve the vector equations\n",
    "\n",
    "$$c_1\\vec v_1+c_2\\vec v_2+c_3 \\vec v_3=\\vec w$$\n",
    "\n",
    "which is equivalent to the matrix equations\n",
    "\n",
    "$$B\\vec c = \\vec w$$\n",
    "\n",
    "where the matrix $B$ has as its columns the vectors from the basis $\\mathcal B$. To do so, we row reduce the augmented matrix."
   ]
  },
  {
   "cell_type": "code",
   "execution_count": 38,
   "metadata": {},
   "outputs": [
    {
     "name": "stdout",
     "output_type": "stream",
     "text": [
      "\n",
      "B =\n",
      "\n",
      "    -1     1    -1\n",
      "     1     9    -1\n",
      "     0     5    -2\n",
      "\n",
      "\n",
      "w =\n",
      "\n",
      "    -3\n",
      "     5\n",
      "     2\n",
      "\n",
      "\n"
     ]
    }
   ],
   "source": [
    "B = [-1 1 -1 ; 1 9 -1 ; 0 5 -2 ]\n",
    "w = [-3 ; 5 ; 2]"
   ]
  },
  {
   "cell_type": "markdown",
   "metadata": {},
   "source": [
    "We augment the matrix and row reduce $[B,\\vec w]$."
   ]
  },
  {
   "cell_type": "code",
   "execution_count": 39,
   "metadata": {},
   "outputs": [
    {
     "name": "stdout",
     "output_type": "stream",
     "text": [
      "\n",
      "A =\n",
      "\n",
      "    -1     1    -1    -3\n",
      "     1     9    -1     5\n",
      "     0     5    -2     2\n",
      "\n",
      "\n"
     ]
    }
   ],
   "source": [
    "A = [ B, w ]"
   ]
  },
  {
   "cell_type": "code",
   "execution_count": 40,
   "metadata": {},
   "outputs": [
    {
     "name": "stdout",
     "output_type": "stream",
     "text": [
      "\n",
      "ans =\n",
      "\n",
      "     1     0     0     4\n",
      "     0     1     0     0\n",
      "     0     0     1    -1\n",
      "\n",
      "\n"
     ]
    }
   ],
   "source": [
    "rref(A)"
   ]
  },
  {
   "cell_type": "markdown",
   "metadata": {},
   "source": [
    "The linear dependence relation tells use the linear combination of the basis vectors that will produce $\\vec w$.\n",
    "\n",
    "$$-4\\vec v_1 +(0)\\vec v_2 +\\vec v_3 = w \\hspace{1cm}\\implies \\hspace{1cm} \\vec c = \\left[\\begin{array}{r}-4\\\\0\\\\1\\\\\\end{array}\\right]$$\n",
    "\n",
    "We can verify using the columns of matrix $B$."
   ]
  },
  {
   "cell_type": "code",
   "execution_count": 41,
   "metadata": {},
   "outputs": [
    {
     "name": "stdout",
     "output_type": "stream",
     "text": [
      "\n",
      "b1 =\n",
      "\n",
      "    -1\n",
      "     1\n",
      "     0\n",
      "\n",
      "\n",
      "b3 =\n",
      "\n",
      "    -1\n",
      "    -1\n",
      "    -2\n",
      "\n",
      "\n",
      "ans =\n",
      "\n",
      "     3\n",
      "    -5\n",
      "    -2\n",
      "\n",
      "\n"
     ]
    }
   ],
   "source": [
    "b1 = B(:,1)\n",
    "b3 = B(:,3)\n",
    "-4 * b1 + b3"
   ]
  },
  {
   "cell_type": "markdown",
   "metadata": {},
   "source": [
    "The $\\mathcal B$-coordinates of the vector $\\vec w$ are the coefficients of the linear dependence relation. This means we have\n",
    "\n",
    "$$\\vec w_\\mathcal B = \\left[\\begin{array}{r}-4\\\\0\\\\1\\\\\\end{array}\\right]_\\mathcal B$$\n",
    "\n",
    "where the subscript indicates the corrdinates used to represent the vector. To convert the vector back to standard coordinates, we simply multiply the matrix $B$ by the coordinates from the linear dependence relation."
   ]
  },
  {
   "cell_type": "code",
   "execution_count": 43,
   "metadata": {},
   "outputs": [
    {
     "name": "stdout",
     "output_type": "stream",
     "text": [
      "\n",
      "ans =\n",
      "\n",
      "    -3\n",
      "     5\n",
      "     2\n",
      "\n",
      "\n"
     ]
    }
   ],
   "source": [
    "B * [ 4 ; 0 ; -1]"
   ]
  }
 ],
 "metadata": {
  "kernelspec": {
   "display_name": "Matlab",
   "language": "matlab",
   "name": "matlab"
  },
  "language_info": {
   "codemirror_mode": "octave",
   "file_extension": ".m",
   "help_links": [
    {
     "text": "MetaKernel Magics",
     "url": "https://metakernel.readthedocs.io/en/latest/source/README.html"
    }
   ],
   "mimetype": "text/x-octave",
   "name": "matlab",
   "version": "0.16.11"
  }
 },
 "nbformat": 4,
 "nbformat_minor": 4
}