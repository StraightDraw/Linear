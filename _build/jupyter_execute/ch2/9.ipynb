{
 "cells": [
  {
   "cell_type": "markdown",
   "metadata": {},
   "source": [
    "# 2.9 The Rank Theorem"
   ]
  },
  {
   "cell_type": "markdown",
   "metadata": {},
   "source": [
    "We will repeat the following important theorem from the Margalit textbook.\n",
    "\n",
    "Rank of a matrix $A$\n",
    ": The dimension of the column space of $A$ is the *rank+ of $A$.\n",
    "\n",
    "Nullity of a matrix $A$ \n",
    ": The dimension of the null space of $A$ is the *nullity* of $A$.\n",
    "\n",
    "\n",
    "**Rank Theorem**\n",
    "The rank of matrix $A$ plus the nullity of $A$ equals the number of columns in $A$. If $A$ is an $m\\times n$ matrix, then\n",
    "\n",
    "$$\\text{rank}+\\text{nullity}=n$$\n"
   ]
  },
  {
   "cell_type": "markdown",
   "metadata": {},
   "source": [
    "## Example: Rank of Matrix"
   ]
  },
  {
   "cell_type": "code",
   "execution_count": 1,
   "metadata": {},
   "outputs": [
    {
     "name": "stdout",
     "output_type": "stream",
     "text": [
      "\n",
      "M =\n",
      "\n",
      "    -4     3    25    11\n",
      "   -12     7    81    35\n",
      "    -2     2    11     5\n",
      "\n",
      "\n",
      "ans =\n",
      "\n",
      "    1.0000         0   -8.5000   -3.5000\n",
      "         0    1.0000   -3.0000   -1.0000\n",
      "         0         0         0         0\n",
      "\n",
      "\n"
     ]
    }
   ],
   "source": [
    "M = [-4 3 25 11 ; -12 7 81 35 ; -2 2 11 5 ]\n",
    "rref(M)"
   ]
  },
  {
   "cell_type": "markdown",
   "metadata": {},
   "source": [
    "The matrix $M$ has two pivots, so it's column space is a 2-dimensional subspace of $\\mathbb R^3$ and it's rank equals 2. There are two free variables, so the null space is a 2-dimensonial subspace of $\\mathbb R^4$. The solution vector \n",
    "\n",
    "$$\\vec x = \\left[\\begin{array}{r}x_1\\\\x_2\\\\x_3\\\\x_4\\end{array}\\right]$$\n",
    "\n",
    "has four components. Since there are two free variables, a basis for the null space will require two vectors, and hence the nullity of $A$ also equals 2."
   ]
  },
  {
   "cell_type": "markdown",
   "id": "quarterly-maryland",
   "metadata": {},
   "source": [
    "\n",
    "```{toctree}\n",
    ":hidden:\n",
    ":titlesonly:\n",
    "\n",
    "\n",
    "09/1\n",
    "```\n"
   ]
  }
 ],
 "metadata": {
  "kernelspec": {
   "display_name": "Matlab",
   "language": "matlab",
   "name": "matlab"
  },
  "language_info": {
   "codemirror_mode": "octave",
   "file_extension": ".m",
   "help_links": [
    {
     "text": "MetaKernel Magics",
     "url": "https://metakernel.readthedocs.io/en/latest/source/README.html"
    }
   ],
   "mimetype": "text/x-octave",
   "name": "matlab",
   "version": "0.16.11"
  }
 },
 "nbformat": 4,
 "nbformat_minor": 4
}