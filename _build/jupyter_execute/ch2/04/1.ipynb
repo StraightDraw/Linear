{
 "cells": [
  {
   "cell_type": "markdown",
   "metadata": {},
   "source": [
    "# 2.4.1 Lab 3"
   ]
  },
  {
   "cell_type": "markdown",
   "metadata": {},
   "source": [
    "## Part I. Determine if a vector is in the span of a set of vectors\n",
    "\n",
    "If your birthday is in:\n",
    "\n",
    "* January through April, do the sets of vectors $\\vec v$.\n",
    "* May through August, do the sets of vectors $\\vec x$.\n",
    "* September through December, do the sets of vectors $\\vec y$.\n",
    "\n",
    "````{margin}\n",
    "```{note}\n",
    "If the columns of matrix $A$ are the vectors $\\{\\vec a_1,\\vec a_2, \\dots , \\vec a_k \\}$, then \n",
    "\n",
    "$$A = [\\vec a_1,\\vec a_2, \\dots , \\vec a_k ]$$ \n",
    "```\n",
    "````\n",
    "\n",
    "````{margin}\n",
    "The same basic notation works in MATLAB to create $A$ from vectors `a1`, `a2` and `a3`.\n",
    "```\n",
    "A = [a1, a2, a3]\n",
    "```\n",
    "````\n",
    "\n",
    "\n",
    "Determine if the vector \n",
    "\n",
    "$$\\vec v = \\left[\\begin{array}{r}1\\\\4\\\\1\\\\7\\\\\\end{array}\\right]$$\n",
    "\n",
    "is in the $\\text{Span}\\{\\vec v_1,\\vec v_2, \\vec v_3 \\}$ where\n",
    "\n",
    "$$\\vec v_1 =\\left[\\begin{array}{r}0\\\\0\\\\-1\\\\0\\\\\\end{array}\\right],\\vec v_2=\\left[\\begin{array}{r}3\\\\6\\\\0\\\\12\\\\\\end{array}\\right],\\vec v_3=\\left[\\begin{array}{r}1\\\\1\\\\1\\\\2\\\\\\end{array}\\right]$$"
   ]
  },
  {
   "cell_type": "markdown",
   "metadata": {},
   "source": [
    "____"
   ]
  },
  {
   "cell_type": "markdown",
   "metadata": {},
   "source": [
    "Determine if the vector \n",
    "\n",
    "$$\\vec x = \\left[\\begin{array}{r}-1\\\\0\\\\-1\\\\-1\\\\\\end{array}\\right]$$\n",
    "\n",
    "is in the $\\text{Span} = \\{\\vec x_1,\\vec x_2, \\vec x_3 \\}$ where\n",
    "\n",
    "$$\\vec x_1 =\\left[\\begin{array}{r}-2\\\\0\\\\0\\\\0\\\\\\end{array}\\right],\\vec x_2=\\left[\\begin{array}{r}14\\\\5\\\\0\\\\0\\\\\\end{array}\\right],\\vec x_3=\\left[\\begin{array}{r}-1\\\\-1\\\\1\\\\1\\\\\\end{array}\\right]$$"
   ]
  },
  {
   "cell_type": "code",
   "execution_count": 40,
   "metadata": {},
   "outputs": [
    {
     "name": "stdout",
     "output_type": "stream",
     "text": [
      "\n"
     ]
    }
   ],
   "source": [
    "x1 = [-2 ; 0 ; 0 ; 0 ] ;\n",
    "x2 = [14 ; 5 ; 0 ; 0 ] ;\n",
    "x3 = [-1 ; -1 ; 1 ; 1 ] ;\n",
    "x = [-1 ; 0 ; -1 ; -1 ] ;"
   ]
  },
  {
   "cell_type": "markdown",
   "metadata": {},
   "source": [
    "____"
   ]
  },
  {
   "cell_type": "markdown",
   "metadata": {},
   "source": [
    "Determine if the vector \n",
    "\n",
    "$$\\vec y=\\left[\\begin{array}{r}2\\\\-3\\\\-1\\\\-1\\\\\\end{array}\\right]$$\n",
    "\n",
    "is in the $\\text{Span}\\{\\vec y_1,\\vec y_2, \\vec y_3 \\}$ where\n",
    "\n",
    "$$\\vec y_1 =\\left[\\begin{array}{r}3\\\\-3\\\\0\\\\0\\\\\\end{array}\\right],\\vec y_2=\\left[\\begin{array}{r}3\\\\2\\\\0\\\\0\\\\\\end{array}\\right],\\vec y_3=\\left[\\begin{array}{r}5\\\\3\\\\1\\\\0\\\\\\end{array}\\right]$$"
   ]
  },
  {
   "cell_type": "code",
   "execution_count": 50,
   "metadata": {},
   "outputs": [
    {
     "name": "stdout",
     "output_type": "stream",
     "text": [
      "\n"
     ]
    }
   ],
   "source": [
    "y1 = [3 ; -3 ; 0 ; 0 ] ;\n",
    "y2 = [3 ; 2 ; 0 ; 0 ] ;\n",
    "y3 = [5 ; 3 ; 1 ; 0 ] ;\n",
    "y = [2 ; -3 ; -1 ; -1 ] ;"
   ]
  },
  {
   "cell_type": "markdown",
   "metadata": {},
   "source": [
    "## Part II. Matrix-vector multiplication\n",
    "\n",
    "Use the dot product function `dot` to show matrix-vector multiplication.\n",
    "\n",
    "````{hint}\n",
    "You can create a row vector from the row of a matrix, for example, the second row as shown below.\n",
    "\n",
    "```\n",
    "A = randi(5,5,4)\n",
    "r2 = A(2,:)\n",
    "```\n",
    "\n",
    "````\n",
    "\n",
    "````{margin}\n",
    "```{tip}\n",
    "The MATLAB function `dot` works equally well with row vectors and column vectors.\n",
    "```\n",
    "````\n"
   ]
  },
  {
   "cell_type": "markdown",
   "metadata": {},
   "source": [
    "If your first name begins with:\n",
    "\n",
    "* A through D, do A.\n",
    "* D through J, do D.\n",
    "* J through Z, do J.\n",
    "\n",
    "Multiply $A\\vec v$ where\n",
    "\n",
    "$$A = \\left[\\begin{array}{rrrrr}7&-3&6&5&9\\\\7&2&5&-3&-4\\\\-3&7&6&4&0\\\\0&5&8&-3&4\\\\\\end{array}\\right], \\vec v = \\left[\\begin{array}{r}7\\\\-1\\\\1\\\\-2\\\\8\\\\\\end{array}\\right]$$"
   ]
  },
  {
   "cell_type": "code",
   "execution_count": 51,
   "metadata": {},
   "outputs": [
    {
     "name": "stdout",
     "output_type": "stream",
     "text": [
      "\n"
     ]
    }
   ],
   "source": [
    "A = [7 -3 6 5 9 ;7 2 5 -3 -4 ;-3 7 6 4 0 ;0 5 8 -3 4 ] ;\n",
    "v = [ 7 ; -1 ; 1 ; -2 ; 8 ] ;"
   ]
  },
  {
   "cell_type": "markdown",
   "metadata": {},
   "source": [
    "____\n",
    "\n",
    "Multiply $D\\vec x$ where\n",
    "\n",
    "$$D = \\left[\\begin{array}{rrrrr}2&6&-2&-2&-5\\\\7&-3&-3&10&10\\\\3&5&-3&-5&-1\\\\-2&5&-3&10&3\\\\\\end{array}\\right], \\vec x = \\left[\\begin{array}{r}6\\\\-1\\\\3\\\\-1\\\\7\\\\\\end{array}\\right]$$"
   ]
  },
  {
   "cell_type": "code",
   "execution_count": 45,
   "metadata": {},
   "outputs": [
    {
     "name": "stdout",
     "output_type": "stream",
     "text": [
      "\n"
     ]
    }
   ],
   "source": [
    "D = [2 6 -2 -2 -5 ;7 -3 -3 10 10 ;3 5 -3 -5 -1 ;-2 5 -3 10 3 ] ;\n",
    "x = [6 ;-1 ;3 ;-1 ;7 ] ;"
   ]
  },
  {
   "cell_type": "markdown",
   "metadata": {},
   "source": [
    "____\n",
    "\n",
    "Multiply $J\\vec y$ where\n",
    "\n",
    "$$J = \\left[\\begin{array}{rrrrr}7&-3&-1&2&2\\\\9&7&-2&10&2\\\\2&9&3&4&7\\\\8&8&1&10&6\\\\\\end{array}\\right], \\vec y = \\left[\\begin{array}{r}7\\\\0\\\\6\\\\5\\\\-2\\\\\\end{array}\\right]$$"
   ]
  },
  {
   "cell_type": "code",
   "execution_count": 46,
   "metadata": {},
   "outputs": [
    {
     "name": "stdout",
     "output_type": "stream",
     "text": [
      "\n"
     ]
    }
   ],
   "source": [
    "J = [7 -3 -1 2 2 ;9 7 -2 10 2 ;2 9 3 4 7 ;8 8 1 10 6 ] ;\n",
    "y = [7 ;0 ;6 ;5 ;-2 ] ;"
   ]
  },
  {
   "cell_type": "markdown",
   "metadata": {},
   "source": [
    "### Part III: Solve the homogeneous system of equations\n",
    "\n",
    "Solve the homogenenous system of equations which are of the form $A\\vec v = \\vec 0$, but use row operations instead of the `rref` function. Write the solution set in vector form.\n",
    "\n",
    "If your last name begins with:\n",
    "\n",
    "* B through G, do B.\n",
    "* H through Q, do H.\n",
    "* R through Z, do R.\n",
    "* A pick any of the three.\n",
    "\n"
   ]
  },
  {
   "cell_type": "markdown",
   "metadata": {},
   "source": [
    "$$B = \\left[\\begin{array}{rrrrr|r}7&18&39&-16&-1&0\\\\0&-1&-1&2&0&0\\\\-9&-22&-49&18&1&0\\end{array}\\right]$$"
   ]
  },
  {
   "cell_type": "code",
   "execution_count": 47,
   "metadata": {},
   "outputs": [
    {
     "name": "stdout",
     "output_type": "stream",
     "text": [
      "\n",
      "ans =\n",
      "\n",
      "     7    18    39   -16    -1     0\n",
      "     0    -1    -1     2     0     0\n",
      "    -9   -22   -49    18     1     0\n",
      "\n",
      "\n"
     ]
    }
   ],
   "source": [
    "B = [7 18 39 -16 -1 ;0 -1 -1 2 0 ;-9 -22 -49 18 1 ] ;\n",
    "z = zeros(3,1) ;\n",
    "[B,z]"
   ]
  },
  {
   "cell_type": "markdown",
   "metadata": {},
   "source": [
    "$$H = \\left[\\begin{array}{rrrrr|r}1&-5&-2&-1&-4&0\\\\-5&25&7&8&20&0\\\\-2&10&-2&11&11&0\\end{array}\\right]$$"
   ]
  },
  {
   "cell_type": "code",
   "execution_count": 48,
   "metadata": {},
   "outputs": [
    {
     "name": "stdout",
     "output_type": "stream",
     "text": [
      "\n",
      "ans =\n",
      "\n",
      "     1    -5    -2    -1    -4     0\n",
      "    -5    25     7     8    20     0\n",
      "    -2    10    -2    11    11     0\n",
      "\n",
      "\n"
     ]
    }
   ],
   "source": [
    "H = [1 -5 -2 -1 -4 ;-5 25 7 8 20 ;-2 10 -2 11 11 ] ;\n",
    "z = zeros(3,1) ;\n",
    "[H,z]"
   ]
  },
  {
   "cell_type": "markdown",
   "metadata": {},
   "source": [
    "$$R = \\left[\\begin{array}{rrrrr}6&6&-12&37&-8\\\\-4&6&-2&-7&3\\\\2&-2&0&5&-2\\\\\\end{array}\\right]$$"
   ]
  },
  {
   "cell_type": "code",
   "execution_count": 49,
   "metadata": {},
   "outputs": [
    {
     "name": "stdout",
     "output_type": "stream",
     "text": [
      "\n",
      "ans =\n",
      "\n",
      "     6     6   -12    37    -8     0\n",
      "    -4     6    -2    -7     3     0\n",
      "     2    -2     0     5    -2     0\n",
      "\n",
      "\n"
     ]
    }
   ],
   "source": [
    "R = [6 6 -12 37 -8 ;-4 6 -2 -7 3 ;2 -2 0 5 -2 ] ;\n",
    "z = zeros(3,1) ;\n",
    "[R,z]"
   ]
  }
 ],
 "metadata": {
  "kernelspec": {
   "display_name": "Matlab",
   "language": "matlab",
   "name": "matlab"
  },
  "language_info": {
   "codemirror_mode": "octave",
   "file_extension": ".m",
   "help_links": [
    {
     "text": "MetaKernel Magics",
     "url": "https://metakernel.readthedocs.io/en/latest/source/README.html"
    }
   ],
   "mimetype": "text/x-octave",
   "name": "matlab",
   "version": "0.16.11"
  }
 },
 "nbformat": 4,
 "nbformat_minor": 4
}