{
 "cells": [
  {
   "cell_type": "markdown",
   "metadata": {},
   "source": [
    "# 2.6 Subspaces"
   ]
  },
  {
   "cell_type": "markdown",
   "metadata": {},
   "source": [
    "The visualizations in the textbook's Section 2.6 are very valuable. You should spend time with all of the interactive modules and take time with the definitions and theorems.\n",
    "\n",
    "The key task in the section is finding the solution set of the *null space*.\n",
    "\n",
    "Null Space\n",
    ": The set of all solution vectors to the homogenenous equations.\n",
    "\n"
   ]
  },
  {
   "cell_type": "markdown",
   "metadata": {},
   "source": [
    "## Finding the null space\n",
    "\n",
    "### Example 1. Find the null space of the matrix $A$.\n",
    "\n",
    "$$A = \\left[\\begin{array}{rrr}4&-18&-21\\\\-4&30&33\\\\0&1&1\\\\\\end{array}\\right]$$"
   ]
  },
  {
   "cell_type": "code",
   "execution_count": 23,
   "metadata": {},
   "outputs": [
    {
     "name": "stdout",
     "output_type": "stream",
     "text": [
      "\n",
      "A =\n",
      "\n",
      "     4   -18   -21\n",
      "    -4    30    33\n",
      "     0     1     1\n",
      "\n",
      "\n"
     ]
    }
   ],
   "source": [
    "A = [  4   -18   -21 ;\n",
    "      -4    30    33 ;\n",
    "       0     1     1 ]"
   ]
  },
  {
   "cell_type": "markdown",
   "metadata": {},
   "source": [
    "To dtermine the null space, we need to augment the matrix $A$ with the zero vector."
   ]
  },
  {
   "cell_type": "code",
   "execution_count": 24,
   "metadata": {},
   "outputs": [
    {
     "name": "stdout",
     "output_type": "stream",
     "text": [
      "\n",
      "ans =\n",
      "\n",
      "     4   -18   -21     0\n",
      "    -4    30    33     0\n",
      "     0     1     1     0\n",
      "\n",
      "\n"
     ]
    }
   ],
   "source": [
    "[A,zeros(3,1)]"
   ]
  },
  {
   "cell_type": "code",
   "execution_count": 25,
   "metadata": {},
   "outputs": [
    {
     "name": "stdout",
     "output_type": "stream",
     "text": [
      "\n",
      "ans =\n",
      "\n",
      "    1.0000         0   -0.7500         0\n",
      "         0    1.0000    1.0000         0\n",
      "         0         0         0         0\n",
      "\n",
      "\n"
     ]
    }
   ],
   "source": [
    "rref([A,zeros(3,1)])"
   ]
  },
  {
   "cell_type": "markdown",
   "metadata": {},
   "source": [
    "Now we write the solution set in vector form. The first step is to write all basic variables in terms of the free variables.\n",
    "\n",
    "$$\\begin{align*} x_1 &= \\frac{3}{4}x_3 \\\\ x_2 &= -x_3 \\end{align*}$$"
   ]
  },
  {
   "cell_type": "markdown",
   "metadata": {},
   "source": [
    "So the solution set is of the form:\n",
    "\n",
    "$$ \\vec x = \\left[\\begin{array}{r}\\frac{3}{4}\\\\-1\\\\1\\\\\\end{array}\\right]$$\n",
    "\n",
    "To verify the solution is correct, we can create the vector $\\vec x$ and evaluate what happens when we take scalar multiples of it and multiply by $B$."
   ]
  },
  {
   "cell_type": "code",
   "execution_count": 26,
   "metadata": {},
   "outputs": [
    {
     "name": "stdout",
     "output_type": "stream",
     "text": [
      "\n",
      "x =\n",
      "\n",
      "    0.7500\n",
      "   -1.0000\n",
      "    1.0000\n",
      "\n",
      "\n"
     ]
    }
   ],
   "source": [
    "x = [ 3/4 ; -1 ; 1]"
   ]
  },
  {
   "cell_type": "code",
   "execution_count": 27,
   "metadata": {},
   "outputs": [
    {
     "name": "stdout",
     "output_type": "stream",
     "text": [
      "\n",
      "ans =\n",
      "\n",
      "     0\n",
      "     0\n",
      "     0\n",
      "\n",
      "\n"
     ]
    }
   ],
   "source": [
    "A * (5 * x) "
   ]
  },
  {
   "cell_type": "markdown",
   "metadata": {},
   "source": [
    "This isn't proof that *any* scalar multiple of $\\vec x$ is a solution, but we can check several randomly chosen scalar multiples."
   ]
  },
  {
   "cell_type": "markdown",
   "metadata": {},
   "source": [
    "for i = 1:10\n",
    "    k = randi([-50 100],1,1);\n",
    "    A * k * x\n",
    "end"
   ]
  },
  {
   "cell_type": "markdown",
   "metadata": {},
   "source": [
    "### Example 2. Find the null space of the matrix $B$.\n",
    "\n",
    "$$ B = \\left[\\begin{array}{rrr}-1&4&1\\\\-3&12&7\\\\0&1&-2\\end{array}\\right] $$"
   ]
  },
  {
   "cell_type": "code",
   "execution_count": 28,
   "metadata": {},
   "outputs": [
    {
     "name": "stdout",
     "output_type": "stream",
     "text": [
      "\n",
      "B =\n",
      "\n",
      "    -1     4     1\n",
      "    -3    12     7\n",
      "     0     1    -2\n",
      "\n",
      "\n",
      "ans =\n",
      "\n",
      "     1     0     0     0\n",
      "     0     1     0     0\n",
      "     0     0     1     0\n",
      "\n",
      "\n"
     ]
    }
   ],
   "source": [
    "B = [ -1 4 1 ; -3 12 7 ; 0 1 -2 ]\n",
    "rref([B, zeros(3,1)])"
   ]
  },
  {
   "cell_type": "markdown",
   "metadata": {},
   "source": [
    "Clearly, the only solution to the homogeneous equations is the zero vector which makes sense. Because there are three pivots, there are no free variables. We use the notation below for the null space of a matrix.\n",
    "\n",
    "$$\\text{Null}(B)=\\vec 0$$"
   ]
  },
  {
   "cell_type": "markdown",
   "metadata": {},
   "source": [
    "## Example 3\n",
    "\n",
    "Find the null space for matrix $C$.\n",
    "\n",
    "$$C = \\left[\\begin{array}{rrrr}0&0&1&-2\\\\-12&43&27&9\\\\-2&7&4&1\\\\\\end{array}\\right]$$"
   ]
  },
  {
   "cell_type": "markdown",
   "metadata": {},
   "source": [
    "Again, we need the matrix C."
   ]
  },
  {
   "cell_type": "code",
   "execution_count": 31,
   "metadata": {},
   "outputs": [
    {
     "name": "stdout",
     "output_type": "stream",
     "text": [
      "\n",
      "C =\n",
      "\n",
      "     0     0     1    -2\n",
      "   -12    43    27     9\n",
      "    -2     7     4     1\n",
      "\n",
      "\n",
      "ans =\n",
      "\n",
      "     0     0     1    -2     0\n",
      "   -12    43    27     9     0\n",
      "    -2     7     4     1     0\n",
      "\n",
      "\n",
      "ans =\n",
      "\n",
      "     1     0     0    27     0\n",
      "     0     1     0     9     0\n",
      "     0     0     1    -2     0\n",
      "\n",
      "\n"
     ]
    }
   ],
   "source": [
    "C = [  0     0     1    -2 ;\n",
    "     -12    43    27     9 ;\n",
    "      -2     7     4     1 ]\n",
    "[C , zeros(3,1)]\n",
    "rref([C , zeros(3,1)])"
   ]
  },
  {
   "cell_type": "markdown",
   "metadata": {},
   "source": [
    "Clearly, $x_1 = -27 x_4$, $x_2 = -9 x_4$ and $x_3 = -2 x_4$ which is closely related to the fourth column of $C$."
   ]
  }
 ],
 "metadata": {
  "kernelspec": {
   "display_name": "Matlab",
   "language": "matlab",
   "name": "matlab"
  },
  "language_info": {
   "codemirror_mode": "octave",
   "file_extension": ".m",
   "help_links": [
    {
     "text": "MetaKernel Magics",
     "url": "https://metakernel.readthedocs.io/en/latest/source/README.html"
    }
   ],
   "mimetype": "text/x-octave",
   "name": "matlab",
   "version": "0.16.11"
  }
 },
 "nbformat": 4,
 "nbformat_minor": 4
}