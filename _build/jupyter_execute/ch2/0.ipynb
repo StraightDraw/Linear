{
 "cells": [
  {
   "cell_type": "markdown",
   "metadata": {},
   "source": [
    "# Chapter 2\n",
    "\n",
    "## Systems of Linear Equations: Geometry\n",
    "\n",
    "````{warning}\n",
    "Reading these materials and doing the excercises is **not enough** to understand the course material. You must also read and study the corresponding chapters and sections in the Margalit and Rabinoff [*Linear Algebra* online textbook](https://textbooks.math.gatech.edu/ila/chap-geometry.html).\n",
    "````\n",
    "The information below is like a study guide though much of the information is copied directly from Margalit and Rabinoff. You will be quizzed and tested not only on how to perform various tasks in MATLAB, but on your understanding of the visualizations and discussions in the textbook. Be sure to study these concepts prior to quizzes and tests."
   ]
  },
  {
   "cell_type": "markdown",
   "metadata": {},
   "source": [
    "### 2.1 Vectors\n",
    "\n",
    "1. Learn how to add and scale vectors in $\\mathbb{R}^n$, both algebraically and geometrically.\n",
    "2. Visualize \n",
    "    1. Linear combinations\n",
    "    2. Vector addition\n",
    "    3. Vector subtraction, and\n",
    "    4. scalar multiples of vectors.\n",
    "\n",
    "**Vocabulary words.** Vector, linear combination, scalar multiple.\n"
   ]
  },
  {
   "cell_type": "markdown",
   "metadata": {},
   "source": [
    "### 2.2 Vector Equations and Spans\n",
    "\n",
    "1. Understand the equivalence between a system of linear equations and a vector equation.\n",
    "2. Learn the definition of $\\text{Span}\\{x_1,x_2,\\dots,x_k\\}$, and how to draw pictures of spans.\n",
    "3. Key Task: Solve a vector equation using augmented matrices to determine if a vector is in a span.\n",
    "4. Visulize\n",
    "    1. An inconsistent system of equations\n",
    "    2. A consistent system of equations\n",
    "    3. Spans in $\\mathbb{R}^2$ and $\\mathbb{R}^3$.\n",
    "\n",
    "**Vocabulary words.**  Vector equation, span."
   ]
  },
  {
   "cell_type": "markdown",
   "metadata": {},
   "source": [
    "### 2.3 Matrix Equations\n",
    "\n",
    "1. Understand the equivalence between a system of linear equations, an augmented matrix, a vector equation, and a matrix equation.\n",
    "2. Key Task: multiply a vector by a matrix (two ways).\n",
    "3. Characterize the vectors $\\vec b$ such that $A\\vec x = \\vec b$ is consistent, in terms of the span of the columns of $A$.\n",
    "4. Characterize matrices $A$ such that $A\\vec x = \\vec b$ is consistent for all vectors $\\vec b$.\n",
    "5. Visualize the set of all vectors $\\vec b$ such that $A\\vec x = \\vec b$ is consistent.\n",
    "\n",
    "**Vocabulary words.**  Matrix equation, row vector, column vector, consistent, inconsistent."
   ]
  },
  {
   "cell_type": "markdown",
   "metadata": {},
   "source": [
    "### 2.4 Solution Sets\n",
    "\n",
    "1. Understand the relationship between the solution set of $Ax = \\vec 0$ and the solution set of $Ax = \\vec b$.\n",
    "2. Understand the difference between the solution set and the column span.\n",
    "3. Key Tasks\n",
    "    1. Write solutions to matrix equations in parametric vector form\n",
    "    2. Write the solution set of a homogeneous system as a span.\n",
    "4. Visualize the solution set of a homogeneous system, the solution set of an inhomogeneous system, and the relationship between the two.\n",
    "\n",
    "**Vocabulary words.** Homogeneous, inhomogeneous, trivial vs. nontrivial solutions.\n",
    "\n",
    "Review the section called [Solution Sets and Column Spans](https://textbooks.math.gatech.edu/ila/solution-sets.html#solnsets-ss-and-cs) carefully.\n"
   ]
  },
  {
   "cell_type": "markdown",
   "metadata": {},
   "source": [
    "### 2.5 Linear Independence\n",
    "\n",
    "1. Understand the concept of linear independence.\n",
    "2. Learn two criteria for linear independence.\n",
    "3. Understand the relationship between linear independence and pivot columns / free variables.\n",
    "4. Key Tasks:\n",
    "    1. Test if a set of vectors is linearly independent.\n",
    "    2. Find an equation of linear dependence.\n",
    "5. Visualize sets of vectors in $\\mathbb{R}^2$ or $\\mathbb{R}^3$ and whether or not they are linearly independent.\n",
    "\n",
    "**Vocabulary words.** Linear dependence relation / equation of linear dependence, pivots, free variables, linearly independent, linearly dependent."
   ]
  },
  {
   "cell_type": "markdown",
   "metadata": {},
   "source": [
    "### 2.6 Subspaces\n",
    "\n",
    "1. Learn the definition of a subspace.\n",
    "2. Learn the canonical examples of subspaces.\n",
    "3. Learn to write a given subspace as a column space or null space.\n",
    "4. Key Tasks: \n",
    "    1. Determine whether or not a subset is a subspace.\n",
    "    2. Compute a spanning set for a null space.\n",
    "5. Visualize whether a subset of $\\mathbb{R}^2$ or $\\mathbb{R}^2$ is a subspace or not.\n",
    "\n",
    "**Vocabulary words.** Subspace, column space, null space."
   ]
  },
  {
   "cell_type": "markdown",
   "metadata": {},
   "source": [
    "### 2.7 Basis and Dimension\n",
    "\n",
    "1. Understand the definition of a basis of a subspace.\n",
    "2. Understand the basis theorem.\n",
    "3. Key Tasks: \n",
    "    1. Find the basis for a column space.\n",
    "    2. Find the basis for a null space.\n",
    "    3. Find the basis of a span.\n",
    "4. Visualize the  basis of a subspace of $\\mathbb{R}^2$ or $\\mathbb{R}^2$.\n",
    "\n",
    "**Vocabulary words.**  Basis, dimension."
   ]
  },
  {
   "cell_type": "markdown",
   "metadata": {},
   "source": [
    "### 2.8 Bases as Coordinate Systems\n",
    "\n",
    "1. Learn to view a basis as a coordinate system on a subspace.\n",
    "2. Key Tasks: \n",
    "    1. Compute the $\\mathcal{B}$-coordinates of a vector.\n",
    "    2. Compute the usual coordinates of a vector from its $\\mathcal{B}$-coordinates.\n",
    "3. Visualize the $\\mathcal{B}$-coordinates of a vector using its location on a nonstandard coordinate grid.\n",
    "\n",
    "**Vocabulary words.**  $\\mathcal{B}$-coordinates"
   ]
  },
  {
   "cell_type": "markdown",
   "metadata": {},
   "source": [
    "### 2.9 The Rank Theorem\n",
    "\n",
    "1. Learn to understand and use the rank theorem.\n",
    "2. Visualize the rank theorem.\n",
    "\n",
    "**Vocabulary words.** Rank, nullity."
   ]
  },
  {
   "cell_type": "markdown",
   "id": "ecological-bahrain",
   "metadata": {},
   "source": [
    "\n",
    "```{toctree}\n",
    ":hidden:\n",
    ":titlesonly:\n",
    "\n",
    "\n",
    "1\n",
    "2\n",
    "3\n",
    "4\n",
    "5\n",
    "6\n",
    "7\n",
    "8\n",
    "9\n",
    "```\n"
   ]
  }
 ],
 "metadata": {
  "kernelspec": {
   "display_name": "Matlab",
   "language": "matlab",
   "name": "matlab"
  },
  "language_info": {
   "codemirror_mode": "octave",
   "file_extension": ".m",
   "help_links": [
    {
     "text": "MetaKernel Magics",
     "url": "https://metakernel.readthedocs.io/en/latest/source/README.html"
    }
   ],
   "mimetype": "text/x-octave",
   "name": "matlab",
   "version": "0.16.11"
  }
 },
 "nbformat": 4,
 "nbformat_minor": 4
}