{
 "cells": [
  {
   "cell_type": "markdown",
   "metadata": {},
   "source": [
    "# 2.7 Basis and Dimension"
   ]
  },
  {
   "cell_type": "markdown",
   "metadata": {},
   "source": [
    "We are in a great position to understand what it means to be a basis and the dimension of subspace because we have been writing solutions to systems of equations in vector form since chpater 1. We repeat this essential definition directly from the Margalit text.\n",
    "\n",
    "Basis\n",
    ": Let $V$ be a subspace of Rn. A *basis* of $V$ is a set of vectors $\\{\\vec v_1,\\vec v_2, \\dots , \\vec v_m \\}\\in V$ such that:\n",
    "1. $V = \\text{Span}\\{\\vec v_1,\\vec v_2, \\dots , \\vec v_m \\}$, and\n",
    "2. the set $\\{\\vec v_1,\\vec v_2, \\dots , \\vec v_m \\}$ is linearly independent."
   ]
  },
  {
   "cell_type": "markdown",
   "metadata": {},
   "source": [
    "## Finding a Basis\n",
    "\n",
    "### Example 1: The basis for a set of vectors.\n",
    "\n",
    "Given the following set of vectors, find a basis for the $\\text{Span}\\{\\vec v_1,\\vec v_2,\\vec v_3 \\}$.\n",
    "\n",
    "$$\\vec v_1 =\\left[\\begin{array}{r}-1\\\\-4\\\\1\\\\\\end{array}\\right],\\vec v_2=\\left[\\begin{array}{r}-6\\\\-20\\\\6\\\\\\end{array}\\right],\\vec v_3=\\left[\\begin{array}{r}-4\\\\-13\\\\4\\\\\\end{array}\\right]$$\n",
    "\n",
    "Let's gather the column vectors into a matrix $M$ for convenience."
   ]
  },
  {
   "cell_type": "code",
   "execution_count": 5,
   "metadata": {},
   "outputs": [
    {
     "name": "stdout",
     "output_type": "stream",
     "text": [
      "\n",
      "v1 =\n",
      "\n",
      "    -1\n",
      "    -4\n",
      "     1\n",
      "\n",
      "\n",
      "v2 =\n",
      "\n",
      "    -6\n",
      "   -20\n",
      "     6\n",
      "\n",
      "\n",
      "v3 =\n",
      "\n",
      "    -4\n",
      "   -13\n",
      "     4\n",
      "\n",
      "\n"
     ]
    }
   ],
   "source": [
    "M = [-1 -6 -4 ; -4 -20 -13 ; 1 6 4 ];\n",
    "v1 = M(:,1)\n",
    "v2 = M(:,2)\n",
    "v3 = M(:,3)"
   ]
  },
  {
   "cell_type": "markdown",
   "metadata": {},
   "source": [
    "To find the basis for a $\\text{Span}$ of a set of vectors, we need to know how many of the vectors are linearly independent. Let's row reduce $M$."
   ]
  },
  {
   "cell_type": "code",
   "execution_count": 6,
   "metadata": {},
   "outputs": [
    {
     "name": "stdout",
     "output_type": "stream",
     "text": [
      "\n",
      "ans =\n",
      "\n",
      "    1.0000         0   -0.5000\n",
      "         0    1.0000    0.7500\n",
      "         0         0         0\n",
      "\n",
      "\n"
     ]
    }
   ],
   "source": [
    "rref(M)"
   ]
  },
  {
   "cell_type": "markdown",
   "metadata": {},
   "source": [
    "From the RREF of $M$, we can determine the linear dependence relation which indicates \n",
    "\n",
    "$$\\vec v_3 = \\frac{1}{2}\\vec v_1 - \\frac{3}{4}\\vec v_2$$\n",
    "\n",
    "and the $\\text{Span}$ for these vectors is a two dimensional subspace. This means that the vectors $\\vec v_1$ and $\\vec v_2$ form a basis for the $\\text{Span}$.\n",
    "\n",
    "$$\\mathcal B = \\left\\{ \\left[\\begin{array}{r}-1\\\\-4\\\\1\\\\\\end{array}\\right], \\left[\\begin{array}{r}-6\\\\-20\\\\6\\\\\\end{array}\\right] \\right\\}$$"
   ]
  },
  {
   "cell_type": "markdown",
   "metadata": {},
   "source": [
    "As the Margalit text points out, there are infinitely many bases for this subspace, but the $\\text{Span}$ of each of these will be identical."
   ]
  },
  {
   "cell_type": "markdown",
   "metadata": {},
   "source": [
    "### Example 2: Another basis for a set of vectors.\n",
    "\n",
    "Given the following set of vectors shown as columns of the matrix $R$, find a basis for the $\\text{Span}\\{\\vec v_1,\\vec v_2,\\vec v_3, \\vec v_4, \\vec v_5 \\}$."
   ]
  },
  {
   "cell_type": "code",
   "execution_count": 7,
   "metadata": {},
   "outputs": [
    {
     "name": "stdout",
     "output_type": "stream",
     "text": [
      "\n",
      "R =\n",
      "\n",
      "     8    -4    -4     0    11\n",
      "    -2     5     3     4     3\n",
      "     6    -3    -3     0     7\n",
      "     0    -4    -2    -4    -5\n",
      "\n",
      "\n"
     ]
    }
   ],
   "source": [
    "R = [8 -4 -4 0 11 ; -2 5 3 4 3 ; 6 -3 -3 0 7 ; 0 -4 -2 -4 -5 ]"
   ]
  },
  {
   "cell_type": "markdown",
   "metadata": {},
   "source": [
    "Since the vectors live in $\\mathbb R^4$, we can have at most four linearly independent vectors and, correspondingly, \n",
    "a 4-dimensional subspace."
   ]
  },
  {
   "cell_type": "code",
   "execution_count": 8,
   "metadata": {},
   "outputs": [
    {
     "name": "stdout",
     "output_type": "stream",
     "text": [
      "\n",
      "ans =\n",
      "\n",
      "    1.0000         0   -0.2500    0.5000         0\n",
      "         0    1.0000    0.5000    1.0000         0\n",
      "         0         0         0         0    1.0000\n",
      "         0         0         0         0         0\n",
      "\n",
      "\n"
     ]
    }
   ],
   "source": [
    "rref(R)"
   ]
  },
  {
   "cell_type": "markdown",
   "metadata": {},
   "source": [
    "Upon row reducing, we find three pivots, so we know that vectors $\\vec v_3,\\vec v_4$ can be written as linear combinations of the other three. The vectors that correpond to the pivot columns are linearly independent and form a basis for the $\\text{Span}$ of this set of vectors.\n",
    "\n",
    "$$\\mathcal B = \\left\\{  \\left[\\begin{array}{r}8\\\\-2\\\\6\\\\0\\\\\\end{array}\\right], \\left[\\begin{array}{r}-4\\\\5\\\\-3\\\\-4\\\\\\end{array}\\right], \\left[\\begin{array}{r}11\\\\3\\\\7\\\\-5\\\\\\end{array}\\right] \\right\\}$$"
   ]
  },
  {
   "cell_type": "markdown",
   "metadata": {},
   "source": [
    "## The Column Space\n",
    "\n",
    "Column Space of $A$\n",
    ": The $\\text{Span}\\{\\vec a_1, \\vec a_2, \\cdots , \\vec a_n\\}$ where the vectors $\\vec a_i$ are the columns of $A$.\n",
    "\n",
    "So the column space for matrix $R$ from Example 2 has the same basis as the span of the vectors."
   ]
  },
  {
   "cell_type": "markdown",
   "metadata": {},
   "source": [
    "## Basis for Null Space of $A$\n",
    "\n",
    "We have already shown this in section 2.6. We solve the homogeneous system $A\\vec x \\vec 0$, and write the solution set in vector form.\n"
   ]
  }
 ],
 "metadata": {
  "kernelspec": {
   "display_name": "Matlab",
   "language": "matlab",
   "name": "matlab"
  },
  "language_info": {
   "codemirror_mode": "octave",
   "file_extension": ".m",
   "help_links": [
    {
     "text": "MetaKernel Magics",
     "url": "https://metakernel.readthedocs.io/en/latest/source/README.html"
    }
   ],
   "mimetype": "text/x-octave",
   "name": "matlab",
   "version": "0.16.11"
  }
 },
 "nbformat": 4,
 "nbformat_minor": 4
}