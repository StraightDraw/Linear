{
 "cells": [
  {
   "cell_type": "markdown",
   "metadata": {},
   "source": [
    "# 2.1 Vectors"
   ]
  },
  {
   "cell_type": "markdown",
   "metadata": {},
   "source": [
    "## Operations\n",
    "\n",
    "### Vector Addition\n",
    "The addition of vectors occurs component-wise. For two vectors in $\\mathbb R^4$:\n",
    "\n",
    "$$\\vec v = \\left[\\begin{array}{r}3\\\\-1\\\\2\\\\9\\\\\\end{array}\\right], \\vec u = \\left[\\begin{array}{r}4\\\\5\\\\-2\\\\-5\\\\\\end{array}\\right], \\hspace{1cm}\\vec v + \\vec u = \\left[\\begin{array}{r}7\\\\4\\\\0\\\\4\\\\\\end{array}\\right]$$\n",
    "\n",
    "If two vectors have a different number of components, they cannot be added or subtracted.\n",
    "\n",
    "### Scalar Multiplication\n",
    "\n",
    "Suppose we take a real number $r$. We can multiply a vector by this scalar by multiplying each component of the vector by $r$. For example, if $r = 3$, then:\n",
    "\n",
    "$$r\\vec v = 3\\left[\\begin{array}{r}3\\\\-1\\\\2\\\\9\\\\\\end{array}\\right] = \\left[\\begin{array}{r}9\\\\-3\\\\6\\\\27\\\\\\end{array}\\right]$$\n"
   ]
  },
  {
   "cell_type": "markdown",
   "metadata": {},
   "source": [
    "### Vector Subtraction\n",
    "\n",
    "To substract $\\vec v - \\vec u$ we add $\\vec v$ to $(-1)\\vec u$.\n",
    "\n",
    "$$\\vec v - \\vec u = \\left[\\begin{array}{r}3\\\\-1\\\\2\\\\9\\\\\\end{array}\\right] + \\left[\\begin{array}{r}-4\\\\-5\\\\2\\\\5\\\\\\end{array}\\right] = \\left[\\begin{array}{r}-1\\\\-6\\\\4\\\\14\\\\\\end{array}\\right]$$\n",
    "\n",
    "Clearly, like addition, we are subtracting component-wise.\n",
    "\n"
   ]
  },
  {
   "cell_type": "markdown",
   "metadata": {},
   "source": [
    "## MATLAB and Vectors"
   ]
  },
  {
   "cell_type": "markdown",
   "metadata": {},
   "source": [
    "Let's create the vectors used in the above examples."
   ]
  },
  {
   "cell_type": "code",
   "execution_count": 15,
   "metadata": {},
   "outputs": [
    {
     "name": "stdout",
     "output_type": "stream",
     "text": [
      "\n",
      "v =\n",
      "\n",
      "     3\n",
      "    -1\n",
      "     2\n",
      "     9\n",
      "\n",
      "\n",
      "u =\n",
      "\n",
      "     4\n",
      "     5\n",
      "    -2\n",
      "    -5\n",
      "\n",
      "\n"
     ]
    }
   ],
   "source": [
    "v = [3 ; -1 ; 2 ; 9]\n",
    "u = [4 ; 5 ; -2 ; -5]"
   ]
  },
  {
   "cell_type": "markdown",
   "metadata": {},
   "source": [
    "Addition and subtraction work exactly as you would guess."
   ]
  },
  {
   "cell_type": "code",
   "execution_count": 16,
   "metadata": {},
   "outputs": [
    {
     "name": "stdout",
     "output_type": "stream",
     "text": [
      "\n",
      "ans =\n",
      "\n",
      "     7\n",
      "     4\n",
      "     0\n",
      "     4\n",
      "\n",
      "\n"
     ]
    }
   ],
   "source": [
    "v + u"
   ]
  },
  {
   "cell_type": "code",
   "execution_count": 17,
   "metadata": {},
   "outputs": [
    {
     "name": "stdout",
     "output_type": "stream",
     "text": [
      "\n",
      "ans =\n",
      "\n",
      "    -1\n",
      "    -6\n",
      "     4\n",
      "    14\n",
      "\n",
      "\n"
     ]
    }
   ],
   "source": [
    "v - u"
   ]
  },
  {
   "cell_type": "markdown",
   "metadata": {},
   "source": [
    "Scalar multiplication also makes sense, for example, if $r = 3$."
   ]
  },
  {
   "cell_type": "code",
   "execution_count": 18,
   "metadata": {},
   "outputs": [
    {
     "name": "stdout",
     "output_type": "stream",
     "text": [
      "\n",
      "ans =\n",
      "\n",
      "     9\n",
      "    -3\n",
      "     6\n",
      "    27\n",
      "\n",
      "\n"
     ]
    }
   ],
   "source": [
    "3 * v"
   ]
  },
  {
   "cell_type": "markdown",
   "metadata": {},
   "source": [
    "Be sure to spend time reading and interacting Margalit and Robanoff textbook to visualize what it means to add, subtract vectors and to take the scalar multiple of a vector.\n",
    "\n",
    "````{note}\n",
    "In this course, the word *scalar* amost always means *real number*. However, we can have complex-valued matrices and vectors. In those cases, a *scalar* would be a complex number.\n",
    "````"
   ]
  },
  {
   "cell_type": "markdown",
   "metadata": {},
   "source": [
    "## Linear Combinations of Vectors\n",
    "\n",
    "A linear combination of the vectors $\\vec v_1, \\vec v_2, \\dots \\vec v_n$ uses scalars $c_1, c_2, \\dots c_n$ as weights. If we have the vectors\n",
    "\n",
    "$$\\vec v_1 = \\left[\\begin{array}{r}5\\\\3\\\\-2\\\\\\end{array}\\right], \\vec v_2 = \\left[\\begin{array}{r}0\\\\2\\\\5\\\\\\end{array}\\right], \\vec v_3 = \\left[\\begin{array}{r}3\\\\4\\\\3\\\\\\end{array}\\right]$$\n",
    "\n",
    "and weights $c_1 = 4, c_2 = -1, c_3 = 2$, then the result is the linear combination:\n",
    "\n",
    "$$c_1\\vec v_1 + c_2\\vec v_2 +c_3\\vec v_3 = 4\\left[\\begin{array}{r}5\\\\3\\\\-2\\\\\\end{array}\\right]-\\left[\\begin{array}{r}0\\\\2\\\\5\\\\\\end{array}\\right] +2\\left[\\begin{array}{r}3\\\\4\\\\3\\\\\\end{array}\\right] = \\left[\\begin{array}{r}26\\\\18\\\\-7\\\\\\end{array}\\right]$$\n",
    "\n",
    "## Linear Combinations in MATLAB\n",
    "\n",
    "Let's create the vectors from the above example."
   ]
  },
  {
   "cell_type": "code",
   "execution_count": 20,
   "metadata": {},
   "outputs": [
    {
     "name": "stdout",
     "output_type": "stream",
     "text": [
      "\n",
      "v1 =\n",
      "\n",
      "     5\n",
      "     3\n",
      "    -2\n",
      "\n",
      "\n",
      "v2 =\n",
      "\n",
      "     0\n",
      "     2\n",
      "     5\n",
      "\n",
      "\n",
      "v3 =\n",
      "\n",
      "     3\n",
      "     4\n",
      "     3\n",
      "\n",
      "\n"
     ]
    }
   ],
   "source": [
    "v1 = [5 ; 3 ; -2]\n",
    "v2 = [ 0; 2 ; 5 ]\n",
    "v3 = [3 ; 4 ; 3]"
   ]
  },
  {
   "cell_type": "markdown",
   "metadata": {},
   "source": [
    "Then we apply addition, subtraction and scalar multiplications as before."
   ]
  },
  {
   "cell_type": "code",
   "execution_count": 21,
   "metadata": {},
   "outputs": [
    {
     "name": "stdout",
     "output_type": "stream",
     "text": [
      "\n",
      "ans =\n",
      "\n",
      "    26\n",
      "    18\n",
      "    -7\n",
      "\n",
      "\n"
     ]
    }
   ],
   "source": [
    "4 * v1 - v2 + 2 * v3"
   ]
  }
 ],
 "metadata": {
  "kernelspec": {
   "display_name": "Matlab",
   "language": "matlab",
   "name": "matlab"
  },
  "language_info": {
   "codemirror_mode": "octave",
   "file_extension": ".m",
   "help_links": [
    {
     "text": "MetaKernel Magics",
     "url": "https://metakernel.readthedocs.io/en/latest/source/README.html"
    }
   ],
   "mimetype": "text/x-octave",
   "name": "matlab",
   "version": "0.16.11"
  }
 },
 "nbformat": 4,
 "nbformat_minor": 4
}