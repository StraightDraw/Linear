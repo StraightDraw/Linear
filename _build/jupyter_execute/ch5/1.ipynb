{
 "cells": [
  {
   "cell_type": "markdown",
   "metadata": {},
   "source": [
    "# 5.1 Eigenvalues and Eigenvectors"
   ]
  },
  {
   "cell_type": "markdown",
   "metadata": {},
   "source": [
    "Eigenvector\n",
    ": An eigenvector of $A$ is a nonzero vector $\\vec v$ in $\\mathbb R^n$ such that $A\\vec v = \\lambda \\vec v$, for some scalar $\\lambda$.\n",
    "\n",
    "Eigenvalue\n",
    ": An eigenvalue of $A$ is a scalar $\\lambda$ such that the equation $A\\vec v = \\lambda \\vec v$ has a nontrivial solution.\n",
    "\n",
    "**Terminology.** If $A\\vec v = \\lambda \\vec v$ for some vector $\\vec v\\neq \\vec 0$, we say that $\\lambda$ is the eigenvalue for $\\vec v$, and that $\\vec v$ is an eigenvector for $\\lambda$."
   ]
  },
  {
   "cell_type": "markdown",
   "metadata": {},
   "source": [
    "## Determining if a vector is an eigenvector of a matrix\n",
    "\n",
    "### Example 1\n",
    "\n",
    "Determine if the vector $\\vec v$ is an eigenvector of the matrix $A$ where\n",
    "\n",
    "$$A = \\left[\\begin{array}{rrr}15&0&24\\\\9&2&18\\\\-8&0&-13\\end{array}\\right]$$\n",
    "\n",
    "and\n",
    "\n",
    "$$\\vec v = \\left[\\begin{array}{r}2\\\\3\\\\-1\\\\\\end{array}\\right]$$\n",
    "\n",
    "**Solution.** The question is whether the product $A\\vec v$ is equal to a scalar multiple of $\\vec v$, so we should just multiply and check."
   ]
  },
  {
   "cell_type": "code",
   "execution_count": 9,
   "metadata": {},
   "outputs": [
    {
     "name": "stdout",
     "output_type": "stream",
     "text": [
      "\n",
      "v =\n",
      "\n",
      "     2\n",
      "     3\n",
      "    -1\n",
      "\n",
      "\n"
     ]
    }
   ],
   "source": [
    "A = [15 0 24 ; 9 2 18 ; -8 0 -13 ];\n",
    "v = [ 2 ; 3 ; -1 ]"
   ]
  },
  {
   "cell_type": "code",
   "execution_count": 10,
   "metadata": {},
   "outputs": [
    {
     "name": "stdout",
     "output_type": "stream",
     "text": [
      "\n",
      "ans =\n",
      "\n",
      "     6\n",
      "     6\n",
      "    -3\n",
      "\n",
      "\n"
     ]
    }
   ],
   "source": [
    "A * v"
   ]
  },
  {
   "cell_type": "markdown",
   "metadata": {},
   "source": [
    "By inspection, we see that $A\\vec v$ is not a scalar multiple of $\\vec v$, so $\\vec v$ is not an eigenvector of $A$.\n"
   ]
  },
  {
   "cell_type": "markdown",
   "metadata": {},
   "source": [
    "### Example 2\n",
    "\n",
    "Determine if the vector $\\vec y$ is an eigenvector of the matrix $A$ where\n",
    "\n",
    "$$B = \\left[\\begin{array}{rrrr}-4&16&-14&22\\\\-6&20&-12&24\\\\3&-8&9&-11\\\\4&-12&8&-14\\\\\\end{array}\\right]$$\n",
    "\n",
    "and\n",
    "\n",
    "$$\\vec y = \\left[\\begin{array}{r}0\\\\-1\\\\0\\\\1\\end{array}\\right]$$\n",
    "\n",
    "**Solution.** Same question as above, so we multiply and check."
   ]
  },
  {
   "cell_type": "code",
   "execution_count": 14,
   "metadata": {},
   "outputs": [
    {
     "name": "stdout",
     "output_type": "stream",
     "text": [
      "\n",
      "y =\n",
      "\n",
      "     1\n",
      "    -1\n",
      "     0\n",
      "     1\n",
      "\n",
      "\n"
     ]
    }
   ],
   "source": [
    "B = [-4 16 -14 22 ; -6 20 -12 24 ; 3 -8 9 -11 ; 4 -12 8 -14 ];\n",
    "y = [1 ; -1 ; 0 ; 1 ]"
   ]
  },
  {
   "cell_type": "code",
   "execution_count": 15,
   "metadata": {},
   "outputs": [
    {
     "name": "stdout",
     "output_type": "stream",
     "text": [
      "\n",
      "ans =\n",
      "\n",
      "     2\n",
      "    -2\n",
      "     0\n",
      "     2\n",
      "\n",
      "\n"
     ]
    }
   ],
   "source": [
    "B*y"
   ]
  },
  {
   "cell_type": "markdown",
   "metadata": {},
   "source": [
    "Clearly, $B\\vec y = 2\\vec y$, so $2$ is an eignevalue of matrix $B$, and $y$ is its associated eigenvector."
   ]
  },
  {
   "cell_type": "markdown",
   "metadata": {},
   "source": [
    "## Finding eignevalues\n",
    "\n",
    "The *eignevalues* of a matrix $A$ are possible values $\\lambda$ such that\n",
    "\n",
    "$$A \\vec v=\\lambda \\vec v$$\n",
    "\n",
    "which, after some algebra, is equivalent to solving a homogeneous set of equations.\n",
    "\n",
    "$$\\begin{align} A \\vec v &= \\lambda \\vec v \\\\ \\iff \\hspace{5mm}A \\vec v - \\lambda \\vec v &= \\vec 0 \\\\ \\iff \\hspace{5mm}A \\vec v - \\lambda I \\vec v &= \\vec 0 \\\\ \\iff \\hspace{5mm} (A - \\lambda I) \\vec v &= \\vec 0\\end{align}$$\n",
    "\n",
    "This means we can test eigenvalues by creating the matrix\n",
    "\n",
    "$$A - \\lambda I$$\n",
    "\n",
    "and finding whether its *null space* has any nonzero vectors in it."
   ]
  },
  {
   "cell_type": "markdown",
   "metadata": {},
   "source": [
    "### Example\n",
    "\n",
    "Determine if $\\lambda = 3$ is an eigenvalue for the matrix $A$ where\n",
    "\n",
    "$$A = $$"
   ]
  },
  {
   "cell_type": "code",
   "execution_count": 20,
   "metadata": {},
   "outputs": [
    {
     "name": "stdout",
     "output_type": "stream",
     "text": [
      "\n",
      "a =\n",
      "\n",
      "     0     0     0\n",
      "    -1   -16    15\n",
      "    -1   -12    11\n",
      "\n",
      "\n"
     ]
    }
   ],
   "source": [
    "A = [3 0 0 ; -1 -13 15 ; -1 -12 14 ];\n",
    "a = A - 3*eye(3)"
   ]
  },
  {
   "cell_type": "markdown",
   "metadata": {},
   "source": [
    "To see if the null space is empty, we row-reduce the augmented matrix."
   ]
  },
  {
   "cell_type": "code",
   "execution_count": 21,
   "metadata": {},
   "outputs": [
    {
     "name": "stdout",
     "output_type": "stream",
     "text": [
      "\n",
      "ans =\n",
      "\n",
      "     1     0     1     0\n",
      "     0     1    -1     0\n",
      "     0     0     0     0\n",
      "\n",
      "\n"
     ]
    }
   ],
   "source": [
    "rref([a,zeros(3,1)])"
   ]
  },
  {
   "cell_type": "markdown",
   "metadata": {},
   "source": [
    "Because the homogeneous system is consistent, we know there are non-trivial solutions which means there are non-zero vectors in the null space of $A-\\lambda I$. Thus, $\\lambda = 3$ is an eigenvalue.\n",
    "\n",
    "### Example 3\n",
    "\n",
    "To determine the associated eigenvector(s) once we know an eigenvalue, we write the solutions to the homogeneous system in vector form.\n",
    "\n",
    "$$\\begin{align}x_1 &= -x_3 \\\\ x_2 &= x_3 \\\\  x_3 &\\text{ is free}\\end{align} \\implies \\vec v = \\left[\\begin{array}{r}-1\\\\1\\\\1\\\\\\end{array}\\right]$$\n",
    "\n",
    "The vector $\\vec v$ is an eigenvector of $A$ associated with the eigenvalue $\\lambda = 3$, which can be verified by multiplication."
   ]
  },
  {
   "cell_type": "code",
   "execution_count": 22,
   "metadata": {},
   "outputs": [
    {
     "name": "stdout",
     "output_type": "stream",
     "text": [
      "\n",
      "v =\n",
      "\n",
      "    -1\n",
      "     1\n",
      "     1\n",
      "\n",
      "\n"
     ]
    }
   ],
   "source": [
    "v = [ -1 ; 1 ; 1 ]"
   ]
  },
  {
   "cell_type": "code",
   "execution_count": 24,
   "metadata": {},
   "outputs": [
    {
     "name": "stdout",
     "output_type": "stream",
     "text": [
      "\n",
      "ans =\n",
      "\n",
      "    -3\n",
      "     3\n",
      "     3\n",
      "\n",
      "\n"
     ]
    }
   ],
   "source": [
    "A * v"
   ]
  },
  {
   "cell_type": "markdown",
   "metadata": {},
   "source": [
    "We are testing the specific equality:"
   ]
  },
  {
   "cell_type": "code",
   "execution_count": 26,
   "metadata": {},
   "outputs": [
    {
     "name": "stdout",
     "output_type": "stream",
     "text": [
      "\n",
      "ans =\n",
      "\n",
      "  3x1 logical array\n",
      "\n",
      "   1\n",
      "   1\n",
      "   1\n",
      "\n",
      "\n"
     ]
    }
   ],
   "source": [
    "A * v == 3 * v"
   ]
  },
  {
   "cell_type": "markdown",
   "metadata": {},
   "source": [
    "Because equality holds (all 1's in array), we know that we have found a eigenvalue-eigenvector pair."
   ]
  }
 ],
 "metadata": {
  "kernelspec": {
   "display_name": "Matlab",
   "language": "matlab",
   "name": "matlab"
  },
  "language_info": {
   "codemirror_mode": "octave",
   "file_extension": ".m",
   "help_links": [
    {
     "text": "MetaKernel Magics",
     "url": "https://metakernel.readthedocs.io/en/latest/source/README.html"
    }
   ],
   "mimetype": "text/x-octave",
   "name": "matlab",
   "version": "0.16.11"
  }
 },
 "nbformat": 4,
 "nbformat_minor": 4
}