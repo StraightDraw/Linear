{
 "cells": [
  {
   "cell_type": "markdown",
   "metadata": {},
   "source": [
    "# 5.1 Eigenvalues and Eigenvectors"
   ]
  },
  {
   "cell_type": "markdown",
   "metadata": {},
   "source": [
    "Eigenvector\n",
    ": An eigenvector of $A$ is a nonzero vector $\\vec v$ in $\\mathbb R^n$ such that $A\\vec v = \\lambda \\vec v$, for some scalar $\\lambda$.\n",
    "\n",
    "Eigenvalue\n",
    ": An eigenvalue of $A$ is a scalar $\\lambda$ such that the equation $A\\vec v = \\lambda \\vec v$ has a nontrivial solution.\n",
    "\n",
    "**Terminology.** If $A\\vec v = \\lambda \\vec v$ for some vector $\\vec v\\neq \\vec 0$, we say that $\\lambda$ is the eigenvalue for $\\vec v$, and that $\\vec v$ is an eigenvector for $\\lambda$."
   ]
  },
  {
   "cell_type": "markdown",
   "metadata": {},
   "source": [
    "## Example\n",
    "\n",
    "Determine if the vector $\\vec v$ is an eigenvector of the matrix $A$ where\n",
    "\n",
    "$$A = \\left[\\begin{array}{rrr}15&0&24\\\\9&2&18\\\\-8&0&-13\\\\\\end{array}\\right]$$\n",
    "\n",
    "and\n",
    "\n",
    "$$\\vec v = \\left[\\begin{array}{r}2\\\\3\\\\-1\\\\\\end{array}\\right]$$\n",
    "\n"
   ]
  },
  {
   "cell_type": "code",
   "execution_count": null,
   "metadata": {},
   "outputs": [],
   "source": []
  }
 ],
 "metadata": {
  "kernelspec": {
   "display_name": "Matlab",
   "language": "matlab",
   "name": "matlab"
  },
  "language_info": {
   "codemirror_mode": "octave",
   "file_extension": ".m",
   "help_links": [
    {
     "text": "MetaKernel Magics",
     "url": "https://metakernel.readthedocs.io/en/latest/source/README.html"
    }
   ],
   "mimetype": "text/x-octave",
   "name": "matlab",
   "version": "0.16.11"
  }
 },
 "nbformat": 4,
 "nbformat_minor": 4
}