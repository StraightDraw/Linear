{
 "cells": [
  {
   "cell_type": "markdown",
   "metadata": {},
   "source": [
    "# 5.2 The Characteristic Polynomial"
   ]
  },
  {
   "cell_type": "markdown",
   "metadata": {},
   "source": [
    "Characteristic Polynomial\n",
    ": For an $n \\times n$ matrix $A$, the *characteristic polynomial* of $A$ is\n",
    "\n",
    "$$p(\\lambda) = \\det \\left(A - \\lambda I \\right)$$"
   ]
  },
  {
   "cell_type": "markdown",
   "metadata": {},
   "source": [
    "## Section 1\n",
    "\n"
   ]
  },
  {
   "cell_type": "markdown",
   "metadata": {},
   "source": [
    "## Finding eignevalues\n",
    "\n",
    "The *eignevalues* of a matrix $A$ are possible values $\\lambda$ such that\n",
    "\n",
    "$$A \\vec v=\\lambda \\vec v$$\n",
    "\n",
    "which, after some algebra, is equivalent to solving a homogeneous set of equations.\n",
    "\n",
    "$$\\begin{align} A \\vec v &= \\lambda \\vec v \\\\ \\iff \\hspace{5mm}A \\vec v - \\lambda \\vec v &= \\vec 0 \\\\ \\iff \\hspace{5mm}A \\vec v - \\lambda I \\vec v &= \\vec 0 \\\\ \\iff \\hspace{5mm} (A - \\lambda I) \\vec v &= \\vec 0\\end{align}$$"
   ]
  },
  {
   "cell_type": "markdown",
   "metadata": {},
   "source": [
    "## Example: Eigenvalues and Eigenvectors\n",
    "\n",
    "Find the eigenvalues and associated eigenvectors of matrix $A$.\n",
    "\n",
    "$$A = \\left[\\begin{array}{rrr}3&0&0\\\\2&15&-14\\\\2&12&-11\\\\\\end{array}\\right]$$"
   ]
  },
  {
   "cell_type": "markdown",
   "metadata": {},
   "source": [
    "### Example 1a: Find the characteristic polynomial of matrix $A$\n",
    "\n",
    "The first step in finding the eigenvalues of matrix $A$ is determining its characteric polynomial which means finding the determinant of $A-\\lambda I$.\n",
    "\n",
    "$$\\begin{align}\n",
    "\\det \\left(A - \\lambda I\\right) &= \n",
    "\\det \\left( \\left[\\begin{array}{rrr}3&0&0\\\\2&15&-14\\\\2&12&-11\\end{array}\\right]-\\lambda\\left[\\begin{array}{rrr}1&0&0\\\\0&1&0\\\\0&0&1\\end{array}\\right]\\right)\\\\\n",
    "&=\\det \\left( \\left[\\begin{array}{rrr}3&0&0\\\\2&15&-14\\\\2&12&-11\\end{array}\\right]-\\left[\\begin{array}{rrr}\\lambda&0&0\\\\0&\\lambda&0\\\\0&0&\\lambda\\end{array}\\right]\\right)\\\\\n",
    "&=\\det \\left( \\left[\\begin{array}{rrr}3-\\lambda&0&0\\\\2&15-\\lambda&-14\\\\2&12&-11-\\lambda\\end{array}\\right]\\right)\n",
    "\\end{align}$$"
   ]
  },
  {
   "cell_type": "markdown",
   "metadata": {},
   "source": [
    "We can expand across the top row which has two zero's in it.\n",
    "\n",
    "$$\\det(A-\\lambda I) = (3-\\lambda)\\det\\left(\n",
    "\\left[\\begin{array}{rr}15-\\lambda&-14\\\\12&-11-\\lambda\\end{array}\\right]\\right)\n",
    "-(0)+(0)$$\n",
    "\n",
    "Since the\n",
    "\n",
    "$$\\begin{align}\\det\\left( \\left[\\begin{array}{rr}15-\\lambda&-14\\\\12&-11-\\lambda\\end{array}\\right] \\right) &= (15-\\lambda)(-11-\\lambda)-(12)(-14)\\\\\n",
    "&= \\lambda^2 +11\\lambda -15\\lambda - 165 + 168\\\\\n",
    "&= \\lambda^2 - 4\\lambda +3 \\end{align}$$\n",
    "\n",
    "we know the characteristic polynomial is the product\n",
    "\n",
    "$$\\begin{align}p(\\lambda)&=(3-\\lambda)(\\lambda^2 - 4\\lambda +3)\\\\\n",
    "&=-\\lambda^3 +4\\lambda^2 -3\\lambda +3\\lambda^2 - 12 \\lambda +9\\\\\n",
    "&= -\\lambda^3 +7\\lambda^2 -15 \\lambda + 9 \\end{align}$$"
   ]
  },
  {
   "cell_type": "markdown",
   "metadata": {},
   "source": [
    "We can confirm using the MATLAB `charpoly` function."
   ]
  },
  {
   "cell_type": "code",
   "execution_count": 35,
   "metadata": {},
   "outputs": [
    {
     "name": "stdout",
     "output_type": "stream",
     "text": [
      "\n",
      "ans =\n",
      "\n",
      "     1    -7    15    -9\n",
      "\n",
      "\n"
     ]
    }
   ],
   "source": [
    "A = [3 0 0 ; 2 15 -14 ; 2 12 -11 ];\n",
    "charpoly(A)"
   ]
  },
  {
   "cell_type": "markdown",
   "metadata": {},
   "source": [
    "### Example 1b: Finding the eigenvalues\n",
    "\n",
    "The coefficients from the `charpoly` function match our work if we mulitply through the expression by $-1$ which will be mathematically correct since the eigenvalues of the matrix are the *roots* of the characteristic polynomial. In fact, it was a waste of time algebraically to write $p(\\lambda)$ in expanded form since we actually need to set it equal to zero and factor it.\n",
    "\n",
    "$$\\begin{align}p(\\lambda)&=(3-\\lambda)(\\lambda^2 - 4\\lambda +3)\\\\\n",
    "&=-(\\lambda-3)(\\lambda -3)(\\lambda -1)\\\\\n",
    "&= -(\\lambda-3)^2(\\lambda -1) \\end{align}$$\n",
    "\n",
    "We set the characteristic polynomial equal to zero and solve.\n",
    "\n",
    "$$-(\\lambda-3)^2(\\lambda -1) = 0$$\n",
    "\n",
    "We have two eigenvalues.\n",
    "\n",
    "$$\\lambda=3 \\text{ and } \\lambda=1$$\n",
    "\n",
    "The multiplicity of the root $\\lambda=3$ is two. Eigenvalues also have multiplicties which match the multiplicities of their corresponding roots. Since the multiplicity of the $\\lambda =3$ eigenvalue is two, we expect two different eigenvectors to be associated with it."
   ]
  },
  {
   "cell_type": "markdown",
   "metadata": {},
   "source": [
    "### Example 1c: Finding the eigenvectors for $\\lambda = 1$\n",
    "\n",
    "As shown in section 1, to find an eigenvector related to $\\lambda = 1$, we must find the solutions (in vector form) to the homogeneous system of equations:\n",
    "\n",
    "$$A - \\lambda I = 0$$\n",
    "\n",
    "Substituting $\\lambda = 1$:\n",
    "\n",
    "$$A - I = 0$$\n",
    "\n",
    "We actually want to row reduce the augmented matrix $[A-I |\\vec 0]$."
   ]
  },
  {
   "cell_type": "code",
   "execution_count": 36,
   "metadata": {},
   "outputs": [
    {
     "name": "stdout",
     "output_type": "stream",
     "text": [
      "\n",
      "ans =\n",
      "\n",
      "     2     0     0\n",
      "     2    14   -14\n",
      "     2    12   -12\n",
      "\n",
      "\n"
     ]
    }
   ],
   "source": [
    "A - eye(3)"
   ]
  },
  {
   "cell_type": "code",
   "execution_count": 37,
   "metadata": {},
   "outputs": [
    {
     "name": "stdout",
     "output_type": "stream",
     "text": [
      "\n",
      "ans =\n",
      "\n",
      "     1     0     0     0\n",
      "     0     1    -1     0\n",
      "     0     0     0     0\n",
      "\n",
      "\n"
     ]
    }
   ],
   "source": [
    "rref([A-eye(3),zeros(3,1)])"
   ]
  },
  {
   "cell_type": "markdown",
   "metadata": {},
   "source": [
    "We can see that $x_3$ is a free variable and that\n",
    "\n",
    "$$\\begin{align}x_1 &= 0\\\\x_2 &= x_3\\end{align}$$\n",
    "\n",
    "So $\\vec v$ is an eigenvector.\n",
    "\n",
    "$$\\vec v =\\left[\\begin{array}{r}0\\\\1\\\\1\\\\\\end{array}\\right]$$\n",
    "\n",
    "We can test by multiplying the matrix by the eigenvector."
   ]
  },
  {
   "cell_type": "code",
   "execution_count": 38,
   "metadata": {},
   "outputs": [
    {
     "name": "stdout",
     "output_type": "stream",
     "text": [
      "\n",
      "ans =\n",
      "\n",
      "     0\n",
      "     1\n",
      "     1\n",
      "\n",
      "\n"
     ]
    }
   ],
   "source": [
    "v = [0 ; 1 ; 1 ];\n",
    "A*v"
   ]
  },
  {
   "cell_type": "markdown",
   "metadata": {},
   "source": [
    "We can also execute a code block with a conditional to check. Since\n",
    "\n",
    "```\n",
    "A*V == 1*v\n",
    "```\n",
    "\n",
    "evaluates `True`, we know that $\\lambda = 1$ is eigenvalue of $A$.\n",
    "\n"
   ]
  },
  {
   "cell_type": "markdown",
   "metadata": {},
   "source": [
    "### Example 1d: Finding the eigenvectors for $\\lambda = 3$\n",
    "\n",
    "Substituting $\\lambda = 3$ into $A - \\lambda I = \\vec 0$\n",
    "\n",
    "$$A - 3I = 0$$\n",
    "\n",
    "We actually want to row reduce the augmented matrix $[A-3I |\\vec 0 ]$."
   ]
  },
  {
   "cell_type": "code",
   "execution_count": 39,
   "metadata": {},
   "outputs": [
    {
     "name": "stdout",
     "output_type": "stream",
     "text": [
      "\n",
      "ans =\n",
      "\n",
      "     0     0     0\n",
      "     2    12   -14\n",
      "     2    12   -14\n",
      "\n",
      "\n"
     ]
    }
   ],
   "source": [
    "A - 3 * eye(3)"
   ]
  },
  {
   "cell_type": "markdown",
   "metadata": {},
   "source": [
    "Notice the rows of the matrix after the subtraction. This is typical when evaluating $A-\\lambda I$: having a row that is a scalar multiple of another."
   ]
  },
  {
   "cell_type": "code",
   "execution_count": 40,
   "metadata": {},
   "outputs": [
    {
     "name": "stdout",
     "output_type": "stream",
     "text": [
      "\n",
      "ans =\n",
      "\n",
      "     1     6    -7     0\n",
      "     0     0     0     0\n",
      "     0     0     0     0\n",
      "\n",
      "\n"
     ]
    }
   ],
   "source": [
    "rref([A - 3*eye(3),zeros(3,1)])"
   ]
  },
  {
   "cell_type": "markdown",
   "metadata": {},
   "source": [
    "$$x_1 = -6x_2 + 7x_3$$\n",
    "\n",
    "A solution vector $\\vec v$ has the form\n",
    "\n",
    "$$\\vec v = \\left[\\begin{array}{r}-6\\\\1\\\\0\\end{array}\\right]x_2 + \\left[\\begin{array}{r}7\\\\0\\\\1\\end{array}\\right]x_3$$\n",
    "\n",
    "where $x_2,x_3$ are scalars. This means we have two eigenvectors associated with the eigenvalue $\\lambda = 3$ which makes sense. The $\\lambda =3$ eigenvalue has *muliplicity* 2. Let's verify both vectors are eigenvectors. In MATLAB, the `|` symbol means `AND`. The code block below will evaluate as `True` if and only if both $\\vec v_1$ and $\\vec v_2$ are eigenvectors of $A$."
   ]
  },
  {
   "cell_type": "code",
   "execution_count": 41,
   "metadata": {},
   "outputs": [
    {
     "name": "stdout",
     "output_type": "stream",
     "text": [
      "\n",
      "ans =\n",
      "\n",
      "  3x1 logical array\n",
      "\n",
      "   1\n",
      "   1\n",
      "   1\n",
      "\n",
      "\n"
     ]
    }
   ],
   "source": [
    "A * v1 == 3*v1 |  A * v2 == 3*v2"
   ]
  },
  {
   "cell_type": "markdown",
   "metadata": {},
   "source": [
    "For clarity, it helps to see the multiplication steps."
   ]
  },
  {
   "cell_type": "code",
   "execution_count": 42,
   "metadata": {},
   "outputs": [
    {
     "name": "stdout",
     "output_type": "stream",
     "text": [
      "\n",
      "v1 =\n",
      "\n",
      "    -6\n",
      "     1\n",
      "     0\n",
      "\n",
      "\n",
      "ans =\n",
      "\n",
      "   -18\n",
      "     3\n",
      "     0\n",
      "\n",
      "\n"
     ]
    }
   ],
   "source": [
    "v1 = [-6 ; 1 ; 0]\n",
    "A*v1"
   ]
  },
  {
   "cell_type": "code",
   "execution_count": 43,
   "metadata": {},
   "outputs": [
    {
     "name": "stdout",
     "output_type": "stream",
     "text": [
      "\n",
      "v2 =\n",
      "\n",
      "     7\n",
      "     0\n",
      "     1\n",
      "\n",
      "\n",
      "ans =\n",
      "\n",
      "    21\n",
      "     0\n",
      "     3\n",
      "\n",
      "\n"
     ]
    }
   ],
   "source": [
    "v2 = [7 ; 0 ; 1]\n",
    "A*v2"
   ]
  },
  {
   "cell_type": "markdown",
   "metadata": {},
   "source": [
    "Either way, we now know all three unique eigenvectors and the two eigenvalues for $A$."
   ]
  },
  {
   "cell_type": "markdown",
   "metadata": {},
   "source": [
    "## Example 2: Find eigenvalues and eigenvectors with MATLAB\n",
    "\n",
    "Find all the eigenvalues and eigenvectors for matrix $B$.\n",
    "\n",
    "$$B = \\left[\\begin{array}{rrrr}-14&-78&26&66\\\\-2&-12&10&10\\\\6&27&-4&-24\\\\-9&-48&21&41\\\\\\end{array}\\right] $$\n",
    "\n",
    "The `charpoly` function in MATLAB will produce the coefficients of the characteristic polynomial."
   ]
  },
  {
   "cell_type": "code",
   "execution_count": 2,
   "metadata": {},
   "outputs": [
    {
     "name": "stdout",
     "output_type": "stream",
     "text": [
      "\n",
      "ans =\n",
      "\n",
      "     1   -11    38   -40     0\n",
      "\n",
      "\n"
     ]
    }
   ],
   "source": [
    "B = [-14 -78 26 66 ; -2 -12 10 10 ; 6 27 -4 -24 ; -9 -48 21 41 ];\n",
    "charpoly(B)"
   ]
  },
  {
   "cell_type": "markdown",
   "metadata": {},
   "source": [
    "However, we need to use the `syms` function from the Symbolic Math Toolbox to have MATLAB do the work for us. If you downloaded the software, you can repeat the process and select the correct toolbox. The download will be quick - MATLAB will only download and install the new packages, not the whole program. If you're working in MATLAB online, you should not need to do anything different."
   ]
  },
  {
   "cell_type": "code",
   "execution_count": 14,
   "metadata": {},
   "outputs": [
    {
     "name": "stdout",
     "output_type": "stream",
     "text": [
      " \n",
      "y =\n",
      " \n",
      "x^4 - 11*x^3 + 38*x^2 - 40*x\n",
      " \n",
      "\n"
     ]
    }
   ],
   "source": [
    "syms x\n",
    "y = charpoly(B,x)"
   ]
  },
  {
   "cell_type": "markdown",
   "metadata": {},
   "source": [
    "### Using `polynomialReduce` function to determine fully factored form of characteristic polynomial\n",
    "\n",
    "The function `polynomialReduce` returns the remainder when one polynomial is divided by another."
   ]
  },
  {
   "cell_type": "code",
   "execution_count": 15,
   "metadata": {},
   "outputs": [
    {
     "name": "stdout",
     "output_type": "stream",
     "text": [
      " \n",
      "ans =\n",
      " \n",
      "0\n",
      " \n",
      "\n"
     ]
    }
   ],
   "source": [
    "polynomialReduce(y,x)"
   ]
  },
  {
   "cell_type": "markdown",
   "metadata": {},
   "source": [
    "If we want to capture the quotient, too, we need to grab both the quotient and remainder of the division as shown."
   ]
  },
  {
   "cell_type": "code",
   "execution_count": 16,
   "metadata": {},
   "outputs": [
    {
     "name": "stdout",
     "output_type": "stream",
     "text": [
      " \n",
      "r =\n",
      " \n",
      "0\n",
      " \n",
      " \n",
      "q =\n",
      " \n",
      "x^3 - 11*x^2 + 38*x - 40\n",
      " \n",
      "\n"
     ]
    }
   ],
   "source": [
    "[r,q] = polynomialReduce(y,x)"
   ]
  },
  {
   "cell_type": "markdown",
   "metadata": {},
   "source": [
    "We know that any factors that divide $q(x)$ evenly must be of the form:\n",
    "\n",
    "$$\\begin{align} x&\\pm 1 \\\\ x&\\pm 2 \\\\ x&\\pm 4 \\\\ x&\\pm 5 \\\\ x&\\pm 8  \\end{align}$$\n",
    "\n",
    "To experiment, let's see if the factor $x+5$ dvides $q(x)$ evenly."
   ]
  },
  {
   "cell_type": "code",
   "execution_count": 22,
   "metadata": {},
   "outputs": [
    {
     "name": "stdout",
     "output_type": "stream",
     "text": [
      " \n",
      "r =\n",
      " \n",
      "-630\n",
      " \n",
      " \n",
      "q2 =\n",
      " \n",
      "x^2 - 16*x + 118\n",
      " \n",
      "\n"
     ]
    }
   ],
   "source": [
    "[r, q2] = polynomialReduce(q, x+5)"
   ]
  },
  {
   "cell_type": "markdown",
   "metadata": {},
   "source": [
    "With a remainder of $-630$, we know that $x+5$ is cleary *not* a factor. Let's retry it with $x-5$."
   ]
  },
  {
   "cell_type": "code",
   "execution_count": 23,
   "metadata": {},
   "outputs": [
    {
     "name": "stdout",
     "output_type": "stream",
     "text": [
      " \n",
      "r =\n",
      " \n",
      "0\n",
      " \n",
      " \n",
      "q2 =\n",
      " \n",
      "x^2 - 6*x + 8\n",
      " \n",
      "\n"
     ]
    }
   ],
   "source": [
    "[r, q2] = polynomialReduce(q, x-5)"
   ]
  },
  {
   "cell_type": "code",
   "execution_count": 24,
   "metadata": {},
   "outputs": [
    {
     "name": "stdout",
     "output_type": "stream",
     "text": [
      " \n",
      "r =\n",
      " \n",
      "0\n",
      " \n",
      " \n",
      "q3 =\n",
      " \n",
      "x - 2\n",
      " \n",
      "\n"
     ]
    }
   ],
   "source": [
    "[r,q3] = polynomialReduce(q2, x-4)"
   ]
  },
  {
   "cell_type": "markdown",
   "metadata": {},
   "source": [
    "If you were keeping track, you know that we have the following factors:\n",
    "\n",
    "$$\\begin{align} x&\\\\ x &- 2 \\\\ x &-4 \\\\ x&-5  \\end{align}$$\n",
    "\n",
    "As with any factoring problem, we can test our factored form by expanding."
   ]
  },
  {
   "cell_type": "code",
   "execution_count": 34,
   "metadata": {},
   "outputs": [
    {
     "name": "stdout",
     "output_type": "stream",
     "text": [
      " \n",
      "z =\n",
      " \n",
      "x*(x - 2)*(x - 4)*(x - 5)\n",
      " \n",
      "\n"
     ]
    }
   ],
   "source": [
    "z = x*(x-2)*(x-4)*(x-5)"
   ]
  },
  {
   "cell_type": "code",
   "execution_count": 35,
   "metadata": {},
   "outputs": [
    {
     "name": "stdout",
     "output_type": "stream",
     "text": [
      " \n",
      "ans =\n",
      " \n",
      "x^4 - 11*x^3 + 38*x^2 - 40*x\n",
      " \n",
      "\n"
     ]
    }
   ],
   "source": [
    "expand(z)"
   ]
  },
  {
   "cell_type": "markdown",
   "metadata": {},
   "source": [
    "The expanded form of $z$ matches $y$, so we have the correct factorization. This means that we now know all our eigenvalues.\n",
    "\n",
    "$$\\lambda = \\{0,2,4,5\\}$$"
   ]
  },
  {
   "cell_type": "markdown",
   "metadata": {},
   "source": [
    "### Finding eigenvalues for each eigenvalue"
   ]
  },
  {
   "cell_type": "markdown",
   "metadata": {},
   "source": [
    "#### For $\\lambda = 0$"
   ]
  },
  {
   "cell_type": "code",
   "execution_count": 67,
   "metadata": {},
   "outputs": [
    {
     "name": "stdout",
     "output_type": "stream",
     "text": [
      "\n",
      "ans =\n",
      "\n",
      "    1.0000         0         0   -1.0000         0\n",
      "         0    1.0000         0   -0.6667         0\n",
      "         0         0    1.0000         0         0\n",
      "         0         0         0         0         0\n",
      "\n",
      "\n"
     ]
    }
   ],
   "source": [
    "rref([B, zeros(4,1)])"
   ]
  },
  {
   "cell_type": "markdown",
   "metadata": {},
   "source": [
    "With $x_4$ free and $x_3 = 0$, solve to find eigenvector.\n",
    "\n",
    "$$\\vec v_0 = \\left[\\begin{array}{r}1\\\\2/3\\\\0\\\\1\\\\\\end{array}\\right]$$\n",
    "\n",
    "We are allowed to clear the denominators in the vector.\n",
    "\n",
    "$$\\vec v_0 = \\left[\\begin{array}{r}3\\\\2\\\\0\\\\3\\\\\\end{array}\\right]$$\n",
    "\n",
    "We will verify all of the eigenvectors at the end.\n",
    "\n",
    "#### For $\\lambda = 2$"
   ]
  },
  {
   "cell_type": "code",
   "execution_count": 62,
   "metadata": {},
   "outputs": [
    {
     "name": "stdout",
     "output_type": "stream",
     "text": [
      "\n",
      "ans =\n",
      "\n",
      "     1     0     0     4     0\n",
      "     0     1     0    -2     0\n",
      "     0     0     1    -1     0\n",
      "     0     0     0     0     0\n",
      "\n",
      "\n"
     ]
    }
   ],
   "source": [
    "rref([B - 2 * eye(4), zeros(4,1)])"
   ]
  },
  {
   "cell_type": "markdown",
   "metadata": {},
   "source": [
    "With $x_4$ free, solve to find eigenvector.\n",
    "\n",
    "$$\\vec v_2 = \\left[\\begin{array}{r}-4\\\\2\\\\1\\\\1\\\\\\end{array}\\right]$$\n",
    "\n",
    "#### For $\\lambda = 4$"
   ]
  },
  {
   "cell_type": "code",
   "execution_count": 63,
   "metadata": {},
   "outputs": [
    {
     "name": "stdout",
     "output_type": "stream",
     "text": [
      "\n",
      "ans =\n",
      "\n",
      "    1.0000         0         0    0.6667         0\n",
      "         0    1.0000         0   -1.3333         0\n",
      "         0         0    1.0000   -1.0000         0\n",
      "         0         0         0         0         0\n",
      "\n",
      "\n"
     ]
    }
   ],
   "source": [
    "rref([B - 4 * eye(4), zeros(4,1)])"
   ]
  },
  {
   "cell_type": "markdown",
   "metadata": {},
   "source": [
    "With $x_4$ free, solve to find eigenvector and clear denominator.\n",
    "\n",
    "$$\\vec v_4 = \\left[\\begin{array}{r}-2/3\\\\4/3\\\\1\\\\1\\\\\\end{array}\\right] \\rightarrow \\left[\\begin{array}{r}-2\\\\4\\\\3\\\\3\\\\\\end{array}\\right]$$\n",
    "\n",
    "#### For $\\lambda = 5$"
   ]
  },
  {
   "cell_type": "code",
   "execution_count": 68,
   "metadata": {},
   "outputs": [
    {
     "name": "stdout",
     "output_type": "stream",
     "text": [
      "\n",
      "ans =\n",
      "\n",
      "     1     0     0     2     0\n",
      "     0     1     0    -2     0\n",
      "     0     0     1    -2     0\n",
      "     0     0     0     0     0\n",
      "\n",
      "\n"
     ]
    }
   ],
   "source": [
    "rref([B - 5 * eye(4), zeros(4,1)])"
   ]
  },
  {
   "cell_type": "markdown",
   "metadata": {},
   "source": [
    "With $x_4$ free, solve to find eigenvector.\n",
    "\n",
    "$$\\vec v_5 = \\left[\\begin{array}{r}-2\\\\2\\\\2\\\\1\\\\\\end{array}\\right]$$\n",
    "\n",
    "We can now multiply the matrix $B$ by each eigenvector to verify the\n",
    "\n",
    "$$B \\vec v = \\lambda \\vec v $$\n",
    "\n",
    "property holds for each of them."
   ]
  },
  {
   "cell_type": "code",
   "execution_count": 69,
   "metadata": {},
   "outputs": [
    {
     "name": "stdout",
     "output_type": "stream",
     "text": [
      "\n"
     ]
    }
   ],
   "source": [
    "v0 = [ 3 ; 2 ; 0 ; 3 ];\n",
    "v2 = [ -4 ; 2 ; 1 ; 1 ];\n",
    "v4 = [ -2 ; 4 ; 3 ; 3 ];"
   ]
  },
  {
   "cell_type": "code",
   "execution_count": 70,
   "metadata": {},
   "outputs": [
    {
     "name": "stdout",
     "output_type": "stream",
     "text": [
      "\n",
      "ans =\n",
      "\n",
      "     0\n",
      "     0\n",
      "     0\n",
      "     0\n",
      "\n",
      "\n"
     ]
    }
   ],
   "source": [
    "B * v0"
   ]
  },
  {
   "cell_type": "code",
   "execution_count": 71,
   "metadata": {},
   "outputs": [
    {
     "name": "stdout",
     "output_type": "stream",
     "text": [
      "\n",
      "ans =\n",
      "\n",
      "    -8\n",
      "     4\n",
      "     2\n",
      "     2\n",
      "\n",
      "\n"
     ]
    }
   ],
   "source": [
    "B * v2"
   ]
  },
  {
   "cell_type": "code",
   "execution_count": 72,
   "metadata": {},
   "outputs": [
    {
     "name": "stdout",
     "output_type": "stream",
     "text": [
      "\n",
      "ans =\n",
      "\n",
      "    -8\n",
      "    16\n",
      "    12\n",
      "    12\n",
      "\n",
      "\n"
     ]
    }
   ],
   "source": [
    "B * v4"
   ]
  },
  {
   "cell_type": "markdown",
   "metadata": {},
   "source": [
    "Thus, we have verified all the eigenvalues and associated eigenvectors."
   ]
  }
 ],
 "metadata": {
  "kernelspec": {
   "display_name": "Matlab",
   "language": "matlab",
   "name": "matlab"
  },
  "language_info": {
   "codemirror_mode": "octave",
   "file_extension": ".m",
   "help_links": [
    {
     "text": "MetaKernel Magics",
     "url": "https://metakernel.readthedocs.io/en/latest/source/README.html"
    }
   ],
   "mimetype": "text/x-octave",
   "name": "matlab",
   "version": "0.16.11"
  }
 },
 "nbformat": 4,
 "nbformat_minor": 4
}