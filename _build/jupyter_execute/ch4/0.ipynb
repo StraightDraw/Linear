{
 "cells": [
  {
   "cell_type": "markdown",
   "metadata": {},
   "source": [
    "# Chapter 4\n",
    "\n",
    "## Determinants\n",
    "\n",
    "````{warning}\n",
    "Reading these materials and doing the excercises is **not enough** to understand the course material. You must also read and study the corresponding chapters and sections in the Margalit and Rabinoff [*Linear Algebra* online textbook](https://textbooks.math.gatech.edu/ila/chap-geometry.html).\n",
    "````\n",
    "The information below is like a study guide though much of the information is copied directly from Margalit and Rabinoff. You will be quizzed and tested not only on how to perform various tasks in MATLAB, but on your understanding of the visualizations and discussions in the textbook. Be sure to study these concepts prior to quizzes and tests."
   ]
  },
  {
   "cell_type": "markdown",
   "metadata": {},
   "source": [
    "### 4.1 Determinants: Definition\n",
    "\n",
    "1. Learn the definition of the determinant.\n",
    "2. Learn some ways to eyeball a matrix with zero determinant, and how to compute determinants of upper- and lower-triangular matrices.\n",
    "3. Learn the basic properties of the determinant, and how to apply them.\n",
    "4. Key Task: compute the determinant using row and column operations.\n",
    "5. Theorems: existence theorem, invertibility property, multiplicativity property, transpose property.\n",
    "\n",
    "**Vocabulary words.** Determinant, diagonal, upper-triangular, lower-triangular, transpose."
   ]
  },
  {
   "cell_type": "markdown",
   "metadata": {},
   "source": [
    "### 4.2 Cofactor Expansions\n",
    "\n",
    "1. Learn to recognize which methods are best suited to compute the determinant of a given matrix.\n",
    "2. Key Task: compute the determinant of $3\\times 3$ and $4\\times 4$ matrices using cofactor expansions.\n",
    "\n",
    "**Vocabulary words.** Minor, cofactor."
   ]
  },
  {
   "cell_type": "markdown",
   "metadata": {},
   "source": [
    "### 4.3 Determinants and Volumes\n",
    "\n",
    "1. Understand the relationship between the determinant of a matrix and the volume of a parallelepiped.\n",
    "2. Learn to use determinants to compute volumes of parallelograms and triangles.\n",
    "3. Learn to use determinants to compute the volume of some curvy shapes like ellipses (optional).\n",
    "4. Visulization: parallelepiped under the image of linear transformation.\n",
    "\n",
    "**Vocabulary word.** Parallelepiped."
   ]
  },
  {
   "cell_type": "markdown",
   "id": "trained-satellite",
   "metadata": {},
   "source": [
    "\n",
    "```{toctree}\n",
    ":hidden:\n",
    ":titlesonly:\n",
    "\n",
    "\n",
    "1\n",
    "2\n",
    "3\n",
    "```\n"
   ]
  }
 ],
 "metadata": {
  "kernelspec": {
   "display_name": "Matlab",
   "language": "matlab",
   "name": "matlab"
  },
  "language_info": {
   "codemirror_mode": "octave",
   "file_extension": ".m",
   "help_links": [
    {
     "text": "MetaKernel Magics",
     "url": "https://metakernel.readthedocs.io/en/latest/source/README.html"
    }
   ],
   "mimetype": "text/x-octave",
   "name": "matlab",
   "version": "0.16.11"
  }
 },
 "nbformat": 4,
 "nbformat_minor": 4
}