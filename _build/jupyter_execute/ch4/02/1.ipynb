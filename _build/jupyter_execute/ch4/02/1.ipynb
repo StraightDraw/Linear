{
 "cells": [
  {
   "cell_type": "markdown",
   "metadata": {},
   "source": [
    "# 4.2.1 Lab 7"
   ]
  },
  {
   "cell_type": "markdown",
   "metadata": {},
   "source": [
    "## Part I. Find determinant using row operations \n",
    "\n",
    "Transform the matrix to REF using only row swaps and row replacements. Show all steps in MATLAB. Then multiply the main diagonal entries and correct the sign based on number of row swaps needed.\n",
    "\n",
    "````{warning}\n",
    "You may not use the MATLAB `det()` function except to verify your solution.\n",
    "````\n",
    "\n",
    "If your birthday is in:\n",
    "\n",
    "* January through April, do matrix $J$.\n",
    "* May through August, do matrix $M$.\n",
    "* September through December, do matrix $S$."
   ]
  },
  {
   "cell_type": "markdown",
   "metadata": {},
   "source": [
    "$$J = \\left[\\begin{array}{rrrr}2&3&0&4\\\\5&0&4&3\\\\4&5&-2&-1\\\\0&-2&2&1\\\\\\end{array}\\right]$$"
   ]
  },
  {
   "cell_type": "code",
   "execution_count": 13,
   "metadata": {},
   "outputs": [
    {
     "name": "stdout",
     "output_type": "stream",
     "text": [
      "\n"
     ]
    }
   ],
   "source": [
    "J = [2 3 0 4 ; 5 0 4 3 ; 4 5 -2 -1 ; 0 -2 2 1 ];"
   ]
  },
  {
   "cell_type": "markdown",
   "metadata": {},
   "source": [
    "$$M = \\left[\\begin{array}{rrrr}5&1&3&0\\\\2&0&0&3\\\\3&-2&2&5\\\\3&1&-1&4\\\\\\end{array}\\right]$$"
   ]
  },
  {
   "cell_type": "code",
   "execution_count": 14,
   "metadata": {},
   "outputs": [
    {
     "name": "stdout",
     "output_type": "stream",
     "text": [
      "\n"
     ]
    }
   ],
   "source": [
    "M = [5 1 3 0 ; 2 0 0 3 ; 3 -2 2 5 ; 3 1 -1 4 ];"
   ]
  },
  {
   "cell_type": "markdown",
   "metadata": {},
   "source": [
    "$$S = \\left[\\begin{array}{rrrr}3&-2&4&0\\\\2&3&0&-1\\\\0&-1&-2&3\\\\5&1&2&1\\\\\\end{array}\\right]$$"
   ]
  },
  {
   "cell_type": "code",
   "execution_count": 15,
   "metadata": {},
   "outputs": [
    {
     "name": "stdout",
     "output_type": "stream",
     "text": [
      "\n"
     ]
    }
   ],
   "source": [
    "S = [3 -2 4 0 ; 2 3 0 -1 ; 0 -1 -2 3 ; 5 1 2 1 ];"
   ]
  },
  {
   "cell_type": "markdown",
   "metadata": {},
   "source": [
    "## Part II. Find determinant using any method you prefer \n",
    "\n",
    "Show all steps in MATLAB. You may wish to use the function `minor` which is demonstrated in the MATLAB notes and can be [copied from the appendix](../../../dix/6).\n",
    "\n",
    "````{warning}\n",
    "You may not use the MATLAB `det()` function except to verify your solution.\n",
    "````\n",
    "\n",
    "If your first name begins with:\n",
    "\n",
    "* A through C, do $A$.\n",
    "* D through K, do $D$.\n",
    "* J through Z, do $J$."
   ]
  },
  {
   "cell_type": "markdown",
   "metadata": {},
   "source": [
    "$$A = \\left[\\begin{array}{rrr}1&1&1\\\\0&0&2\\\\1&-1&0\\\\\\end{array}\\right]$$"
   ]
  },
  {
   "cell_type": "code",
   "execution_count": 16,
   "metadata": {},
   "outputs": [
    {
     "name": "stdout",
     "output_type": "stream",
     "text": [
      "\n"
     ]
    }
   ],
   "source": [
    "A = [1 1 1 ; 0 0 2 ; 1 -1 0 ];"
   ]
  },
  {
   "cell_type": "markdown",
   "metadata": {},
   "source": [
    "$$ D = \\left[\\begin{array}{rrr}0&1&3\\\\-1&0&4\\\\-1&-1&-1\\\\\\end{array}\\right]$$"
   ]
  },
  {
   "cell_type": "code",
   "execution_count": 17,
   "metadata": {},
   "outputs": [
    {
     "name": "stdout",
     "output_type": "stream",
     "text": [
      "\n"
     ]
    }
   ],
   "source": [
    "D = [0 1 3 ; -1 0 4 ; -1 -1 -1 ];"
   ]
  },
  {
   "cell_type": "markdown",
   "metadata": {},
   "source": [
    "$$J = \\left[\\begin{array}{rrr}0&3&1\\\\-1&4&1\\\\3&0&2\\\\\\end{array}\\right]$$"
   ]
  },
  {
   "cell_type": "code",
   "execution_count": 18,
   "metadata": {},
   "outputs": [
    {
     "name": "stdout",
     "output_type": "stream",
     "text": [
      "\n"
     ]
    }
   ],
   "source": [
    "J =[0 3 1 ; -1 4 1 ; 3 0 2 ];"
   ]
  },
  {
   "cell_type": "markdown",
   "metadata": {},
   "source": [
    "## Part III: Find determinant using any method you prefer \n",
    "\n",
    "Show all steps in MATLAB.\n",
    "\n",
    "````{warning}\n",
    "You may not use the MATLAB `det()` function except to verify your solution.\n",
    "````\n",
    "If your last name begins with:\n",
    "\n",
    "* B through G, do B.\n",
    "* H through Q, do H.\n",
    "* R through Z, do R.\n",
    "* A pick any of the three."
   ]
  },
  {
   "cell_type": "markdown",
   "metadata": {},
   "source": [
    "$$B = \\left[\\begin{array}{rrrr}0&-1&0&4\\\\4&0&0&0\\\\0&1&-1&0\\\\3&0&-1&3\\\\\\end{array}\\right]$$"
   ]
  },
  {
   "cell_type": "code",
   "execution_count": 19,
   "metadata": {},
   "outputs": [
    {
     "name": "stdout",
     "output_type": "stream",
     "text": [
      "\n"
     ]
    }
   ],
   "source": [
    "B = [0 -1 0 4 ; 4 0 0 0 ; 0 1 -1 0 ; 3 0 -1 3 ];"
   ]
  },
  {
   "cell_type": "markdown",
   "metadata": {},
   "source": [
    "$$H = \\left[\\begin{array}{rrrr}0&0&0&-1\\\\-1&-1&0&5\\\\0&1&0&0\\\\0&0&5&3\\\\\\end{array}\\right]$$"
   ]
  },
  {
   "cell_type": "code",
   "execution_count": 20,
   "metadata": {},
   "outputs": [
    {
     "name": "stdout",
     "output_type": "stream",
     "text": [
      "\n"
     ]
    }
   ],
   "source": [
    "H = [0 0 0 -1 ; -1 -1 0 5 ; 0 1 0 0 ; 0 0 5 3 ];"
   ]
  },
  {
   "cell_type": "markdown",
   "metadata": {},
   "source": [
    "$$R = \\left[\\begin{array}{rrrr}1&5&0&0\\\\1&4&0&1\\\\0&0&2&0\\\\0&0&5&1\\\\\\end{array}\\right]$$"
   ]
  },
  {
   "cell_type": "code",
   "execution_count": 21,
   "metadata": {},
   "outputs": [
    {
     "name": "stdout",
     "output_type": "stream",
     "text": [
      "\n"
     ]
    }
   ],
   "source": [
    "R =  [1 5 0 0 ; 1 4 0 1 ; 0 0 2 0 ; 0 0 5 1 ];"
   ]
  }
 ],
 "metadata": {
  "kernelspec": {
   "display_name": "Matlab",
   "language": "matlab",
   "name": "matlab"
  },
  "language_info": {
   "codemirror_mode": "octave",
   "file_extension": ".m",
   "help_links": [
    {
     "text": "MetaKernel Magics",
     "url": "https://metakernel.readthedocs.io/en/latest/source/README.html"
    }
   ],
   "mimetype": "text/x-octave",
   "name": "matlab",
   "version": "0.16.11"
  }
 },
 "nbformat": 4,
 "nbformat_minor": 4
}