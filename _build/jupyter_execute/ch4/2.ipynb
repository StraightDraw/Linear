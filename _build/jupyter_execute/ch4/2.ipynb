{
 "cells": [
  {
   "cell_type": "markdown",
   "metadata": {},
   "source": [
    "# 4.2 Cofactor Expansions\n",
    "\n",
    "Most linear algebra courses and textbooks define the determinant in terms of cofactor expansion, then mention how the determinant can also be found using row operations and the fact that the determinant of a triangular matrix is the product of its diagonals. Cofactors reduce the dimension of the matrices we need to find the determinant by one level. A $4\\times 4$ determinant is composed of four cofactors, each of which includes a $3\\times 3$ determinant.\n",
    "\n",
    "````{warning}\n",
    "Finding determinants bycofactor expansion is easily understood and easily programmed but terribly inefficient.\n",
    "````\n",
    "\n",
    "Minor\n",
    ": Let $A$ be an $n\\times n$ matrix. The $(i,j)$ *minor*, denoted $A_{ij}$, is the $(n−1)\\times(n−1)$ matrix obtained from $A$ by deleting Row $i$ and Column $j$.\n",
    "\n",
    "Cofactor\n",
    ": The $(i,j)$ cofactor $C_{ij}$ is defined in terms of the minor by\n",
    "\n",
    "    $$C_{ij} = (−1)^{i+j}\\det(A_{ij})$$"
   ]
  },
  {
   "cell_type": "markdown",
   "metadata": {},
   "source": [
    "## Example\n",
    "\n",
    "The process is quite easy to understand from an example. We will show the cofactor expansion across the first row of matrix M.\n",
    "\n",
    "$$M = \\left[\\begin{array}{rrr}6&1&4\\\\0&0&3\\\\8&0&1\\\\\\end{array}\\right]$$\n",
    "\n",
    "**The Process**\n",
    "\n",
    "* Since $m_{11}=6$, we multiply it by the $C_{11}$ cofactor.\n",
    "* Since $m_{12}=1$, we multiply it by the $C_{12}$ cofactor.\n",
    "* Since $m_{13}=4$, we multiply it by the $C_{13}$ cofactor.\n",
    "* The sum of these products is the determinant."
   ]
  },
  {
   "cell_type": "markdown",
   "metadata": {},
   "source": [
    "$$\\begin{align*}\n",
    "\\det(M) &= 6 \\det\\left( \\left[\\begin{array}{rr}0&3\\\\0&1\\\\\\end{array}\\right] \\right) - \\det\\left( \\left[\\begin{array}{rr}0&3\\\\8&1\\\\\\end{array}\\right] \\right) + 4 \\det\\left( \\left[\\begin{array}{rr}0&0\\\\8&0\\\\\\end{array}\\right] \\right)\\\\\n",
    "&= 6 (0) - 24 + 4 (0)\\\\ &= -24\n",
    "\\end{align*}$$\n",
    "\n",
    "which we can verify using MATLAB's determinant function."
   ]
  },
  {
   "cell_type": "code",
   "execution_count": 4,
   "metadata": {},
   "outputs": [
    {
     "name": "stdout",
     "output_type": "stream",
     "text": [
      "\n",
      "ans =\n",
      "\n",
      "    24\n",
      "\n",
      "\n"
     ]
    }
   ],
   "source": [
    "M = [ 6 1 4 ; 0 0 3 ; 8 0 1 ];\n",
    "det(M)"
   ]
  },
  {
   "cell_type": "markdown",
   "metadata": {},
   "source": [
    "## Choosing the best row or column for cofactor expansion\n",
    "\n",
    "Any time we can avoid calculating a determinant, the cofactor expansion process becomes strikingly simpler. Students quickly learn to scan for the row or column with the most zeros. Consider the situation if we expand across the second row.\n",
    "\n",
    "$$\\begin{align*}\n",
    "\\det(M) &= - (0) \\det\\left( \\left[\\begin{array}{rr}*&*\\\\*&*\\end{array}\\right] \\right) + (0) \\det\\left( \\left[\\begin{array}{rr}*&*\\\\*&*\\end{array}\\right] \\right) - 3 \\det\\left( \\left[\\begin{array}{rr}6&1\\\\8&0\\\\\\end{array}\\right] \\right)\\\\\n",
    "&= 0+0 - 3(8) \\\\ &= -24\n",
    "\\end{align*}$$\n",
    "\n",
    "We can ignore any determinant (cofactor) where the corresponding matrix entry is zero. The situation is identical if we expand down the middle column:\n",
    "\n",
    "$$\\begin{align*}\n",
    "\\det(M) &= - (1) \\det\\left( \\left[\\begin{array}{rr}0&3\\\\8&1\\\\\\end{array}\\right]\\right) + (0) -(0)\\\\\n",
    "&= -(1)(24) + 0 - 0 \\\\ &= -24\n",
    "\\end{align*}$$"
   ]
  },
  {
   "cell_type": "markdown",
   "metadata": {},
   "source": [
    "## Calculating minors in MATLAB\n",
    "\n",
    "Deleting a row or column in MATLAB requires setting it equal to the empty matrix. For example, to calculate the minor corresponding to the 1st row, 2nd column, we delete the 1st row first, then the 2nd column."
   ]
  },
  {
   "cell_type": "code",
   "execution_count": 6,
   "metadata": {},
   "outputs": [
    {
     "name": "stdout",
     "output_type": "stream",
     "text": [
      "\n",
      "M =\n",
      "\n",
      "     0     0     3\n",
      "     8     0     1\n",
      "\n",
      "\n"
     ]
    }
   ],
   "source": [
    "M(1,:)=[]"
   ]
  },
  {
   "cell_type": "code",
   "execution_count": 7,
   "metadata": {},
   "outputs": [
    {
     "name": "stdout",
     "output_type": "stream",
     "text": [
      "\n",
      "M =\n",
      "\n",
      "     0     3\n",
      "     8     1\n",
      "\n",
      "\n"
     ]
    }
   ],
   "source": [
    "M(:,2)=[]"
   ]
  },
  {
   "cell_type": "markdown",
   "metadata": {},
   "source": [
    "````{warning}\n",
    "We cannot complete the calcualtion of a minor in one MATLAB step.\n",
    "````"
   ]
  },
  {
   "cell_type": "code",
   "execution_count": 10,
   "metadata": {},
   "outputs": [
    {
     "name": "stderr",
     "output_type": "stream",
     "text": [
      "\u001b[1;31mA null assignment can have only one non-colon index.\n",
      "\n",
      "\u001b[0m"
     ]
    }
   ],
   "source": [
    "M(1,2)=[]"
   ]
  },
  {
   "cell_type": "markdown",
   "metadata": {},
   "source": [
    "To make life a bit easier, I created a function called `minor` which is [explained in the appendix](../dix/6) and shown below."
   ]
  },
  {
   "cell_type": "code",
   "execution_count": 25,
   "metadata": {
    "collapsed": true,
    "jupyter": {
     "outputs_hidden": true
    }
   },
   "outputs": [
    {
     "name": "stdout",
     "output_type": "stream",
     "text": [
      "Created file 'C:\\Users\\robbs\\Documents\\Conda\\GitBook\\Linear\\content\\ch4\\minor.m'.\n"
     ]
    }
   ],
   "source": [
    "%%file minor.m\n",
    "\n",
    "function myMatrix = minor(A,i,j)\n",
    "    arguments\n",
    "        A (:,:,:)\n",
    "        i (1,1) {mustBeInteger, mustBePositive}\n",
    "        j (1,1) {mustBeInteger, mustBePositive}\n",
    "    end\n",
    "\n",
    "A(i,:) = [];\n",
    "A(:,j) = [];\n",
    "\n",
    "myMatrix = A;\n",
    "end"
   ]
  },
  {
   "cell_type": "markdown",
   "metadata": {},
   "source": [
    "## Example with a $4\\times 4$ matrix\n",
    "\n",
    "Find the determinant of matrix $B$ using cofactor expansion.\n",
    "\n",
    "$$B = \\left[\\begin{array}{rrrr}-1&0&2&4\\\\0&1&-1&2\\\\0&0&2&0\\\\0&-1&0&0\\\\\\end{array}\\right]$$\n",
    "\n",
    "We have a couple of options, but let's expand across the bottom row a let $d = \\det(B)$."
   ]
  },
  {
   "cell_type": "code",
   "execution_count": 26,
   "metadata": {},
   "outputs": [
    {
     "name": "stdout",
     "output_type": "stream",
     "text": [
      "\n",
      "b =\n",
      "\n",
      "     1    -2    -4\n",
      "     0     1    -2\n",
      "     0    -2     0\n",
      "\n",
      "\n"
     ]
    }
   ],
   "source": [
    "B = [-1 0 2 4 ; 0 1 -1 2 ; 0 0 2 0 ; 0 -1 0 0 ];\n",
    "b = (-1) * minor(B,4,2)"
   ]
  },
  {
   "cell_type": "markdown",
   "metadata": {},
   "source": [
    "Because we were careful to include the sign of the cofactor and multiply by the $b_{42}$ entry, the determinant of the original matrix is simply the determinant of this $3\\times 3$ matrix which can be evaluated using only one $2\\times 2$ determinant."
   ]
  },
  {
   "cell_type": "code",
   "execution_count": 21,
   "metadata": {},
   "outputs": [
    {
     "name": "stdout",
     "output_type": "stream",
     "text": [
      "\n",
      "ans =\n",
      "\n",
      "     4\n",
      "\n",
      "\n"
     ]
    }
   ],
   "source": [
    "(-1) * det(minor(b,1,1))"
   ]
  },
  {
   "cell_type": "markdown",
   "metadata": {},
   "source": [
    "We can verify our work."
   ]
  },
  {
   "cell_type": "code",
   "execution_count": 24,
   "metadata": {},
   "outputs": [
    {
     "name": "stdout",
     "output_type": "stream",
     "text": [
      "\n",
      "ans =\n",
      "\n",
      "    -4\n",
      "\n",
      "\n"
     ]
    }
   ],
   "source": [
    "det(B)"
   ]
  },
  {
   "cell_type": "markdown",
   "metadata": {},
   "source": [
    "Finding determinants using cofactor expansion is very much a pencil-and-paper calculation for most mathematics students, but hopefully the use of the `minor` function will help you see exactly what is happening. You should practice taking determinants using cofactor expansion when the matrices are not filled with zeros.\n",
    "\n",
    "Still, whenever possible, use row reduction methods instead of cofactor expansions."
   ]
  },
  {
   "cell_type": "markdown",
   "id": "multiple-assessment",
   "metadata": {},
   "source": [
    "\n",
    "```{toctree}\n",
    ":hidden:\n",
    ":titlesonly:\n",
    "\n",
    "\n",
    "02/1\n",
    "```\n"
   ]
  }
 ],
 "metadata": {
  "kernelspec": {
   "display_name": "Matlab",
   "language": "matlab",
   "name": "matlab"
  },
  "language_info": {
   "codemirror_mode": "octave",
   "file_extension": ".m",
   "help_links": [
    {
     "text": "MetaKernel Magics",
     "url": "https://metakernel.readthedocs.io/en/latest/source/README.html"
    }
   ],
   "mimetype": "text/x-octave",
   "name": "matlab",
   "version": "0.16.11"
  }
 },
 "nbformat": 4,
 "nbformat_minor": 4
}