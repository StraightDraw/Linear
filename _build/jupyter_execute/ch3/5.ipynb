{
 "cells": [
  {
   "cell_type": "markdown",
   "metadata": {},
   "source": [
    "# 3.5 Matrix Inverses"
   ]
  },
  {
   "cell_type": "markdown",
   "metadata": {},
   "source": [
    "Only a square matrix $A$ can only have an inverse, since by definition a matrix $B$ is the inverse of $A$ only if\n",
    "\n",
    "$$AB = BA = I$$\n",
    "\n",
    "Both the inner and outer dimensions must match since the multiplication must be legal in both cases, so only $n\\times n$ matrices can be invertible.\n",
    "\n",
    "````{warning}\n",
    "Many square matrices are **not invertible**.\n",
    "````"
   ]
  },
  {
   "cell_type": "markdown",
   "metadata": {},
   "source": [
    "## Inverses and row reduction\n",
    "\n",
    "If we row reduce an invertible matrix $A$ augmented with the identity matrix all the way to RREF, then the result will give us $A^{-1}$.\n",
    "\n",
    "$$ [A|I] \\hspace{5mm}\\rightarrow\\text{to RREF}\\hspace{5mm}=\\hspace{5mm} \\left[I|A^{-1}\\right]$$"
   ]
  },
  {
   "cell_type": "markdown",
   "metadata": {},
   "source": [
    "### Example\n",
    "\n",
    "Determine if $A$ is invertible. If so, find $A^{-1}$.\n",
    "\n",
    "$$A = \\left[\\begin{array}{rrr}-1&-1&0\\\\3&4&-1\\\\1&-2&2\\\\\\end{array}\\right]$$"
   ]
  },
  {
   "cell_type": "markdown",
   "metadata": {},
   "source": [
    "We augment $A$ with the $3\\times 3$ identity matrix $I_3$.\n",
    "\n",
    "$$[A,I_3] = \\left[\\begin{array}{rrr|rrr}-1&-1&0&1&0&0\\\\3&4&-1&0&1&0\\\\1&-2&2&0&0&1\\\\\\end{array}\\right]$$"
   ]
  },
  {
   "cell_type": "markdown",
   "metadata": {},
   "source": [
    "When the left side of the augmented matrix is in RREF form, we will either have $I_3$ or fewer than three pivots. If $A$ row reduces to $I$, then $A$ is invertible and its inverse appears on the right side of the row-reduced augmented matrix."
   ]
  },
  {
   "cell_type": "code",
   "execution_count": 36,
   "metadata": {},
   "outputs": [
    {
     "name": "stdout",
     "output_type": "stream",
     "text": [
      "\n",
      "A =\n",
      "\n",
      "    -1    -1     0\n",
      "     3     4    -1\n",
      "     1     2     2\n",
      "\n",
      "\n"
     ]
    }
   ],
   "source": [
    "A = [ -1 -1 0 ; 3 4 -1; 1 2 2 ]"
   ]
  },
  {
   "cell_type": "markdown",
   "metadata": {},
   "source": [
    "As usual, we will use a lower-case letter while doing our row operations. Let's create the augmented matrix\n",
    "\n",
    "$$a = [A|]$$\n",
    "\n"
   ]
  },
  {
   "cell_type": "code",
   "execution_count": 37,
   "metadata": {},
   "outputs": [
    {
     "name": "stdout",
     "output_type": "stream",
     "text": [
      "\n",
      "a =\n",
      "\n",
      "    -1    -1     0     1     0     0\n",
      "     3     4    -1     0     1     0\n",
      "     1     2     2     0     0     1\n",
      "\n",
      "\n"
     ]
    }
   ],
   "source": [
    "a = [A,eye(3)]"
   ]
  },
  {
   "cell_type": "markdown",
   "metadata": {},
   "source": [
    "### Row reduce"
   ]
  },
  {
   "cell_type": "code",
   "execution_count": 49,
   "metadata": {},
   "outputs": [
    {
     "name": "stdout",
     "output_type": "stream",
     "text": [
      "\n",
      "a =\n",
      "\n",
      "    1.0000         0         0   -3.3333   -0.6667   -0.3333\n",
      "         0    1.0000         0    2.3333    0.6667    0.3333\n",
      "         0         0    1.0000   -0.6667   -0.3333    0.3333\n",
      "\n",
      "\n"
     ]
    }
   ],
   "source": [
    "a([1 3],:) = a([3 1],:)"
   ]
  },
  {
   "cell_type": "code",
   "execution_count": 50,
   "metadata": {},
   "outputs": [
    {
     "name": "stdout",
     "output_type": "stream",
     "text": [
      "\n",
      "a =\n",
      "\n",
      "    1.0000         0         0   -3.3333   -0.6667   -0.3333\n",
      "   -3.0000    1.0000         0   12.3333    2.6667    1.3333\n",
      "         0         0    1.0000   -0.6667   -0.3333    0.3333\n",
      "\n",
      "\n"
     ]
    }
   ],
   "source": [
    "a(2,:) = a(2,:) - 3 * a(1,:)"
   ]
  },
  {
   "cell_type": "code",
   "execution_count": 51,
   "metadata": {},
   "outputs": [
    {
     "name": "stdout",
     "output_type": "stream",
     "text": [
      "\n",
      "a =\n",
      "\n",
      "    1.0000         0         0   -3.3333   -0.6667   -0.3333\n",
      "   -3.0000    1.0000         0   12.3333    2.6667    1.3333\n",
      "    1.0000         0    1.0000   -4.0000   -1.0000   -0.0000\n",
      "\n",
      "\n"
     ]
    }
   ],
   "source": [
    "a(3,:) = a(3,:) + a(1,:)"
   ]
  },
  {
   "cell_type": "code",
   "execution_count": 52,
   "metadata": {},
   "outputs": [
    {
     "name": "stdout",
     "output_type": "stream",
     "text": [
      "\n",
      "a =\n",
      "\n",
      "    1.0000         0         0   -3.3333   -0.6667   -0.3333\n",
      "    1.0000         0    1.0000   -4.0000   -1.0000   -0.0000\n",
      "   -3.0000    1.0000         0   12.3333    2.6667    1.3333\n",
      "\n",
      "\n"
     ]
    }
   ],
   "source": [
    "a([2 3],:) = a([3 2],:)"
   ]
  },
  {
   "cell_type": "code",
   "execution_count": 53,
   "metadata": {},
   "outputs": [
    {
     "name": "stdout",
     "output_type": "stream",
     "text": [
      "\n",
      "a =\n",
      "\n",
      "    1.0000         0         0   -3.3333   -0.6667   -0.3333\n",
      "    1.0000         0    1.0000   -4.0000   -1.0000   -0.0000\n",
      "   -1.0000    1.0000    2.0000    4.3333    0.6667    1.3333\n",
      "\n",
      "\n"
     ]
    }
   ],
   "source": [
    "a(3,:) = a(3,:) + 2 * a(2,:)"
   ]
  },
  {
   "cell_type": "code",
   "execution_count": 54,
   "metadata": {},
   "outputs": [
    {
     "name": "stdout",
     "output_type": "stream",
     "text": [
      "\n",
      "a =\n",
      "\n",
      "    1.0000         0         0   -3.3333   -0.6667   -0.3333\n",
      "    1.0000         0    1.0000   -4.0000   -1.0000   -0.0000\n",
      "    0.3333   -0.3333   -0.6667   -1.4444   -0.2222   -0.4444\n",
      "\n",
      "\n"
     ]
    }
   ],
   "source": [
    "a(3,:) = a(3,:) / -3"
   ]
  },
  {
   "cell_type": "code",
   "execution_count": 55,
   "metadata": {},
   "outputs": [
    {
     "name": "stdout",
     "output_type": "stream",
     "text": [
      "\n",
      "a =\n",
      "\n",
      "    1.0000         0         0   -3.3333   -0.6667   -0.3333\n",
      "    0.3333    0.6667    2.3333   -1.1111   -0.5556    0.8889\n",
      "    0.3333   -0.3333   -0.6667   -1.4444   -0.2222   -0.4444\n",
      "\n",
      "\n"
     ]
    }
   ],
   "source": [
    "a(2,:) = a(2,:) - 2 * a(3,:)"
   ]
  },
  {
   "cell_type": "code",
   "execution_count": 56,
   "metadata": {},
   "outputs": [
    {
     "name": "stdout",
     "output_type": "stream",
     "text": [
      "\n",
      "a =\n",
      "\n",
      "    0.3333    0.6667    1.3333   -0.4444   -0.2222    0.5556\n",
      "    0.3333    0.6667    2.3333   -1.1111   -0.5556    0.8889\n",
      "    0.3333   -0.3333   -0.6667   -1.4444   -0.2222   -0.4444\n",
      "\n",
      "\n"
     ]
    }
   ],
   "source": [
    "a(1,:) = a(1,:) - 2 * a(3,:)"
   ]
  },
  {
   "cell_type": "code",
   "execution_count": 57,
   "metadata": {},
   "outputs": [
    {
     "name": "stdout",
     "output_type": "stream",
     "text": [
      "\n",
      "a =\n",
      "\n",
      "   -0.3333   -0.6667   -3.3333    1.7778    0.8889   -1.2222\n",
      "    0.3333    0.6667    2.3333   -1.1111   -0.5556    0.8889\n",
      "    0.3333   -0.3333   -0.6667   -1.4444   -0.2222   -0.4444\n",
      "\n",
      "\n"
     ]
    }
   ],
   "source": [
    "a(1,:) = a(1,:) - 2 * a(2,:)"
   ]
  },
  {
   "cell_type": "code",
   "execution_count": 58,
   "metadata": {},
   "outputs": [
    {
     "name": "stdout",
     "output_type": "stream",
     "text": [
      "\n",
      "ans =\n",
      "\n",
      "  3x84 char array\n",
      "\n",
      "    '     -1/3          -2/3         -10/3          16/9           8/9         -11/9     '\n",
      "    '      1/3           2/3           7/3         -10/9          -5/9           8/9     '\n",
      "    '      1/3          -1/3          -2/3         -13/9          -2/9          -4/9     '\n",
      "\n",
      "\n"
     ]
    }
   ],
   "source": [
    "rats(a)"
   ]
  },
  {
   "cell_type": "markdown",
   "metadata": {},
   "source": [
    "Since the left-hand side of the augmented matrix is $I_3$, the right side is $A^{-1}$.\n",
    "\n",
    "$$\\left[\\begin{array}{rrr}-10/3 & -2/3 & -1/3\\\\7/3 & 2/3 & 1/3 \\\\ -2/3 & -1/3 & 1/3\\end{array}\\right]$$\n"
   ]
  },
  {
   "cell_type": "markdown",
   "id": "fourth-holly",
   "metadata": {},
   "source": [
    "\n",
    "```{toctree}\n",
    ":hidden:\n",
    ":titlesonly:\n",
    "\n",
    "\n",
    "05/1\n",
    "```\n"
   ]
  }
 ],
 "metadata": {
  "kernelspec": {
   "display_name": "Matlab",
   "language": "matlab",
   "name": "matlab"
  },
  "language_info": {
   "codemirror_mode": "octave",
   "file_extension": ".m",
   "help_links": [
    {
     "text": "MetaKernel Magics",
     "url": "https://metakernel.readthedocs.io/en/latest/source/README.html"
    }
   ],
   "mimetype": "text/x-octave",
   "name": "matlab",
   "version": "0.16.11"
  }
 },
 "nbformat": 4,
 "nbformat_minor": 4
}