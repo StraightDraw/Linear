{
 "cells": [
  {
   "cell_type": "markdown",
   "metadata": {},
   "source": [
    "# 3.1 Matrix Transformations"
   ]
  },
  {
   "cell_type": "markdown",
   "metadata": {},
   "source": [
    "## Functions\n",
    "The Margalit text suggests thinking first of a function like\n",
    "\n",
    "$$f(x)=x^2$$\n",
    "\n",
    "except that we are now going to use a vector $\\vec x$ as the input. Our output will be a vector $\\vec y$, too. A transformation looks very similar.\n",
    "\n",
    "$$T\\left(\\vec x\\right) = \\vec y$$\n",
    "\n"
   ]
  },
  {
   "cell_type": "markdown",
   "metadata": {},
   "source": [
    "## Example\n",
    "\n",
    "Consider the transformation $T\\left(\\vec x\\right)$ accomplished by mutliplication of the vector $\\vec x$ by the matrix \n",
    "\n",
    "$$A = \\left[\\begin{array}{rrrr}-2&1&3&1\\\\-2&1&2&0\\\\\\end{array}\\right]$$\n",
    "\n",
    "\n",
    "\n"
   ]
  },
  {
   "cell_type": "code",
   "execution_count": 4,
   "metadata": {},
   "outputs": [
    {
     "name": "stdout",
     "output_type": "stream",
     "text": [
      "\n",
      "A =\n",
      "\n",
      "    -2     1     3     1\n",
      "    -2     1     2     0\n",
      "\n",
      "\n"
     ]
    }
   ],
   "source": [
    "A = [-2 1 3 1 ; -2 1 2 0 ]"
   ]
  },
  {
   "cell_type": "markdown",
   "metadata": {},
   "source": [
    "### Domain\n",
    "\n",
    "The domain of $T\\left(\\vec x\\right)$ consists of all possible vectors that can be multiplied by $A$, in this case, all possible 4-component vectors. The domain for $T\\left(\\vec x\\right)$ is $\\mathbb R^4$. "
   ]
  },
  {
   "cell_type": "code",
   "execution_count": 5,
   "metadata": {},
   "outputs": [
    {
     "name": "stdout",
     "output_type": "stream",
     "text": [
      "\n",
      "ans =\n",
      "\n",
      "    -9\n",
      "    -8\n",
      "\n",
      "\n",
      "ans =\n",
      "\n",
      "   -12\n",
      "    -9\n",
      "\n",
      "\n"
     ]
    }
   ],
   "source": [
    "x1 = [1 ; 0 ; -3 ; 2];\n",
    "x2 = [4 ; 3 ; -2 ; -1];\n",
    "\n",
    "A * x1\n",
    "A * x2"
   ]
  },
  {
   "cell_type": "markdown",
   "metadata": {},
   "source": [
    "### Codomain\n",
    "\n",
    "When we multiply $A\\vec x$, the output is a 2-component vector, so the codomain is $\\mathbb R^2$. The range is subset of the codomain. The codomain is the vector space where the vectors live. The range is a subset of that vector space. Sometime the range subset is the entire codomain. If so, the transforamtion is called *onto*.\n",
    "\n",
    "Consider an arbitrary vector in $\\mathbb R^2$. \n",
    "\n",
    "$$\\vec y = \\left[\\begin{array}{r}-2\\\\1\\\\\\end{array}\\right]$$\n",
    "\n",
    "Let's create the augmented matrix and find the preimage."
   ]
  },
  {
   "cell_type": "code",
   "execution_count": 6,
   "metadata": {},
   "outputs": [
    {
     "name": "stdout",
     "output_type": "stream",
     "text": [
      "\n",
      "y =\n",
      "\n",
      "    -2\n",
      "     1\n",
      "\n",
      "\n",
      "ans =\n",
      "\n",
      "    1.0000   -0.5000         0    1.0000   -3.5000\n",
      "         0         0    1.0000    1.0000   -3.0000\n",
      "\n",
      "\n"
     ]
    }
   ],
   "source": [
    "y = [-2 ; 1]\n",
    "rref([A,y])"
   ]
  },
  {
   "cell_type": "markdown",
   "metadata": {},
   "source": [
    "Because the linear system is consistent, we know that $\\vec y$ is in the range of $T\\left(\\vec x\\right)$. We will dig deeper into these concepts in the next section.\n",
    "\n",
    "<iframe scrolling=\"no\" title=\"Pasch's Axiom\" src=\"https://www.geogebra.org/material/iframe/id/pDU4peV5/width/1180/height/360/border/888888/sfsb/true/smb/false/stb/false/stbh/false/ai/false/asb/false/sri/false/rc/false/ld/false/sdz/true/ctl/false\" width=\"100%\" height=\"100%\" style=\"border:1px;\" allowfullscreen; style=\"display:block\" > </iframe>"
   ]
  }
 ],
 "metadata": {
  "kernelspec": {
   "display_name": "Matlab",
   "language": "matlab",
   "name": "matlab"
  },
  "language_info": {
   "codemirror_mode": "octave",
   "file_extension": ".m",
   "help_links": [
    {
     "text": "MetaKernel Magics",
     "url": "https://metakernel.readthedocs.io/en/latest/source/README.html"
    }
   ],
   "mimetype": "text/x-octave",
   "name": "matlab",
   "version": "0.16.11"
  }
 },
 "nbformat": 4,
 "nbformat_minor": 4
}