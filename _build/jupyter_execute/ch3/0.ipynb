{
 "cells": [
  {
   "cell_type": "markdown",
   "metadata": {},
   "source": [
    "# Chapter 3\n",
    "\n",
    "## Systems of Linear Equations: Geometry\n",
    "\n",
    "````{warning}\n",
    "Reading these materials and doing the excercises is **not enough** to understand the course material. You must also read and study the corresponding chapters and sections in the Margalit and Rabinoff [*Linear Algebra* online textbook](https://textbooks.math.gatech.edu/ila/chap-geometry.html).\n",
    "````\n",
    "The information below is like a study guide though much of the information is copied directly from Margalit and Rabinoff. You will be quizzed and tested not only on how to perform various tasks in MATLAB, but on your understanding of the visualizations and discussions in the textbook. Be sure to study these concepts prior to quizzes and tests."
   ]
  },
  {
   "cell_type": "markdown",
   "metadata": {},
   "source": [
    "### 3.1 Matrix Transformations\n",
    "\n",
    "1. Learn to view a matrix geometrically as a function.\n",
    "2. Learn examples of matrix transformations: reflection, dilation, rotation, shear, projection.\n",
    "3. Understand the domain, codomain, and range of a matrix transformation.\n",
    "4. Visualize matrix transformations.\n",
    "\n",
    "**Vocabulary words.** Transformation, domain, codomain, range, identity transformation, matrix transformation."
   ]
  },
  {
   "cell_type": "markdown",
   "metadata": {},
   "source": [
    "### 3.2 One-to-one and Onto Transformations\n",
    "\n",
    "1. Understand the definitions of one-to-one and onto transformations.\n",
    "2. Key Task: verify whether a matrix transformation is one-to-one and/or onto.\n",
    "3. Visualize examples of matrix transformations that are/are not one-to-one and/or onto.\n",
    "\n",
    "**Vocabulary words.** One-to-one, onto."
   ]
  },
  {
   "cell_type": "markdown",
   "metadata": {},
   "source": [
    "### 3.3 Linear Transformations\n",
    "\n",
    "1. Learn how to verify that a transformation is linear, or prove that a transformation is not linear.\n",
    "2. Understand the relationship between linear transformations and matrix transformations.\n",
    "3. Key Task: find the matrix of a linear transformation.\n",
    "**Vocabulary words** Linear transformation, standard matrix, identity matrix, standard basis vectors ($\\vec e_1, \\vec e_2, \\cdots$)."
   ]
  },
  {
   "cell_type": "markdown",
   "metadata": {},
   "source": [
    "### 3.4 Matrix Multiplication\n",
    "\n",
    "1. Understand compositions of transformations.\n",
    "2. Understand the relationship between matrix products and compositions of matrix transformations.\n",
    "3. Become comfortable doing basic algebra involving matrices.\n",
    "4. Key Task: matrix multiplication.\n",
    "5. Visualize composition of transformations.\n",
    "**Vocabulary word.** Composition.\n"
   ]
  },
  {
   "cell_type": "markdown",
   "metadata": {},
   "source": [
    "### 3.5 Matrix Inverses\n",
    "\n",
    "1. Understand what it means for a square matrix to be invertible.\n",
    "2. Learn about invertible transformations, and understand the relationship between invertible matrices and invertible transformations.\n",
    "3. Key Task: compute the inverse matrix, solve a linear system by taking inverses.\n",
    "4. Visualize the inverse of a transformation.\n",
    "**Vocabulary words.** Inverse matrix, inverse transformation."
   ]
  },
  {
   "cell_type": "markdown",
   "metadata": {},
   "source": [
    "### 3.6 Invertible Matrix Theorem\n",
    "\n",
    "1. Understand the invertible matrix theorem."
   ]
  },
  {
   "cell_type": "markdown",
   "metadata": {},
   "source": [
    "### 2.7 Basis and Dimension\n",
    "\n",
    "1. Understand the definition of a basis of a subspace.\n",
    "2. Understand the basis theorem.\n",
    "3. Key Tasks: \n",
    "    1. Find the basis for a column space.\n",
    "    2. Find the basis for a null space.\n",
    "    3. Find the basis of a span.\n",
    "4. Visualize the  basis of a subspace of $\\mathbb{R}^2$ or $\\mathbb{R}^2$.\n",
    "\n",
    "**Vocabulary words.**  Basis, dimension."
   ]
  },
  {
   "cell_type": "markdown",
   "metadata": {},
   "source": [
    "### 2.8 Bases as Coordinate Systems\n",
    "\n",
    "1. Learn to view a basis as a coordinate system on a subspace.\n",
    "2. Key Tasks: \n",
    "    1. Compute the $\\mathcal{B}$-coordinates of a vector.\n",
    "    2. Compute the usual coordinates of a vector from its $\\mathcal{B}$-coordinates.\n",
    "3. Visualize the $\\mathcal{B}$-coordinates of a vector using its location on a nonstandard coordinate grid.\n",
    "\n",
    "**Vocabulary words.**  $\\mathcal{B}$-coordinates"
   ]
  },
  {
   "cell_type": "markdown",
   "metadata": {},
   "source": [
    "### 2.9 The Rank Theorem\n",
    "\n",
    "1. Learn to understand and use the rank theorem.\n",
    "2. Visualize the rank theorem.\n",
    "\n",
    "**Vocabulary words.** Rank, nullity."
   ]
  },
  {
   "cell_type": "markdown",
   "id": "becoming-jacket",
   "metadata": {},
   "source": [
    "\n",
    "```{toctree}\n",
    ":hidden:\n",
    ":titlesonly:\n",
    "\n",
    "\n",
    "1\n",
    "2\n",
    "3\n",
    "4\n",
    "5\n",
    "6\n",
    "```\n"
   ]
  }
 ],
 "metadata": {
  "kernelspec": {
   "display_name": "Matlab",
   "language": "matlab",
   "name": "matlab"
  },
  "language_info": {
   "codemirror_mode": "octave",
   "file_extension": ".m",
   "help_links": [
    {
     "text": "MetaKernel Magics",
     "url": "https://metakernel.readthedocs.io/en/latest/source/README.html"
    }
   ],
   "mimetype": "text/x-octave",
   "name": "matlab",
   "version": "0.16.11"
  }
 },
 "nbformat": 4,
 "nbformat_minor": 4
}