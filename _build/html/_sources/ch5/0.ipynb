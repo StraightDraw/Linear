{
 "cells": [
  {
   "cell_type": "markdown",
   "metadata": {},
   "source": [
    "# Chapter 5\n",
    "\n",
    "## Eigenvalues and Eigenvectors\n",
    "\n",
    "````{warning}\n",
    "Reading these materials and doing the excercises is **not enough** to understand the course material. You must also read and study the corresponding chapters and sections in the Margalit and Rabinoff [*Linear Algebra* online textbook](https://textbooks.math.gatech.edu/ila/chap-eigenvalues.html).\n",
    "````\n",
    "The information below is like a study guide though much of the information is copied directly from Margalit and Rabinoff. You will be quizzed and tested not only on how to perform various tasks in MATLAB, but on your understanding of the visualizations and discussions in the textbook. Be sure to study these concepts prior to quizzes and tests."
   ]
  },
  {
   "cell_type": "markdown",
   "metadata": {},
   "source": [
    "### 5.1 Eigenvalues and Eigenvectors\n",
    "\n",
    "1. Learn the definition of eigenvector and eigenvalue.\n",
    "2. Learn to find eigenvectors and eigenvalues geometrically.\n",
    "3. Learn to decide if a number is an eigenvalue of a matrix, and if so, how to find an associated eigenvector.\n",
    "4. Key Task: find a basis for the $\\lambda$-eigenspace.\n",
    "5. Visualization: the geometry of whether or not a vector is an eigenvector.\n",
    "\n",
    "**Vocabulary words.** Eigenspace, eigenvector, eigenvalue."
   ]
  },
  {
   "cell_type": "markdown",
   "metadata": {},
   "source": [
    "### 5.2 Characteristic Polynomial\n",
    "\n",
    "1. Learn that the eigenvalues of a triangular matrix are the diagonal entries.\n",
    "2. Find all eigenvalues of a matrix using the characteristic polynomial.\n",
    "3. Learn some strategies for finding the zeros of a polynomial.\n",
    "4. Key Task: determine the characteristic polynomial of a $2\\times 2$ matrix.\n",
    "\n",
    "**Vocabulary words.** Characteristic polynomial, trace."
   ]
  },
  {
   "cell_type": "markdown",
   "metadata": {},
   "source": [
    "### 5.3 Similarity\n",
    "\n",
    "1. Learn to interpret similar matrices geoemetrically.\n",
    "2. Understand the relationship between the eigenvalues, eigenvectors, and characteristic polynomials of 3. similar matrices.\n",
    "4. Key Task: compute $A\\vec x$ in terms of $B,C$ for $A = CBC^{−1}$.\n",
    "5. Visualization: the geometry of similar matrices.\n",
    "\n",
    "**Vocabulary word.** Similarity."
   ]
  },
  {
   "cell_type": "markdown",
   "metadata": {},
   "source": [
    "### 5.4 Diagonalization\n",
    "\n",
    "1. Learn two main criteria for a matrix to be diagonalizable.\n",
    "2. Develop a library of examples of matrices that are and are not diagonalizable.\n",
    "3. Understand what diagonalizability and multiplicity have to say about similarity.\n",
    "4. Key Task: diagonalize a matrix.\n",
    "5. Visualization: the geometry of diagonal matrices.\n",
    "6. The diagonalization theorem (two variants).\n",
    "\n",
    "**Vocabulary words.** Diagonalizable, algebraic multiplicity, geometric multiplicity."
   ]
  },
  {
   "cell_type": "markdown",
   "metadata": {},
   "source": [
    "### 5.5 Complex Eigenvalues\n",
    "\n",
    "1. Learn to find complex eigenvalues and eigenvectors of a matrix.\n",
    "2. Learn to recognize a rotation-scaling matrix, and compute by how much the matrix rotates and scales.\n",
    "3. Understand the geometry of $2\\times 2$ and $3\\times 3$ matrices with a complex eigenvalue.\n",
    "4. Understand a $2\\times 2$ matrix with a complex eigenvalue is similar to a rotation-scaling matrix.\n",
    "5. Key Task: the eigenvector trick for $2\\times 2$ matrices.\n",
    "6. Visualization: the geometry of matrices with a complex eigenvalue.\n",
    "7. The rotation-scaling theorem and the block diagonalization theorem.\n",
    "\n",
    "**Vocabulary word.** Rotation-scaling matrix.\n",
    "\n",
    "\n",
    "\n"
   ]
  },
  {
   "cell_type": "markdown",
   "metadata": {},
   "source": [
    "### 5.6 Stochastic Matrices\n",
    "\n",
    "1. Learn examples of stochastic matrices and applications to difference equations.\n",
    "2. Understand Google's PageRank algorithm.\n",
    "3. Key Task: find the steady state of a positive stochastic matrix.\n",
    "4. Visualization: dynamics of a positive stochastic matrix.\n",
    "5. The Perron–Frobenius theorem.\n",
    "\n",
    "**Vocabulary words.** Difference equation, (positive) stochastic matrix, steady state, importance matrix, Google matrix."
   ]
  }
 ],
 "metadata": {
  "kernelspec": {
   "display_name": "Matlab",
   "language": "matlab",
   "name": "matlab"
  },
  "language_info": {
   "codemirror_mode": "octave",
   "file_extension": ".m",
   "help_links": [
    {
     "text": "MetaKernel Magics",
     "url": "https://metakernel.readthedocs.io/en/latest/source/README.html"
    }
   ],
   "mimetype": "text/x-octave",
   "name": "matlab",
   "version": "0.16.11"
  }
 },
 "nbformat": 4,
 "nbformat_minor": 4
}
