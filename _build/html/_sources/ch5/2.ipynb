{
 "cells": [
  {
   "cell_type": "markdown",
   "metadata": {},
   "source": [
    "# 5.2 The Characteristic Polynomial"
   ]
  },
  {
   "cell_type": "markdown",
   "metadata": {},
   "source": [
    "Characteristic Polynomial\n",
    ": For an $n \\times n$ matrix $A$, the *characteristic polynomial* of $A$ is\n",
    "\n",
    "$$p(\\lambda) = \\det \\left(A - \\lambda I \\right)$$"
   ]
  },
  {
   "cell_type": "markdown",
   "metadata": {},
   "source": [
    "## Section 1\n",
    "\n"
   ]
  },
  {
   "cell_type": "markdown",
   "metadata": {},
   "source": [
    "## Finding eignevalues\n",
    "\n",
    "The *eignevalues* of a matrix $A$ are possible values $\\lambda$ such that\n",
    "\n",
    "$$A \\vec v=\\lambda \\vec v$$\n",
    "\n",
    "which, after some algebra, is equivalent to solving a homogeneous set of equations.\n",
    "\n",
    "$$\\begin{align} A \\vec v &= \\lambda \\vec v \\\\ \\iff \\hspace{5mm}A \\vec v - \\lambda \\vec v &= \\vec 0 \\\\ \\iff \\hspace{5mm}A \\vec v - \\lambda I \\vec v &= \\vec 0 \\\\ \\iff \\hspace{5mm} (A - \\lambda I) \\vec v &= \\vec 0\\end{align}$$\n",
    "\n",
    "This means we can test eigenvalues by creating the matrix\n",
    "\n",
    "$$A - \\lambda I$$\n",
    "\n",
    "and finding whether its *null space* has any nonzero vectors in it."
   ]
  }
 ],
 "metadata": {
  "kernelspec": {
   "display_name": "Matlab",
   "language": "matlab",
   "name": "matlab"
  },
  "language_info": {
   "codemirror_mode": "octave",
   "file_extension": ".m",
   "help_links": [
    {
     "text": "MetaKernel Magics",
     "url": "https://metakernel.readthedocs.io/en/latest/source/README.html"
    }
   ],
   "mimetype": "text/x-octave",
   "name": "matlab",
   "version": "0.16.11"
  }
 },
 "nbformat": 4,
 "nbformat_minor": 4
}
