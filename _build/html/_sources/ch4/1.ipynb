{
 "cells": [
  {
   "cell_type": "markdown",
   "metadata": {},
   "source": [
    "# 4.1 Determinants: Definition"
   ]
  },
  {
   "cell_type": "markdown",
   "metadata": {},
   "source": [
    "## Definition\n",
    "````{margin}\n",
    "```{warning}\n",
    "Most textbooks define determinants using the cofactor expansion process shown in Section 4.2. Margalit's treatment is quite unique but helps us comprehend what the determinant actually means.\n",
    "```\n",
    "````\n",
    "\n",
    "The Margalit text defines the determinant as a function whose domain is the set of all square matrices and whose range is the real numbers. This function, denoted as $\\det(A)$, has four defining properties:\n",
    "\n",
    "1. Doing a row replacement on $A$ does not change $\\det(A)$.\n",
    "2. Scaling a row of $A$ by a scalar $c$ multiplies the determinant by $c$.\n",
    "3. Swapping two rows of a matrix multiplies the determinant by $−1$.\n",
    "4. The determinant of the identity matrix $I_n$ is equal to $1$.\n"
   ]
  },
  {
   "cell_type": "markdown",
   "metadata": {},
   "source": [
    "## Example\n",
    "\n",
    "We don't need to know how to calculate determinants, yet. MATLAB already knows. We can experiment with row operations and see the impact that they have on the determinant. Remember, we do know that the determinant of a $2\\times 2$ matrix\n",
    "\n",
    "$$M = \\left[\\begin{array}{rr}a&b\\\\c&d\\\\\\end{array}\\right]$$\n",
    "\n",
    "is given by\n",
    "\n",
    "$$\\det(M) = ad-bc$$\n",
    "\n",
    "Let's begin with a $3\\times 3$ example matrix $M$.\n",
    "\n",
    "$$M = \\left[\\begin{array}{rrr}4&0&-2\\\\2&1&5\\\\3&1&4\\\\\\end{array}\\right]$$\n",
    "\n",
    "First, let's have MATLAB calculate the determinant."
   ]
  },
  {
   "cell_type": "code",
   "execution_count": 1,
   "metadata": {},
   "outputs": [
    {
     "name": "stdout",
     "output_type": "stream",
     "text": [
      "\n",
      "A =\n",
      "\n",
      "     4     0    -2\n",
      "     2     1     5\n",
      "     3     1     4\n",
      "\n",
      "\n",
      "ans =\n",
      "\n",
      "    -2\n",
      "\n",
      "\n"
     ]
    }
   ],
   "source": [
    "A = [4 0 -2 ; 2 1 5 ; 3 1 4 ]\n",
    "det(A)"
   ]
  },
  {
   "cell_type": "markdown",
   "metadata": {},
   "source": [
    "### 1. Row Swaps\n",
    "\n",
    "Let's explore what happens when we swap two rows, say, the first and second."
   ]
  },
  {
   "cell_type": "code",
   "execution_count": 12,
   "metadata": {},
   "outputs": [
    {
     "name": "stdout",
     "output_type": "stream",
     "text": [
      "\n",
      "a =\n",
      "\n",
      "     2     1     5\n",
      "     4     0    -2\n",
      "     3     1     4\n",
      "\n",
      "\n",
      "ans =\n",
      "\n",
      "     2\n",
      "\n",
      "\n"
     ]
    }
   ],
   "source": [
    "a = A;\n",
    "a([1 2],:) = a([2 1],:)\n",
    "det(a)"
   ]
  },
  {
   "cell_type": "markdown",
   "metadata": {},
   "source": [
    "The resulting determinant has the opposite sign, but same absolute value. Let's swap rows and 2 and 3 to see if the pattern holds."
   ]
  },
  {
   "cell_type": "code",
   "execution_count": 13,
   "metadata": {},
   "outputs": [
    {
     "name": "stdout",
     "output_type": "stream",
     "text": [
      "\n",
      "a =\n",
      "\n",
      "     4     0    -2\n",
      "     3     1     4\n",
      "     2     1     5\n",
      "\n",
      "\n",
      "ans =\n",
      "\n",
      "     2\n",
      "\n",
      "\n"
     ]
    }
   ],
   "source": [
    "a = A;\n",
    "a([2 3],:) = a([3 2],:)\n",
    "det(a)"
   ]
  },
  {
   "cell_type": "markdown",
   "metadata": {},
   "source": [
    "#### Conclusion: Row swaps change the sign of the determinant.\n",
    "\n",
    "If we do row swaps one at a time, then each one appears to change the sign of the determinant, but not it's absoluate value. This is what Margalit refers to as defining property 3."
   ]
  },
  {
   "cell_type": "markdown",
   "metadata": {},
   "source": [
    "### 2. Row Replacement\n",
    "\n",
    "Let's explore what happens when we replace a row with the sum of itself and the scalar multiple of another row. For this example, let's use the following:\n",
    "\n",
    "$$R_2 = R_2 - \\frac{1}{2}R_1$$\n",
    "\n",
    "This should be the first step in row-reducing $M$ and produce a zero below the top-left pivot of $4$."
   ]
  },
  {
   "cell_type": "code",
   "execution_count": 14,
   "metadata": {},
   "outputs": [
    {
     "name": "stdout",
     "output_type": "stream",
     "text": [
      "\n",
      "a =\n",
      "\n",
      "     4     0    -2\n",
      "     0     1     6\n",
      "     3     1     4\n",
      "\n",
      "\n",
      "ans =\n",
      "\n",
      "    -2\n",
      "\n",
      "\n"
     ]
    }
   ],
   "source": [
    "a = A;\n",
    "a(2,:) = a(2,:) - 0.5 * a(1,:)\n",
    "det(a)"
   ]
  },
  {
   "cell_type": "markdown",
   "metadata": {},
   "source": [
    "This result is fascinating. Despite making what feels like a considerable change to matrix $M$, the determinant has not change. Since this is the most-used row operation, we now know that row-reduction does not have to change the determinant very much. Let's continue on to REF and see what happens to the determinant."
   ]
  },
  {
   "cell_type": "code",
   "execution_count": 15,
   "metadata": {},
   "outputs": [
    {
     "name": "stdout",
     "output_type": "stream",
     "text": [
      "\n",
      "a =\n",
      "\n",
      "    4.0000         0   -2.0000\n",
      "         0    1.0000    6.0000\n",
      "         0    1.0000    5.5000\n",
      "\n",
      "\n",
      "a =\n",
      "\n",
      "    4.0000         0   -2.0000\n",
      "         0    1.0000    6.0000\n",
      "         0         0   -0.5000\n",
      "\n",
      "\n",
      "ans =\n",
      "\n",
      "    -2\n",
      "\n",
      "\n"
     ]
    }
   ],
   "source": [
    "a(3,:) = a(3,:) - (3/4) * a(1,:)\n",
    "a(3,:) = a(3,:) - a(2,:)\n",
    "det(a)"
   ]
  },
  {
   "cell_type": "markdown",
   "metadata": {},
   "source": [
    "#### Conclusion: Row replacements do not affect the determinant.\n",
    "\n",
    "The Margalit text refers to this as defining property 1, and it is perhaps the most important defining property of them all.\n",
    "\n",
    "````{margin}\n",
    "```{tip}\n",
    "We need to use row swaps when we have zeros in pivot positions as in \n",
    "\n",
    "$$\\left[\\begin{array}{rrr}0&1&0\\\\2&0&0\\\\0&0&2\\\\\\end{array}\\right]$$\n",
    "```\n",
    "````\n",
    "\n",
    "We row-reduced all the way to REF without affecting the determinant at all, and not by accident. In fact, we can **always** row-reduce to REF using only row replacements and, sometimes, row swaps.\n",
    "\n",
    "````{note}\n",
    "If $A$ is in REF, then $\\det(A)$ is equal to the product of the main diagonal entries.\n",
    "\n",
    "$$\\det(A)= 4(1)\\left(-\\frac{1}{2}\\right)=-2$$\n",
    "````"
   ]
  },
  {
   "cell_type": "markdown",
   "metadata": {},
   "source": [
    "### 3. Mutliplying a row by a scalar\n",
    "\n",
    "Even though we don't need this particular row operation to reduce to REF, understanding what it does will help us visualize what the determinant is. Let's multiply through Row 1 by $\\frac{1}{4}$.\n"
   ]
  },
  {
   "cell_type": "code",
   "execution_count": 16,
   "metadata": {},
   "outputs": [
    {
     "name": "stdout",
     "output_type": "stream",
     "text": [
      "\n",
      "a =\n",
      "\n",
      "    1.0000         0   -0.5000\n",
      "    2.0000    1.0000    5.0000\n",
      "    3.0000    1.0000    4.0000\n",
      "\n",
      "\n",
      "ans =\n",
      "\n",
      "   -0.5000\n",
      "\n",
      "\n"
     ]
    }
   ],
   "source": [
    "a = A;\n",
    "a(1,:) = a(1,:) / 4\n",
    "det(a)"
   ]
  },
  {
   "cell_type": "markdown",
   "metadata": {},
   "source": [
    "We find that the new determinant is one-fourth of the original determinant, so the determinant has also been scaled by the scalar $\\frac{1}{4}$ that we used."
   ]
  },
  {
   "cell_type": "markdown",
   "metadata": {},
   "source": [
    "#### Conclusion: multiplying a row by a scalar also scales the determinant by the same amount.\n",
    "\n",
    "The Margalit text refers to this as defining property 2.\n",
    "\n",
    "## Triangular Matrices\n",
    "\n",
    "A triangular matrix is one which has only zeros above or below the main diagonal.\n",
    "\n",
    "$$ U = \\left[\\begin{array}{rrr}1&1&1\\\\0&3&3\\\\0&0&4\\\\\\end{array}\\right]$$\n",
    "\n",
    "For example, the matrix $U$ above is called *upper triangular* since it's only non-zero entries are on the main diagonal or above it. The matrix $L$ below is an example of a *lower triangular* matrix.\n",
    "\n",
    "$$L = \\left[\\begin{array}{rrr}-2&0&0\\\\2&4&0\\\\-1&-2&2\\\\\\end{array}\\right]$$\n",
    "\n",
    "Any matrix that is *both* upper and lower triangular is called a *diagonal* matrix.\n",
    "\n",
    "````{tip}\n",
    "**Key Fact**. The determinant of a triangular matrix is the product of its main diagonal entries.\n",
    "````"
   ]
  },
  {
   "cell_type": "markdown",
   "metadata": {},
   "source": [
    "## Finding the determinant of matrix $M$\n",
    "\n",
    "Following the idea shown in the examples above and using the Key Fact above\n",
    "\n",
    "1. Row reduce $M$ to REF without scaling any rows.\n",
    "2. Track $k$, the number of row swaps needed.\n",
    "3. Calculate product of main diagonal entries and sign:\n",
    "\n",
    "$$\\det(M) = (m_{11})(m_{22})\\dots (m_{nn})(-1)^k$$\n",
    "\n",
    "### Example\n",
    "\n",
    "Find the determinant of matrix $M$.\n",
    "\n",
    "$$M = \\left[\\begin{array}{rrr}0&5&-1\\\\3&-2&3\\\\2&2&0\\\\\\end{array}\\right]$$\n",
    "\n",
    "#### Row swap: $k = 1$"
   ]
  },
  {
   "cell_type": "code",
   "execution_count": 17,
   "metadata": {},
   "outputs": [
    {
     "name": "stdout",
     "output_type": "stream",
     "text": [
      "\n",
      "m =\n",
      "\n",
      "     2     2     0\n",
      "     3    -2     3\n",
      "     0     5    -1\n",
      "\n",
      "\n"
     ]
    }
   ],
   "source": [
    "M = [ 0 5 -1 ; 3 -2 3 ; 2 2 0];\n",
    "m = M;\n",
    "m([1 3],:) = m([3 1],:)"
   ]
  },
  {
   "cell_type": "markdown",
   "metadata": {},
   "source": [
    "#### Row replacements"
   ]
  },
  {
   "cell_type": "code",
   "execution_count": 18,
   "metadata": {},
   "outputs": [
    {
     "name": "stdout",
     "output_type": "stream",
     "text": [
      "\n",
      "m =\n",
      "\n",
      "     2     2     0\n",
      "     0    -5     3\n",
      "     0     5    -1\n",
      "\n",
      "\n"
     ]
    }
   ],
   "source": [
    "m(2,:) = m(2,:) - (3/2) * m(1,:)"
   ]
  },
  {
   "cell_type": "code",
   "execution_count": 19,
   "metadata": {},
   "outputs": [
    {
     "name": "stdout",
     "output_type": "stream",
     "text": [
      "\n",
      "m =\n",
      "\n",
      "     2     2     0\n",
      "     0    -5     3\n",
      "     0     0     2\n",
      "\n",
      "\n"
     ]
    }
   ],
   "source": [
    "m(3,:) = m(3,:) + m(2,:)"
   ]
  },
  {
   "cell_type": "markdown",
   "metadata": {},
   "source": [
    "Calculate product of main diagonal entries and adjust sign using $k=1$.\n",
    "\n",
    "$$\\det(M) = (2)(-5)(2)(-1)^k = -20(-1)^1=20$$"
   ]
  },
  {
   "cell_type": "code",
   "execution_count": 20,
   "metadata": {},
   "outputs": [
    {
     "name": "stdout",
     "output_type": "stream",
     "text": [
      "\n",
      "ans =\n",
      "\n",
      "   20.0000\n",
      "\n",
      "\n"
     ]
    }
   ],
   "source": [
    "det(M)"
   ]
  },
  {
   "cell_type": "markdown",
   "metadata": {},
   "source": [
    "Both methods agree, MATLAB's calculation based on the original matrix $M$ and our method using row reduction."
   ]
  }
 ],
 "metadata": {
  "kernelspec": {
   "display_name": "Matlab",
   "language": "matlab",
   "name": "matlab"
  },
  "language_info": {
   "codemirror_mode": "octave",
   "file_extension": ".m",
   "help_links": [
    {
     "text": "MetaKernel Magics",
     "url": "https://metakernel.readthedocs.io/en/latest/source/README.html"
    }
   ],
   "mimetype": "text/x-octave",
   "name": "matlab",
   "version": "0.16.11"
  }
 },
 "nbformat": 4,
 "nbformat_minor": 4
}
