{
 "cells": [
  {
   "cell_type": "markdown",
   "metadata": {},
   "source": [
    "# 3.5.1 Lab 6"
   ]
  },
  {
   "cell_type": "markdown",
   "metadata": {},
   "source": [
    "## Part I. One-to-one Transformation\n",
    "\n",
    "The given matrix is the standard matrix of a linear transformation. Determine if the linear transformation is one-to-one.\n",
    "\n",
    "If your birthday is in:\n",
    "\n",
    "* January through April, do matrix $J$.\n",
    "* May through August, do matrix $M$.\n",
    "* September through December, do matrix $S$.\n",
    "\n",
    "$$J = \\left[\\begin{array}{rrr}4&7&6\\\\-2&-2&-1\\\\4&4&1\\\\\\end{array}\\right]$$"
   ]
  },
  {
   "cell_type": "code",
   "execution_count": 12,
   "metadata": {},
   "outputs": [
    {
     "name": "stdout",
     "output_type": "stream",
     "text": [
      "\n"
     ]
    }
   ],
   "source": [
    "J = [4 7 6 ; -2 -2 -1 ; 4 4 1 ] ;"
   ]
  },
  {
   "cell_type": "markdown",
   "metadata": {},
   "source": [
    "$$M = \\left[\\begin{array}{rrr}4&7&6\\\\-2&-2&-1\\\\4&4&1\\\\\\end{array}\\right]$$"
   ]
  },
  {
   "cell_type": "code",
   "execution_count": 13,
   "metadata": {},
   "outputs": [
    {
     "name": "stdout",
     "output_type": "stream",
     "text": [
      "\n"
     ]
    }
   ],
   "source": [
    "M = [4 7 6 ; -2 -2 -1 ; 4 4 1 ] ;"
   ]
  },
  {
   "cell_type": "markdown",
   "metadata": {},
   "source": [
    "$$S = \\left[\\begin{array}{rrr}4&7&6\\\\-2&-2&-1\\\\4&4&1\\\\\\end{array}\\right]$$"
   ]
  },
  {
   "cell_type": "code",
   "execution_count": 14,
   "metadata": {},
   "outputs": [
    {
     "name": "stdout",
     "output_type": "stream",
     "text": [
      "\n"
     ]
    }
   ],
   "source": [
    "S = [4 7 6 ; -2 -2 -1 ; 4 4 1 ] ;"
   ]
  },
  {
   "cell_type": "markdown",
   "metadata": {},
   "source": [
    "## Part II. Matrix Multiplication\n",
    "\n",
    "Using MATLAB's `dot` function and **not** the multiplication operation, calculate the products of the following matrices.\n",
    "\n",
    "If your first name begins with:\n",
    "\n",
    "* A through D, do $A * B$.\n",
    "* D through J, do $D * E$.\n",
    "* J through Z, do $J * K$.\n"
   ]
  },
  {
   "cell_type": "markdown",
   "metadata": {},
   "source": [
    "$$A = \\left[\\begin{array}{rrrr}0&8&1&5\\\\3&1&8&-2\\\\\\end{array}\\right]\n",
    "\\hspace{1cm}\\text{and}\\hspace{1cm} B = \\left[\\begin{array}{rrr}-1&-2&-2\\\\7&4&0\\\\0&-2&5\\\\0&-2&3\\\\\\end{array}\\right]$$"
   ]
  },
  {
   "cell_type": "code",
   "execution_count": 15,
   "metadata": {},
   "outputs": [
    {
     "name": "stdout",
     "output_type": "stream",
     "text": [
      "\n"
     ]
    }
   ],
   "source": [
    "A = [0 8 1 5 ; 3 1 8 -2 ];\n",
    "B = [-1 -2 -2 ; 7 4 0 ; 0 -2 5 ; 0 -2 3 ];\n"
   ]
  },
  {
   "cell_type": "markdown",
   "metadata": {},
   "source": [
    "$$ D = \\left[\\begin{array}{rrrr}-2&1&-1&-2\\\\7&3&-2&6\\\\\\end{array}\\right]\\hspace{1cm}\\text{and}\\hspace{1cm} E = \\left[\\begin{array}{rrr}-1&-2&-2\\\\7&4&0\\\\0&-2&5\\\\0&-2&3\\\\\\end{array}\\right]$$"
   ]
  },
  {
   "cell_type": "code",
   "execution_count": 16,
   "metadata": {},
   "outputs": [
    {
     "name": "stdout",
     "output_type": "stream",
     "text": [
      "\n"
     ]
    }
   ],
   "source": [
    "D = [-2 1 -1 -2 ; 7 3 -2 6 ];\n",
    "E = [-1 -2 -2 ; 7 4 0 ; 0 -2 5 ; 0 -2 3 ];"
   ]
  },
  {
   "cell_type": "markdown",
   "metadata": {},
   "source": [
    "$$J = \\left[\\begin{array}{rrrr}-2&-1&1&-2\\\\-1&-2&7&0\\\\\\end{array}\\right] \\hspace{1cm}\\text{and}\\hspace{1cm} K = \\left[\\begin{array}{rr}2&0\\\\3&-1\\\\3&6\\\\8&2\\\\\\end{array}\\right] $$"
   ]
  },
  {
   "cell_type": "code",
   "execution_count": 17,
   "metadata": {},
   "outputs": [
    {
     "name": "stdout",
     "output_type": "stream",
     "text": [
      "\n"
     ]
    }
   ],
   "source": [
    "J = [-2 -1 1 -2 ; -1 -2 7 0 ];\n",
    "K = [2 0 ; 3 -1 ; 3 6 ; 8 2 ];"
   ]
  },
  {
   "cell_type": "markdown",
   "metadata": {},
   "source": [
    "### Part III: Inverse Matrix\n",
    "\n",
    "Use row reduction (showing all steps) to find the inverse matrix.\n",
    "\n",
    "If your last name begins with:\n",
    "\n",
    "* B through G, do B.\n",
    "* H through Q, do H.\n",
    "* R through Z, do R.\n",
    "* A pick any of the three."
   ]
  },
  {
   "cell_type": "markdown",
   "metadata": {},
   "source": [
    "$$B = \\left[\\begin{array}{rrr}6&-8&-5\\\\6&-7&-3\\\\3&-4&-2\\\\\\end{array}\\right]$$"
   ]
  },
  {
   "cell_type": "code",
   "execution_count": 18,
   "metadata": {},
   "outputs": [
    {
     "name": "stdout",
     "output_type": "stream",
     "text": [
      "\n"
     ]
    }
   ],
   "source": [
    "B = [6 -8 -5;6 -7 -3;3 -4 -2] ;"
   ]
  },
  {
   "cell_type": "markdown",
   "metadata": {},
   "source": [
    "$$H = \\left[\\begin{array}{rrr}-3&-3&13\\\\-1&-2&3\\\\1&2&-5\\\\\\end{array}\\right]$$"
   ]
  },
  {
   "cell_type": "code",
   "execution_count": 19,
   "metadata": {},
   "outputs": [
    {
     "name": "stdout",
     "output_type": "stream",
     "text": [
      "\n"
     ]
    }
   ],
   "source": [
    "H = [-3 -3 13 ; -1 -2 3;1 2 -5] ;"
   ]
  },
  {
   "cell_type": "markdown",
   "metadata": {},
   "source": [
    "$$R = \\left[\\begin{array}{rrr}1&0&-8\\\\-2&0&19\\\\-2&-2&11\\\\\\end{array}\\right]$$"
   ]
  },
  {
   "cell_type": "code",
   "execution_count": 20,
   "metadata": {},
   "outputs": [
    {
     "name": "stdout",
     "output_type": "stream",
     "text": [
      "\n"
     ]
    }
   ],
   "source": [
    "R =  [1 0 -8;-2 0 19;-2 -2 11];"
   ]
  }
 ],
 "metadata": {
  "kernelspec": {
   "display_name": "Matlab",
   "language": "matlab",
   "name": "matlab"
  },
  "language_info": {
   "codemirror_mode": "octave",
   "file_extension": ".m",
   "help_links": [
    {
     "text": "MetaKernel Magics",
     "url": "https://metakernel.readthedocs.io/en/latest/source/README.html"
    }
   ],
   "mimetype": "text/x-octave",
   "name": "matlab",
   "version": "0.16.11"
  }
 },
 "nbformat": 4,
 "nbformat_minor": 4
}
