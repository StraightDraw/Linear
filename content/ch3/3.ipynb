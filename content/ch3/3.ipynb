{
 "cells": [
  {
   "cell_type": "markdown",
   "metadata": {},
   "source": [
    "# 3.3 Linear Transformations"
   ]
  },
  {
   "cell_type": "markdown",
   "metadata": {},
   "source": [
    "## Matrix Transformations\n",
    "\n",
    "All linear transformations of vector spaces are matrix transformations. Let's specify exactly what we mean by terms like *standard matrix*.\n",
    "\n",
    "Standard Matrix\n",
    ": The matrix associated with the linear transformation so that\n",
    "\n",
    "$$T(\\vec x) = A\\vec x$$\n",
    "\n",
    "Linear Transformation\n",
    ": A transformation $T:\\mathbb R^n\\rightarrow \\mathbb R^m$, for all vectors $\\vec u,\\vec v \\in \\mathbb R^n$ and all scalars $c$, satisfies\n",
    "\n",
    "$$\\begin{align*}T(\\vec u+\\vec v)&=T(\\vec u)+T(\\vec v)\\\\T(c\\vec u)&=cT(\\vec u)\\end{align*}$$\n",
    "\n",
    "The transformation is the same regardless of whether we add the vectors and transform the sum or transform the vectors then sum them. The same is true for scalar products.\n",
    "\n",
    "````{note}\n",
    "The zero vector is *always* mapped to the zero vector by a linear transformation.\n",
    "\n",
    "$$T\\left(\\vec 0\\right) = \\vec 0$$\n",
    "````"
   ]
  },
  {
   "cell_type": "markdown",
   "metadata": {},
   "source": [
    "## Finding the standard matrix for a linear transformation\n",
    "\n",
    "The Margalit text is excellent, and you should spend a goodly amount of time with the visualization of linear transformations there.\n",
    "\n",
    "````{tip}\n",
    "Find where the standard basis vectors are mapped, and you have found the standard matrix of the linear transformation.\n",
    "````\n",
    "\n",
    "To find what matrix is associated with a linear transformation, we find where the standard basis vectors are mapped. If the transformation\n",
    "\n",
    "$$T(\\vec x) = A\\vec x$$\n",
    "\n",
    "for some $m\\times n$ matrix $A$, then\n",
    "\n",
    "$$A = [T(\\vec e_1),T(\\vec e_2), \\cdots ,T(\\vec e_m)]$$\n",
    "\n",
    "where $\\vec e_i$ are the standard basis vectors in $\\mathbb R^n$."
   ]
  },
  {
   "cell_type": "markdown",
   "metadata": {},
   "source": [
    "### Reflections in $\\mathbb R^2$\n",
    "\n",
    "#### Reflect across $x$-axis.\n",
    "\n",
    "Reflecting across the $x$-axis will not affect vectors on the $x$-axis, so\n",
    "\n",
    "$$T(\\vec e_1)=T\\left( \\left[\\begin{array}{r}1\\\\0\\end{array}\\right] \\right) = \\left[\\begin{array}{r}1\\\\0\\end{array}\\right]$$\n",
    "\n",
    "but\n",
    "\n",
    "$$T(\\vec e_2)=T\\left( \\left[\\begin{array}{r}0\\\\1\\end{array}\\right] \\right) = \\left[\\begin{array}{r}0 \\\\ -1\\end{array}\\right]$$\n",
    "\n",
    "The standard matrix is\n",
    "\n",
    "$$A = \\left[\\begin{array}{rr}1&0\\\\0&-1\\end{array}\\right]$$\n",
    "\n",
    "where the columns of $A$ are the vectors $T(\\vec e_1)$ and $T(\\vec e_2)$."
   ]
  },
  {
   "cell_type": "markdown",
   "metadata": {},
   "source": [
    "#### Reflect across $y$-axis.\n",
    "\n",
    "Reflecting across the $y$-axis will not affect vectors on the $y$-axis, so\n",
    "\n",
    "$$T(\\vec e_2)=T\\left( \\left[\\begin{array}{r}0\\\\1\\end{array}\\right] \\right) = \\left[\\begin{array}{r}0\\\\1\\end{array}\\right]$$\n",
    "\n",
    "but\n",
    "\n",
    "$$T(\\vec e_1)=T\\left( \\left[\\begin{array}{r}1\\\\0\\end{array}\\right] \\right) = \\left[\\begin{array}{r}-1 \\\\ 0\\end{array}\\right]$$\n",
    "\n",
    "The standard matrix is\n",
    "\n",
    "$$A = \\left[\\begin{array}{rr}-1&0\\\\0&1\\end{array}\\right]$$\n",
    "\n",
    "where the columns of $A$ are the vectors $T(\\vec e_1)$ and $T(\\vec e_2)$."
   ]
  },
  {
   "cell_type": "markdown",
   "metadata": {},
   "source": [
    "#### Reflection through the origin\n",
    "\n",
    "A reflection through the origin is a reflection through both the $x$ and $y$-axis. We can compose the two functions which means multiplying the standard matrices in the proper order.Suppose that the linear transformation $T_1$ is the reflection through the $x$-axis and that $T_2$ is the reflection through the $y$-axis. Then \n",
    "\n",
    "$$T_1(\\vec v) = A_1 \\vec v = \\left[\\begin{array}{rr}1&0\\\\0&-1\\end{array}\\right]\\vec v$$\n",
    "\n",
    "and\n",
    "\n",
    "$$T_2(\\vec v) = A_2 \\vec v = \\left[\\begin{array}{rr}-1&0\\\\0&1\\end{array}\\right]\\vec v$$\n",
    "\n",
    "The first transformation followed by the second is a composition of the transformation functions where\n",
    "\n",
    "$$T_2(T_1(\\vec v)) = A_2 A_1 \\vec v$$\n",
    "\n",
    "and the standard matrix for a reflection through the origin is\n",
    "\n",
    "$$A_2 A_1 = \\left[\\begin{array}{rr}1&0\\\\0&-1\\\\\\end{array}\\right]\\left[\\begin{array}{rr}-1&0\\\\0&1\\\\\\end{array}\\right] = \\left[\\begin{array}{rr}-1&0\\\\0&-1\\\\\\end{array}\\right]$$\n",
    "\n",
    "````{warning}\n",
    "Do not be fooled by this case where $A_1A_2 = A_2A_1$. Multiplying in the incorrect order usually generates an incorrect standard matrix for the transformation.\n",
    "````"
   ]
  },
  {
   "cell_type": "markdown",
   "metadata": {},
   "source": [
    "### Scaling in $\\mathbb R^2$\n",
    "\n",
    "#### Horizontal scaling\n",
    "\n",
    "For a non-zero $k\\in \\mathbb R$, horizontal scaling by a factor of $k$ sends $\\vec e_1$ to $k\\vec e_1$\n",
    "\n",
    "$$T(\\vec e_1) = T\\left(\\left[\\begin{array}{r}1\\\\0\\end{array}\\right]\\right) = \\left[\\begin{array}{r}k\\\\0\\end{array}\\right]$$\n",
    "\n",
    "but $\\vec e_1$ is not affected\n",
    "\n",
    "$$A = \\left[\\begin{array}{rr}k&0\\\\0&1\\end{array}\\right]$$\n",
    "\n",
    "is the standard matrix associated with horizontal scaling.\n",
    "\n",
    "#### Vertical scaling\n",
    "\n",
    "The same reasoning applies, and \n",
    "\n",
    "$$A = \\left[\\begin{array}{rr}1&0\\\\0&k\\end{array}\\right]$$\n",
    "\n",
    "is the standard matrix associated with vecrtical scaling.\n",
    "\n",
    "## Rotations in $\\mathbb R^2$\n",
    "\n",
    "We can only accomplish certain rotations using the approach shown above. In general, a rotation by $\\theta$ is given by\n",
    "\n",
    "$$R_\\theta(\\vec v) = \\left[\\begin{array}{rr}\\cos \\theta & -\\sin\\theta \\\\\\sin\\theta & \\cos\\theta\\end{array}\\right]$$"
   ]
  },
  {
   "cell_type": "markdown",
   "metadata": {},
   "source": [
    "## Summary\n",
    "\n",
    "You should know how to find the standard matrix of a transformation, including compositions of multiple transformations. Matrix multiplication and composition of linear transformation will be covered in full detail in the next section.\n",
    "\n",
    "### Example\n",
    "\n",
    "Suppose we wish to find the standard matrix for a transformation that (1) stretches vertically by a factor of 4, then (2) rotates by $270^\\circ$ and finally (3) reflects across the $x$-axis.\n",
    "\n",
    "**Solution.** Find each standard matrix, then compose them.\n",
    "\n",
    "1. Stretch vertically by a factor of 4.\n",
    "\n",
    "    $$A_1 = \\left[\\begin{array}{rr}1&0\\\\0&4\\end{array}\\right]$$\n",
    "\n",
    "2. Rotate by $270^\\circ$. We can have MATLAB calculate the matrix for us\n",
    "\n",
    "    ````{margin}\n",
    "    ```{note}\n",
    "    The MATLAB functions `sin` and `cos` require radians. To use degrees instead, MATLAB has the functions `sind` and `cosd`.\n",
    "    ``` \n",
    "    ````\n",
    "\n",
    "    ```\n",
    "    R = [ cosd(270) -sind(270) ; sind(270) cosd(270) ]\n",
    "    ```\n",
    "\n",
    "    which produces the correct standard matrix\n",
    "\n",
    "    $$A_2 = R = \\left[\\begin{array}{rr}0&1\\\\-1&0\\\\\\end{array}\\right]$$\n",
    "\n",
    "3. Reflect across $x$-axis.\n",
    "\n",
    "    $$A_3 = \\left[\\begin{array}{rr}1&0\\\\0&-1\\\\\\end{array}\\right]$$\n",
    "    \n",
    "    \n",
    "\n",
    "    \n",
    "    \n",
    "    \n",
    "    \n",
    "\n"
   ]
  },
  {
   "cell_type": "code",
   "execution_count": 4,
   "metadata": {},
   "outputs": [
    {
     "name": "stdout",
     "output_type": "stream",
     "text": [
      "\n",
      "A1 =\n",
      "\n",
      "     1     0\n",
      "     0     4\n",
      "\n",
      "\n",
      "A2 =\n",
      "\n",
      "     0     1\n",
      "    -1     0\n",
      "\n",
      "\n",
      "A3 =\n",
      "\n",
      "     1     0\n",
      "     0    -1\n",
      "\n",
      "\n"
     ]
    }
   ],
   "source": [
    "A1 = [ 1 0 ; 0 4 ]\n",
    "A2 = [ cosd(270) -sind(270) ; sind(270) cosd(270) ]\n",
    "A3 = [ 1 0 ; 0 -1 ]"
   ]
  },
  {
   "cell_type": "markdown",
   "metadata": {},
   "source": [
    "When we compose these standard matrices, we find the standard matrix for the entire transformation."
   ]
  },
  {
   "cell_type": "code",
   "execution_count": 7,
   "metadata": {},
   "outputs": [
    {
     "name": "stdout",
     "output_type": "stream",
     "text": [
      "\n",
      "A =\n",
      "\n",
      "     0     4\n",
      "     1     0\n",
      "\n",
      "\n"
     ]
    }
   ],
   "source": [
    "A = A3 * A2 * A1"
   ]
  }
 ],
 "metadata": {
  "kernelspec": {
   "display_name": "Matlab",
   "language": "matlab",
   "name": "matlab"
  },
  "language_info": {
   "codemirror_mode": "octave",
   "file_extension": ".m",
   "help_links": [
    {
     "text": "MetaKernel Magics",
     "url": "https://metakernel.readthedocs.io/en/latest/source/README.html"
    }
   ],
   "mimetype": "text/x-octave",
   "name": "matlab",
   "version": "0.16.11"
  }
 },
 "nbformat": 4,
 "nbformat_minor": 4
}
