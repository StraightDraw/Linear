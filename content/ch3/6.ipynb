{
 "cells": [
  {
   "cell_type": "markdown",
   "metadata": {},
   "source": [
    "# 3.6 Invertible Matrix Theorem"
   ]
  },
  {
   "cell_type": "markdown",
   "metadata": {},
   "source": [
    "**Invertible Matrix Theorem (IMT).** Let $A$ be an $n\\times n$ matrix, and let $T:\\mathbb R^n\\rightarrow \\mathbb R^n$ be the matrix transformation $T(\\vec x)=A\\vec x$. The following statements are equivalent:\n",
    "\n",
    "1. $A$ is invertible.\n",
    "2. $A$ has $n$ pivots.\n",
    "3. $\\text{Null}(A)={\\vec 0}$.\n",
    "4. The columns of $A$ are linearly independent.\n",
    "5. The columns of $A$ span $\\mathbb R^n$.\n",
    "6. $A\\vec x=\\vec b$ has a unique solution for each $b$ in $\\mathbb R^n$.\n",
    "7. The linear transformation $T$ is invertible, specifically:\n",
    "    * $T$ is one-to-one.\n",
    "    * $T$ is onto."
   ]
  },
  {
   "cell_type": "markdown",
   "metadata": {},
   "source": [
    "## Using the IMT\n",
    "\n",
    "We use the IMT all the time. Is a set of vectors a basis for $\\mathbb R^n$? Combine them into a matrix and check to see if the matrix is invertible. Is the linear transformation one-to-one? Verify the null space contains only the $\\vec 0$. Does $A$ have an inverse? Row reduce and check how many pivots the matrix has."
   ]
  },
  {
   "cell_type": "markdown",
   "metadata": {},
   "source": [
    "## Examples\n",
    "\n",
    "### Example 1\n",
    "\n",
    "Determine if the linear transformation $T$ is one-to-one. Is it onto? The standard matrix associated with $T$ is\n",
    "\n",
    "$$A = \\left[\\begin{array}{rrrr}0&-2&-3&9\\\\0&0&0&1\\\\-2&2&5&-15\\\\1&-1&-2&7\\\\\\end{array}\\right]$$"
   ]
  },
  {
   "cell_type": "code",
   "execution_count": 4,
   "metadata": {},
   "outputs": [
    {
     "name": "stdout",
     "output_type": "stream",
     "text": [
      "\n",
      "ans =\n",
      "\n",
      "     1     0     0     0\n",
      "     0     1     0     0\n",
      "     0     0     1     0\n",
      "     0     0     0     1\n",
      "\n",
      "\n"
     ]
    }
   ],
   "source": [
    "A = [0 -2 -3 9 ; 0 0 0 1 ; -2 2 5 -15 ; 1 -1 -2 7 ];\n",
    "rref(A)"
   ]
  },
  {
   "cell_type": "markdown",
   "metadata": {},
   "source": [
    "With 4 pivots, we know the dimension of the null is zero and thus that the transformation is both one-to-one and onto (invertible)."
   ]
  },
  {
   "cell_type": "markdown",
   "metadata": {},
   "source": [
    "### Example 2\n",
    "\n",
    "Is the set of vectors a basis for $\\mathbb R^5$?\n",
    "\n",
    "$$\\left\\{\\vec v_1 =\\left[\\begin{array}{r}1\\\\-2\\\\2\\\\-1\\\\3\\\\\\end{array}\\right],\\vec v_2=\\left[\\begin{array}{r}2\\\\0\\\\5\\\\4\\\\5\\\\\\end{array}\\right],\\vec v_3=\\left[\\begin{array}{r}-2\\\\-1\\\\3\\\\3\\\\4\\\\\\end{array}\\right],\\vec v_4=\\left[\\begin{array}{r}2\\\\1\\\\2\\\\4\\\\3\\\\\\end{array}\\right],\\vec v_5=\\left[\\begin{array}{r}2\\\\0\\\\3\\\\1\\\\2\\\\\\end{array}\\right]\\right\\}$$\n",
    "\n",
    "\n",
    "\n"
   ]
  },
  {
   "cell_type": "markdown",
   "metadata": {},
   "source": [
    "We create the matrix $B = [\\vec b_1,\\vec b_2, \\vec b_3 , \\vec b_4 , \\vec b_5 ]$ and row reduce."
   ]
  },
  {
   "cell_type": "code",
   "execution_count": 5,
   "metadata": {},
   "outputs": [
    {
     "name": "stdout",
     "output_type": "stream",
     "text": [
      "\n",
      "ans =\n",
      "\n",
      "    1.0000   -4.0000    0.0000    2.0000   -2.0000\n",
      "  -25.0000  110.0000   -7.0000  -61.0000   66.0000\n",
      "   10.0000  -45.0000    3.0000   25.0000  -27.0000\n",
      "   12.0000  -52.0000    3.0000   29.0000  -31.0000\n",
      "   23.0000 -101.0000    7.0000   56.0000  -61.0000\n",
      "\n",
      "\n"
     ]
    }
   ],
   "source": [
    "B = [1 2 -2 2 2 ; -2 0 -1 1 0 ; 2 5 3 2 3 ; -1 4 3 4 1 ; 3 5 4 3 2 ];\n",
    "inv(B)"
   ]
  },
  {
   "cell_type": "markdown",
   "metadata": {},
   "source": [
    "Since $B$ is invertible, we know the columns are linearly independent and thus form a basis for $\\mathbb R^5$."
   ]
  }
 ],
 "metadata": {
  "kernelspec": {
   "display_name": "Matlab",
   "language": "matlab",
   "name": "matlab"
  },
  "language_info": {
   "codemirror_mode": "octave",
   "file_extension": ".m",
   "help_links": [
    {
     "text": "MetaKernel Magics",
     "url": "https://metakernel.readthedocs.io/en/latest/source/README.html"
    }
   ],
   "mimetype": "text/x-octave",
   "name": "matlab",
   "version": "0.16.11"
  }
 },
 "nbformat": 4,
 "nbformat_minor": 4
}
