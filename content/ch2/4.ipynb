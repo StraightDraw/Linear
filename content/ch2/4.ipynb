{
 "cells": [
  {
   "cell_type": "markdown",
   "metadata": {},
   "source": [
    "# 2.4 Solution Sets"
   ]
  },
  {
   "cell_type": "markdown",
   "metadata": {},
   "source": [
    "When we solve a linear system of the form\n",
    "\n",
    "$$A\\vec x = \\vec 0$$\n",
    "\n",
    "it is called an *homogeneous* system. We solve the honogeneous system in excatly the same way as before, by row reducing the augmented matrix $[A, \\vec 0]$. For example, if\n",
    "\n",
    "$$A = \\left[\\begin{array}{rrrr}5&2&-1&4\\\\5&-2&0&-2\\\\\\end{array}\\right] $$\n",
    "\n",
    "then \n",
    "\n",
    "$$[A,\\vec 0] = \\left[\\begin{array}{rrrr|r}5&2&-1&4&0\\\\5&-2&0&-2&0\\end{array}\\right]$$"
   ]
  },
  {
   "cell_type": "markdown",
   "metadata": {},
   "source": [
    "We solve the system and convert the solutions to vector form."
   ]
  },
  {
   "cell_type": "code",
   "execution_count": 1,
   "metadata": {},
   "outputs": [
    {
     "name": "stdout",
     "output_type": "stream",
     "text": [
      "\n",
      "A =\n",
      "\n",
      "     5     2    -1     4\n",
      "     5    -2     0    -2\n",
      "\n",
      "\n"
     ]
    }
   ],
   "source": [
    "A=[  5     2    -1     4 ;\n",
    "     5    -2     0    -2 ]"
   ]
  },
  {
   "cell_type": "markdown",
   "metadata": {},
   "source": [
    "Let's create an augmented matrix $a$ for the homogeneous system.\n",
    "\n",
    "````{tip}\n",
    "Use a lower case variable name for a matrix if you are row reducing it as a lowercase letter is much easier to type.\n",
    "````\n",
    "\n",
    "````{margin}\n",
    "The `zeros` function in MATLAB unsuprisingly creates a matrix of zeros of the given dimnesions, as in \n",
    "\n",
    "```\n",
    "zeros(3,2)\n",
    "```\n",
    "$$\\left[\\begin{array}{rr}0&0\\\\0&0\\\\0&0\\\\\\end{array}\\right]$$\n",
    "````"
   ]
  },
  {
   "cell_type": "code",
   "execution_count": 3,
   "metadata": {},
   "outputs": [
    {
     "name": "stdout",
     "output_type": "stream",
     "text": [
      "\n",
      "a =\n",
      "\n",
      "     5     2    -1     4     0\n",
      "     5    -2     0    -2     0\n",
      "\n",
      "\n"
     ]
    }
   ],
   "source": [
    "a = [A, zeros(2,1)]"
   ]
  },
  {
   "cell_type": "markdown",
   "metadata": {},
   "source": [
    "$$R_2 = R_2 - R_1$$"
   ]
  },
  {
   "cell_type": "code",
   "execution_count": 4,
   "metadata": {},
   "outputs": [
    {
     "name": "stdout",
     "output_type": "stream",
     "text": [
      "\n",
      "b =\n",
      "\n",
      "     5     2    -1     4     0\n",
      "     0    -4     1    -6     0\n",
      "\n",
      "\n"
     ]
    }
   ],
   "source": [
    "b = a;\n",
    "b(2,:) = b(2,:) - (b(1,:))"
   ]
  },
  {
   "cell_type": "markdown",
   "metadata": {},
   "source": [
    "We can solve for the basic variables $x_1,x_2$ in terms of the free variables $x_3,x_4$.\n",
    "\n",
    "$$\\begin{align*}5x_1 + 2x_2 &= x_3 - 4x_4\\\\-4x_2 &= -x_3 + 6x_4 \\end{align*} \\implies$$"
   ]
  },
  {
   "cell_type": "markdown",
   "metadata": {},
   "source": [
    "$$\\begin{align*}5x_1 + 2x_2 &= x_3 - 4x_4\\\\x_2 &= \\frac{1}{4}x_3 - \\frac{3}{2}x_4 \\end{align*}\\implies$$"
   ]
  },
  {
   "cell_type": "markdown",
   "metadata": {},
   "source": [
    "We substitute for $x_2$ in the first equation and simplify."
   ]
  },
  {
   "cell_type": "markdown",
   "metadata": {},
   "source": [
    "$$\\begin{align*}5x_1 + 2\\left(\\frac{1}{4}x_3 - \\frac{3}{2}x_4\\right) &= x_3 - 4x_4\\\\x_2 &= \\frac{1}{4}x_3 - \\frac{3}{2}x_4 \\end{align*}\\implies$$"
   ]
  },
  {
   "cell_type": "markdown",
   "metadata": {},
   "source": [
    "$$\\begin{align*}5x_1 + \\frac{1}{2}x_3 - 3x_4 &= x_3 - 4x_4\\\\x_2 &= \\frac{1}{4}x_3 - \\frac{3}{2}x_4 \\end{align*}\\implies$$"
   ]
  },
  {
   "cell_type": "markdown",
   "metadata": {},
   "source": [
    "$$\\begin{align*}5x_1&= \\frac{1}{2}x_3 - x_4\\\\x_2 &= \\frac{1}{4}x_3 - \\frac{3}{2}x_4 \\end{align*}\\implies$$"
   ]
  },
  {
   "cell_type": "markdown",
   "metadata": {},
   "source": [
    "$$\\begin{align*}x_1&= \\frac{1}{10}x_3 - \\frac{1}{5}x_4\\\\x_2 &= \\frac{1}{4}x_3 - \\frac{3}{2}x_4 \\end{align*}$$"
   ]
  },
  {
   "cell_type": "markdown",
   "metadata": {},
   "source": [
    "Our solution vector is of the form $\\vec x = \\left[\\begin{array}{r}x_1\\\\x_2\\\\x_3\\\\x_4\\end{array}\\right]$ where\n",
    "\n",
    "$$\\left[\\begin{array}{r}x_1\\\\x_2\\\\x_3\\\\x_4\\end{array}\\right] = \\left[\\begin{array}{r}\\frac{1}{10}x_3 -\\frac{1}{5}x_4\\\\ \\frac{1}{4}x_3 - \\frac{3}{2}x_4 \\\\ x_3\\hspace{1.5cm} \\\\ x_4 \\end{array}\\right] = \\left[\\begin{array}{r} \\frac{1}{10}\\\\ \\frac{1}{4} \\\\ 1 \\\\ 0 \\end{array}\\right]x_3 + \\left[\\begin{array}{r}-\\frac{1}{5}\\\\ -\\frac{3}{2} \\\\ 0 \\\\ 1\\end{array}\\right]x_4$$"
   ]
  },
  {
   "cell_type": "markdown",
   "metadata": {},
   "source": [
    "This means that any linear combination of the vectors\n",
    "\n",
    "$$\\left[\\begin{array}{r} \\frac{1}{10}\\\\ \\frac{1}{4} \\\\ 1 \\\\ 0 \\end{array}\\right] \\hspace{1cm}\\text{and}\\hspace{1cm}\\left[\\begin{array}{r}-\\frac{1}{5}\\\\ -\\frac{3}{2} \\\\ 0 \\\\ 1\\end{array}\\right]$$\n",
    "\n",
    "is a solution to the homogeneous system of equations, which we can check using MATLAB\n"
   ]
  },
  {
   "cell_type": "code",
   "execution_count": 7,
   "metadata": {},
   "outputs": [
    {
     "name": "stdout",
     "output_type": "stream",
     "text": [
      "\n",
      "u =\n",
      "\n",
      "    0.1000\n",
      "    0.2500\n",
      "    1.0000\n",
      "         0\n",
      "\n",
      "\n",
      "v =\n",
      "\n",
      "   -0.2000\n",
      "   -1.5000\n",
      "         0\n",
      "    1.0000\n",
      "\n",
      "\n"
     ]
    }
   ],
   "source": [
    "u = [.1 ; .25 ; 1 ; 0]\n",
    "v = [-.2 ; -1.5 ; 0 ; 1]"
   ]
  },
  {
   "cell_type": "markdown",
   "metadata": {},
   "source": [
    "Let's set the vector $\\vec x$ equal to some linear combination of $\\vec v$ and $\\vec u$ and multiply the result by the matrix $A$."
   ]
  },
  {
   "cell_type": "code",
   "execution_count": 9,
   "metadata": {},
   "outputs": [
    {
     "name": "stdout",
     "output_type": "stream",
     "text": [
      "\n",
      "ans =\n",
      "\n",
      "     0\n",
      "     0\n",
      "\n",
      "\n"
     ]
    }
   ],
   "source": [
    "x = 2 * u + 4 * v;\n",
    "A * x"
   ]
  },
  {
   "cell_type": "markdown",
   "metadata": {},
   "source": [
    "Because $A\\vec x = \\vec 0$ for all linear combinations of $\\vec v,\\vec u$ (and you should try several), we know that the solution set of these homogeneous equations is the \n",
    "\n",
    "$$\\text{Span}\\{\\vec u,\\vec v\\}$$\n",
    "\n",
    "and has two dimensions. As the textbooks remarks, the dimension of the subspace containing the solution set has dimension equal to the number of free variables in the system. For example, consider the linear system represented by the following $3\\times 6$ coefficent matrix.\n",
    "\n",
    "$$\\left[\\begin{array}{rrrrrr}-4&6&3&-2&1&-3\\\\-2&5&0&5&4&9\\\\5&2&6&-2&6&6\\\\\\end{array}\\right]$$\n",
    "\n",
    "We know that this matrix will have either 1, 2 or 3 pivots and therefore 3, 4 or 5 free variables. We can row-reduce to verify which situation we have.\n",
    "\n",
    "````{margin}\n",
    "```{seealso}\n",
    "If you are having trouble understanding exactly why we know we must have 3, 4 or 5 free variables, please review [section 2.4](https://textbooks.math.gatech.edu/ila/solution-sets.html) of the textbook.\n",
    "```\n",
    "````"
   ]
  },
  {
   "cell_type": "code",
   "execution_count": 12,
   "metadata": {},
   "outputs": [
    {
     "name": "stdout",
     "output_type": "stream",
     "text": [
      "\n",
      "ans =\n",
      "\n",
      "    1.0000         0         0    1.3333    1.3333    3.3333\n",
      "         0    1.0000         0    1.5333    1.3333    3.1333\n",
      "         0         0    1.0000   -1.9556   -0.5556   -2.8222\n",
      "\n",
      "\n"
     ]
    }
   ],
   "source": [
    "A = [ -4     6     3    -2     1    -3 ;\n",
    "      -2     5     0     5     4     9 ;\n",
    "       5     2     6    -2     6     6 ] ;\n",
    "       \n",
    "rref(A)"
   ]
  },
  {
   "cell_type": "markdown",
   "metadata": {},
   "source": [
    "Since we have three pivots and, more to the point, three free variables, the solution set of the homogeneous system $[A|\\vec 0]$ will have dimension three."
   ]
  }
 ],
 "metadata": {
  "kernelspec": {
   "display_name": "Matlab",
   "language": "matlab",
   "name": "matlab"
  },
  "language_info": {
   "codemirror_mode": "octave",
   "file_extension": ".m",
   "help_links": [
    {
     "text": "MetaKernel Magics",
     "url": "https://metakernel.readthedocs.io/en/latest/source/README.html"
    }
   ],
   "mimetype": "text/x-octave",
   "name": "matlab",
   "version": "0.16.11"
  }
 },
 "nbformat": 4,
 "nbformat_minor": 4
}
