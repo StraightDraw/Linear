{
 "cells": [
  {
   "cell_type": "markdown",
   "metadata": {},
   "source": [
    "# 2.5 Linear Independence"
   ]
  },
  {
   "cell_type": "markdown",
   "metadata": {},
   "source": [
    "Linearly Independent\n",
    ": A set of vectors $\\{v_1,v_2,...,v_k\\}$ is linearly independent if the vector equation $x_1\\vec v_1+x_2\\vec v_2+\\cdots+x_k\\vec v_k=\\vec 0$ has only the *trivial solution*.\n",
    "\n",
    "````{Note}\n",
    "The matrix equations $A\\vec x = \\vec 0$ always has the trivial solution $\\vec x = \\vec 0$. Whenever the zero vector is a solution, we refer to it as the **trivial solution** of the system.\n",
    "````\n",
    "\n",
    "Linearly Dependent\n",
    ": A set of vectors that is not linearly indepedent."
   ]
  },
  {
   "cell_type": "markdown",
   "metadata": {},
   "source": [
    "If the set of vectors $\\{v_1,v_2,...,v_k\\}$ is linearly dependent, then there exists a linear combination of the those vectors equal to the zero vector. This means there is a solution\n",
    "\n",
    "$$\\vec x = \\left[\\begin{array}{r}x_1\\\\x_2\\\\\\vdots\\\\x_k\\end{array}\\right]$$\n",
    "\n",
    "with at least one component not equal to zero such that to dot product equals zero:\n",
    "\n",
    "$x_1\\vec v_1+x_2\\vec v_2+\\cdots+x_k\\vec v_k=\\vec 0$"
   ]
  },
  {
   "cell_type": "markdown",
   "metadata": {},
   "source": [
    "## Examples: Linearly indepedent"
   ]
  },
  {
   "cell_type": "markdown",
   "metadata": {},
   "source": [
    "Determine if the set of vectors $\\{x_1, x_2, \\dots , x_3\\}$ and $\\{y_1, y_2, \\dots , y_3\\}$ are linearly independent.\n",
    "\n",
    "$$x_1 =\\left[\\begin{array}{r}-1\\\\-2\\\\-2\\\\\\end{array}\\right], x_2=\\left[\\begin{array}{r}-2\\\\1\\\\1\\\\\\end{array}\\right], x_3=\\left[\\begin{array}{r}0\\\\4\\\\3\\\\\\end{array}\\right] \\hspace{1cm} \n",
    "y_1 =\\left[\\begin{array}{r}1\\\\5\\\\5\\\\\\end{array}\\right], y_2=\\left[\\begin{array} {r}4\\\\2\\\\5\\\\\\end{array}\\right], y_3=\\left[\\begin{array}{r}1\\\\-1\\\\0\\\\\\end{array}\\right]$$\n",
    "\n",
    "Let's first create a matrix $X$ the columns of which are the vectors $\\{x_1, x_2, \\dots , x_3\\}$.\n",
    "\n",
    "$$X = \\left[\\begin{array}{rrr}-1&-2&0\\\\-2&1&4\\\\-2&1&3\\\\\\end{array}\\right]$$\n",
    "\n",
    "We need to know how many pivots there are because pivots correspond to the linearly independent vectors."
   ]
  },
  {
   "cell_type": "code",
   "execution_count": 23,
   "metadata": {},
   "outputs": [
    {
     "name": "stdout",
     "output_type": "stream",
     "text": [
      "\n",
      "ans =\n",
      "\n",
      "     1     0     0\n",
      "     0     1     0\n",
      "     0     0     1\n",
      "\n",
      "\n"
     ]
    }
   ],
   "source": [
    "X = [ -1    -2     0 ;\n",
    "      -2     1     4 ;\n",
    "      -2     1     3 ] ;\n",
    "      \n",
    "rref(X)"
   ]
  },
  {
   "cell_type": "markdown",
   "metadata": {},
   "source": [
    "Because all three columns are pivot columns, the vectors are linearly indpendent.\n",
    "\n",
    "We'll do the same for a matrix $Y$.\n",
    "\n",
    "$$Y = \\left[\\begin{array}{rrr}1&4&1\\\\5&2&-1\\\\5&5&0\\\\\\end{array}\\right]$$"
   ]
  },
  {
   "cell_type": "code",
   "execution_count": 24,
   "metadata": {},
   "outputs": [
    {
     "name": "stdout",
     "output_type": "stream",
     "text": [
      "\n",
      "ans =\n",
      "\n",
      "    1.0000         0   -0.3333\n",
      "         0    1.0000    0.3333\n",
      "         0         0         0\n",
      "\n",
      "\n"
     ]
    }
   ],
   "source": [
    "Y = [  1     4     1 ;\n",
    "       5     2    -1 ;\n",
    "       5     5     0 ] ;\n",
    "       \n",
    "rref(Y)"
   ]
  },
  {
   "cell_type": "markdown",
   "metadata": {},
   "source": [
    "This set of vectors is linearly dependent because there are only two pivots, not three. Therefore, there must be a non-trivial solution to the homogeneous system of equations."
   ]
  },
  {
   "cell_type": "markdown",
   "metadata": {},
   "source": [
    "## Linear Dependence Relation"
   ]
  },
  {
   "cell_type": "markdown",
   "metadata": {},
   "source": [
    "Let's look at the example with the vectors $\\vec y_i$ and the matrix $Y$. Instead of thinking of it as three vectors, let's consider what it would reprensent as an augmented matrix.\n",
    "\n",
    "$$\\left[\\begin{array}{rr|r}1&4&1\\\\5&2&-1\\\\5&5&0\\\\\\end{array}\\right]\\hspace{1cm}\\rightarrow\\hspace{1cm}\\left[\\begin{array}{rr|r}1&0&-0.33333\\\\0&1&0.33333\\\\0&0&0\\\\\\end{array}\\right]$$"
   ]
  },
  {
   "cell_type": "markdown",
   "metadata": {},
   "source": [
    "We have a found a solution vector $\\vec v = \\left[\\begin{array}{r}-\\frac{1}{3}\\\\ \\frac{1}{3}\\end{array}\\right]$ which indicates that a linear combination of the first two vectors using the weights $-\\frac{1}{3},\\frac{1}{3}$ will result in the third vector."
   ]
  },
  {
   "cell_type": "code",
   "execution_count": 25,
   "metadata": {},
   "outputs": [
    {
     "name": "stdout",
     "output_type": "stream",
     "text": [
      "\n",
      "y1 =\n",
      "\n",
      "     1\n",
      "     5\n",
      "     5\n",
      "\n",
      "\n",
      "y2 =\n",
      "\n",
      "     4\n",
      "     2\n",
      "     5\n",
      "\n",
      "\n",
      "y3 =\n",
      "\n",
      "     1\n",
      "    -1\n",
      "     0\n",
      "\n",
      "\n"
     ]
    }
   ],
   "source": [
    "y1 = Y(:,1)\n",
    "y2 = Y(:,2)\n",
    "y3 = Y(:,3)"
   ]
  },
  {
   "cell_type": "code",
   "execution_count": 26,
   "metadata": {},
   "outputs": [
    {
     "name": "stdout",
     "output_type": "stream",
     "text": [
      "\n",
      "ans =\n",
      "\n",
      "     1\n",
      "    -1\n",
      "     0\n",
      "\n",
      "\n"
     ]
    }
   ],
   "source": [
    "- y1/3 + y2/3 "
   ]
  },
  {
   "cell_type": "markdown",
   "metadata": {},
   "source": [
    "We can can check using a the logical operator for \"equal to\":"
   ]
  },
  {
   "cell_type": "code",
   "execution_count": 27,
   "metadata": {},
   "outputs": [
    {
     "name": "stdout",
     "output_type": "stream",
     "text": [
      "\n",
      "ans =\n",
      "\n",
      "  3x1 logical array\n",
      "\n",
      "   1\n",
      "   1\n",
      "   1\n",
      "\n",
      "\n"
     ]
    }
   ],
   "source": [
    "- y1/3 + y2/3 == y3"
   ]
  },
  {
   "cell_type": "markdown",
   "metadata": {},
   "source": [
    "The 1's indicate true for every value."
   ]
  },
  {
   "cell_type": "markdown",
   "metadata": {},
   "source": [
    "The linear combination of\n",
    "\n",
    "$$-\\left(\\frac{1}{3}\\right)\\left[\\begin{array}{r}1\\\\5\\\\5\\\\\\end{array}\\right] + \\left(\\frac{1}{3}\\right)\\left[\\begin{array}{r}4\\\\2\\\\5\\\\\\end{array}\\right]=\\left[\\begin{array}{r}1\\\\-1\\\\0\\\\\\end{array}\\right]$$\n",
    "\n",
    "is called the *linear dependence relation*."
   ]
  },
  {
   "cell_type": "markdown",
   "metadata": {},
   "source": [
    "## Spans and Linear Dependence"
   ]
  },
  {
   "cell_type": "markdown",
   "metadata": {},
   "source": [
    "If a vector $\\vec b$ is in the $\\text{Span}\\{\\vec v_1,\\vec v_2, \\dots , \\vec v_k \\}$, the set of vectors\n",
    "\n",
    "$$\\{\\vec v_1,\\vec v_2, \\cdots , \\vec v_k , \\vec b\\}$$"
   ]
  },
  {
   "cell_type": "markdown",
   "metadata": {},
   "source": [
    "is linearly dependent. The *linear dependence relation* for $\\vec b$ is the linear combination of the vectors $\\{\\vec v_1,\\vec v_2, \\dots , \\vec v_k \\}$ such that\n",
    "\n",
    "$$\\vec b = c_1\\vec v_1 + c_2\\vec v_2 + \\cdots + c_k\\vec v_k$$"
   ]
  },
  {
   "cell_type": "markdown",
   "metadata": {},
   "source": [
    "which is precisely what it means for a vector to be in the span of a set of vectors."
   ]
  }
 ],
 "metadata": {
  "kernelspec": {
   "display_name": "Matlab",
   "language": "matlab",
   "name": "matlab"
  },
  "language_info": {
   "codemirror_mode": "octave",
   "file_extension": ".m",
   "help_links": [
    {
     "text": "MetaKernel Magics",
     "url": "https://metakernel.readthedocs.io/en/latest/source/README.html"
    }
   ],
   "mimetype": "text/x-octave",
   "name": "matlab",
   "version": "0.16.11"
  }
 },
 "nbformat": 4,
 "nbformat_minor": 4
}
