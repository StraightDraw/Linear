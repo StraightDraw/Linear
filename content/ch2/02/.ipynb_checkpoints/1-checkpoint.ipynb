{
 "cells": [
  {
   "cell_type": "markdown",
   "metadata": {},
   "source": [
    "# 2.2.1 Homework"
   ]
  },
  {
   "cell_type": "markdown",
   "metadata": {},
   "source": [
    "## Determine if the vector is the span of the following vectors\n",
    "\n",
    "This page is under construction.\n",
    "\n",
    "\n",
    "````{panels}\n",
    "HW Question 1\n",
    "^^^\n",
    "```{dropdown} Solution\n",
    "```\n",
    "\n",
    "---\n",
    "HW Question 2\n",
    "^^^\n",
    "```{dropdown} Solution\n",
    "```\n",
    "\n",
    "---\n",
    "HW Question 3\n",
    "^^^\n",
    "```{dropdown} Solution\n",
    "```\n",
    "\n",
    "---\n",
    "HW Question 4\n",
    "^^^\n",
    "```{dropdown} Solution\n",
    "```\n",
    "````\n",
    "\n"
   ]
  }
 ],
 "metadata": {
  "kernelspec": {
   "display_name": "Python 3",
   "language": "python",
   "name": "python3"
  },
  "language_info": {
   "codemirror_mode": {
    "name": "ipython",
    "version": 3
   },
   "file_extension": ".py",
   "mimetype": "text/x-python",
   "name": "python",
   "nbconvert_exporter": "python",
   "pygments_lexer": "ipython3",
   "version": "3.6.12"
  }
 },
 "nbformat": 4,
 "nbformat_minor": 4
}
