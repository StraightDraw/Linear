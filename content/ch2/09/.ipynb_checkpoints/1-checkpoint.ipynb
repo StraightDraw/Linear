{
 "cells": [
  {
   "cell_type": "markdown",
   "metadata": {},
   "source": [
    "# 2.9.1 Lab 5"
   ]
  },
  {
   "cell_type": "markdown",
   "metadata": {},
   "source": [
    "## Part I. Find a basis for the span of the set of vectors\n",
    "\n",
    "\n",
    "\n",
    "If your birthday is in:\n",
    "\n",
    "* January through April, do the sets of vectors $\\vec v$.\n",
    "* May through August, do the sets of vectors $\\vec x$.\n",
    "* September through December, do the sets of vectors $\\vec y$.\n",
    "\n",
    "\n"
   ]
  },
  {
   "cell_type": "markdown",
   "metadata": {},
   "source": [
    "## Part II. Find a basis for the column space of the matrix\n",
    "\n",
    "If your first name begins with:\n",
    "\n",
    "* A through D, do A.\n",
    "* D through J, do D.\n",
    "* J through Z, do J.\n"
   ]
  },
  {
   "cell_type": "markdown",
   "metadata": {},
   "source": [
    "### Part III: Find the $\\mathcal B$-coordinates of the vector\n",
    "\n",
    "If your last name begins with:\n",
    "\n",
    "* B through G, do B.\n",
    "* H through Q, do H.\n",
    "* R through Z, do R.\n",
    "* A pick any of the three.\n",
    "\n"
   ]
  }
 ],
 "metadata": {
  "kernelspec": {
   "display_name": "Matlab",
   "language": "matlab",
   "name": "matlab"
  },
  "language_info": {
   "codemirror_mode": "octave",
   "file_extension": ".m",
   "help_links": [
    {
     "text": "MetaKernel Magics",
     "url": "https://metakernel.readthedocs.io/en/latest/source/README.html"
    }
   ],
   "mimetype": "text/x-octave",
   "name": "matlab",
   "version": "0.16.11"
  }
 },
 "nbformat": 4,
 "nbformat_minor": 4
}
