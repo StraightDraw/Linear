{
 "cells": [
  {
   "cell_type": "markdown",
   "metadata": {},
   "source": [
    "# 2.6.1 Lab 4"
   ]
  },
  {
   "cell_type": "markdown",
   "metadata": {},
   "source": [
    "## Part I. Linear Independence\n",
    "\n",
    "Determine if the sets of vectors are linearly independent or linearly dependent. Explain your reasoning for each set. If they are linearly dependent, give the dependence relation.\n",
    "\n",
    "If your birthday is in:\n",
    "\n",
    "* January through April, do the sets of vectors $\\vec v$.\n",
    "* May through August, do the sets of vectors $\\vec x$.\n",
    "* September through December, do the sets of vectors $\\vec y$.\n",
    "\n",
    "\n",
    "First:\n",
    "\n",
    "$$\\left\\{ \\vec v_1 =\\left[\\begin{array}{r}-1\\\\0\\\\0\\\\0\\\\\\end{array}\\right],\\vec v_2=\\left[\\begin{array}{r}-2\\\\15\\\\-6\\\\3\\\\\\end{array}\\right],\\vec v_3=\\left[\\begin{array}{r}4\\\\9\\\\-3\\\\5\\\\\\end{array}\\right],\\vec v_4=\\left[\\begin{array}{r}0\\\\10\\\\-4\\\\2\\\\\\end{array}\\right] \\right\\}$$"
   ]
  },
  {
   "cell_type": "code",
   "execution_count": 31,
   "metadata": {},
   "outputs": [
    {
     "name": "stdout",
     "output_type": "stream",
     "text": [
      "\n"
     ]
    }
   ],
   "source": [
    "v1 = [-1 ; 0 ; 0 ; 0 ] ;\n",
    "v2 = [-2 ; 15 ; -6 ; 3 ] ;\n",
    "v3 = [4 ; 9 ; -3 ; 5 ] ;\n",
    "v4 = [0 ; 10 ; -4 ; 2 ] ;"
   ]
  },
  {
   "cell_type": "markdown",
   "metadata": {},
   "source": [
    "Second:\n",
    "$$\\left\\{ \\vec v_5 =\\left[\\begin{array}{r}5\\\\0\\\\0\\\\0\\\\\\end{array}\\right],\\vec v_6=\\left[\\begin{array}{r}-1\\\\2\\\\-2\\\\0\\\\\\end{array}\\right],\\vec v_7=\\left[\\begin{array}{r}2\\\\-2\\\\7\\\\15\\\\\\end{array}\\right],\\vec v_8=\\left[\\begin{array}{r}1\\\\-3\\\\5\\\\8\\\\\\end{array}\\right] \\right\\}$$"
   ]
  },
  {
   "cell_type": "code",
   "execution_count": 32,
   "metadata": {},
   "outputs": [
    {
     "name": "stdout",
     "output_type": "stream",
     "text": [
      "\n"
     ]
    }
   ],
   "source": [
    "v5 = [5 ; 0 ; 0 ; 0 ] ;\n",
    "v6 = [-1 ; 2 ; -2 ; 0 ] ;\n",
    "v7 = [2 ; -2 ; 7 ; 15 ] ;\n",
    "v8 = [1 ; -3 ; 5 ; 8 ] ;\n"
   ]
  },
  {
   "cell_type": "markdown",
   "metadata": {},
   "source": [
    "____"
   ]
  },
  {
   "cell_type": "markdown",
   "metadata": {},
   "source": [
    "First:\n",
    "\n",
    "$$\\left\\{ \\vec x_1 =\\left[\\begin{array}{r}0\\\\9\\\\-1\\\\1\\\\\\end{array}\\right],\\vec x_2=\\left[\\begin{array}{r}4\\\\-11\\\\1\\\\-1\\\\\\end{array}\\right],\\vec x_3=\\left[\\begin{array}{r}7\\\\-17\\\\2\\\\-2\\\\\\end{array}\\right],\\vec x_4=\\left[\\begin{array}{r}3\\\\12\\\\-1\\\\1\\\\\\end{array}\\right] \\right\\}$$"
   ]
  },
  {
   "cell_type": "code",
   "execution_count": 33,
   "metadata": {},
   "outputs": [
    {
     "name": "stdout",
     "output_type": "stream",
     "text": [
      "\n"
     ]
    }
   ],
   "source": [
    "x1 = [0 ; 9 ; -1 ; 1 ] ;\n",
    "x2 = [4 ; -11 ; 1 ; -1 ] ;\n",
    "x3 = [7 ; -17 ; 2 ; -2 ] ;\n",
    "x4 = [3 ; 12 ; -1 ; 1 ] ;"
   ]
  },
  {
   "cell_type": "markdown",
   "metadata": {},
   "source": [
    "Second:\n",
    "\n",
    "$$\\left\\{ \\vec x_5 =\\left[\\begin{array}{r}-1\\\\-2\\\\-1\\\\-2\\\\\\end{array}\\right],\\vec x_6=\\left[\\begin{array}{r}-1\\\\5\\\\-2\\\\2\\\\\\end{array}\\right],\\vec x_7=\\left[\\begin{array}{r}-1\\\\-12\\\\0\\\\-9\\\\\\end{array}\\right],\\vec x_8=\\left[\\begin{array}{r}-1\\\\-15\\\\0\\\\-11\\\\\\end{array}\\right] \\right\\}$$"
   ]
  },
  {
   "cell_type": "code",
   "execution_count": 34,
   "metadata": {},
   "outputs": [
    {
     "name": "stdout",
     "output_type": "stream",
     "text": [
      "\n"
     ]
    }
   ],
   "source": [
    "x5 = [-1 ; -2 ; -1 ; -2 ] ;\n",
    "x6 = [-1 ; 5 ; -2 ; 2 ] ;\n",
    "x7 = [-1 ; -12 ; 0 ; -9 ] ;\n",
    "x8 = [-1 ; -15 ; 0 ; -11 ] ;"
   ]
  },
  {
   "cell_type": "markdown",
   "metadata": {},
   "source": [
    "____"
   ]
  },
  {
   "cell_type": "markdown",
   "metadata": {},
   "source": [
    "First:\n",
    "\n",
    "$$\\left\\{ \\vec y_1 =\\left[\\begin{array}{r}-1\\\\3\\\\1\\\\0\\\\\\end{array}\\right],\\vec y_2=\\left[\\begin{array}{r}49\\\\-122\\\\-49\\\\5\\\\\\end{array}\\right],\\vec y_3=\\left[\\begin{array}{r}34\\\\-82\\\\-34\\\\4\\\\\\end{array}\\right],\\vec y_4=\\left[\\begin{array}{r}-44\\\\247\\\\84\\\\-1\\\\\\end{array}\\right] \\right\\}$$"
   ]
  },
  {
   "cell_type": "code",
   "execution_count": 35,
   "metadata": {},
   "outputs": [
    {
     "name": "stdout",
     "output_type": "stream",
     "text": [
      "\n"
     ]
    }
   ],
   "source": [
    "y1 = [-1 ; 3 ; 1 ; 0 ] ;\n",
    "y2 = [49 ; -122 ; -49 ; 5 ] ;\n",
    "y3 = [34 ; -82 ; -34 ; 4 ] ;\n",
    "y4 = [-44 ; 247 ; 84 ; -1 ] ;"
   ]
  },
  {
   "cell_type": "markdown",
   "metadata": {},
   "source": [
    "Second: \n",
    "\n",
    "$$\\left\\{ \\vec y_5 =\\left[\\begin{array}{r}12\\\\0\\\\0\\\\12\\\\\\end{array}\\right],\\vec y_6=\\left[\\begin{array}{r}0\\\\4\\\\0\\\\0\\\\\\end{array}\\right],\\vec v_3=\\left[\\begin{array}{r}19\\\\-3\\\\1\\\\19\\\\\\end{array}\\right],\\vec v_4=\\left[\\begin{array}{r}76\\\\-6\\\\5\\\\77\\\\\\end{array}\\right] \\right\\}$$\n"
   ]
  },
  {
   "cell_type": "code",
   "execution_count": 36,
   "metadata": {},
   "outputs": [
    {
     "name": "stdout",
     "output_type": "stream",
     "text": [
      "\n"
     ]
    }
   ],
   "source": [
    "y5 = [12 ; 0 ; 0 ; 12 ] ;\n",
    "y6 = [0 ; 4 ; 0 ; 0 ] ;\n",
    "y7 = [19 ; -3 ; 1 ; 19 ] ;\n",
    "y8 = [76 ; -6 ; 5 ; 77 ] ;"
   ]
  },
  {
   "cell_type": "markdown",
   "metadata": {},
   "source": [
    "## Part II. Null Space in Vector Form\n",
    "\n",
    "Find the null space for the given matrix, and write the solution set in vector form.\n",
    "\n",
    "````{margin}\n",
    "```{note}\n",
    "The null space of a matrix $A$ is the set of all vectors $\\vec x$ such that $A\\vec x = \\vec 0$.\n",
    "```\n",
    "````\n",
    "\n",
    "If your first name begins with:\n",
    "\n",
    "* A through D, do A.\n",
    "* D through J, do D.\n",
    "* J through Z, do J.\n"
   ]
  },
  {
   "cell_type": "markdown",
   "metadata": {},
   "source": [
    "$$A = \\left[\\begin{array}{rrrr}1&2&1&1\\\\-2&1&1&-3\\\\1&-3&-1&3\\\\\\end{array}\\right]$$"
   ]
  },
  {
   "cell_type": "code",
   "execution_count": 37,
   "metadata": {},
   "outputs": [
    {
     "name": "stdout",
     "output_type": "stream",
     "text": [
      "\n"
     ]
    }
   ],
   "source": [
    "A = [1 2 1 1 ; -2 1 1 -3 ; 1 -3 -1 3 ] ;"
   ]
  },
  {
   "cell_type": "markdown",
   "metadata": {},
   "source": [
    "$$D = \\left[\\begin{array}{rrrr}2&6&-4&11\\\\0&-8&5&-14\\\\0&12&-7&19\\\\\\end{array}\\right]$$"
   ]
  },
  {
   "cell_type": "code",
   "execution_count": 38,
   "metadata": {},
   "outputs": [
    {
     "name": "stdout",
     "output_type": "stream",
     "text": [
      "\n"
     ]
    }
   ],
   "source": [
    "D = [2 6 -4 11 ; 0 -8 5 -14 ; 0 12 -7 19 ] ;"
   ]
  },
  {
   "cell_type": "markdown",
   "metadata": {},
   "source": [
    "$$J = \\left[\\begin{array}{rrrr}1&8&5&4\\\\2&91&40&38\\\\-2&-16&-9&-10\\\\\\end{array}\\right]$$"
   ]
  },
  {
   "cell_type": "code",
   "execution_count": 39,
   "metadata": {},
   "outputs": [
    {
     "name": "stdout",
     "output_type": "stream",
     "text": [
      "\n"
     ]
    }
   ],
   "source": [
    "J = [1 8 5 4 ; 2 91 40 38 ; -2 -16 -9 -10 ] ;"
   ]
  },
  {
   "cell_type": "markdown",
   "metadata": {},
   "source": [
    "### Part III: Column Space\n",
    "\n",
    "The column space of matrix $A$ is the span of its columns. Find the column space for the following matrices.\n",
    "\n",
    "If your last name begins with:\n",
    "\n",
    "* B through G, do B.\n",
    "* H through Q, do H.\n",
    "* R through Z, do R.\n",
    "* A pick any of the three.\n",
    "\n"
   ]
  },
  {
   "cell_type": "markdown",
   "metadata": {},
   "source": [
    "$$B = \\left[\\begin{array}{rrrr}2&2&5&1\\\\-2&-2&-5&-2\\\\0&0&0&-1\\\\2&2&5&1\\\\\\end{array}\\right]$$"
   ]
  },
  {
   "cell_type": "code",
   "execution_count": 40,
   "metadata": {},
   "outputs": [
    {
     "name": "stdout",
     "output_type": "stream",
     "text": [
      "\n"
     ]
    }
   ],
   "source": [
    "B = [2 2 5 1 ; -2 -2 -5 -2 ; 0 0 0 -1 ; 2 2 5 1 ] ;"
   ]
  },
  {
   "cell_type": "markdown",
   "metadata": {},
   "source": [
    "$$H = \\left[\\begin{array}{rrrr}0&-2&-1&5\\\\0&-2&-1&5\\\\5&1&-2&0\\\\0&1&1&-1\\\\\\end{array}\\right]$$"
   ]
  },
  {
   "cell_type": "code",
   "execution_count": 42,
   "metadata": {},
   "outputs": [
    {
     "name": "stdout",
     "output_type": "stream",
     "text": [
      "\n"
     ]
    }
   ],
   "source": [
    "H = [0 -2 -1 5 ; 0 -2 -1 5 ; 5 1 -2 0 ; 0 1 1 -1 ] ;"
   ]
  },
  {
   "cell_type": "markdown",
   "metadata": {},
   "source": [
    "$$R = \\left[\\begin{array}{rrrrr}6&6&-12&37&-8\\\\-4&6&-2&-7&3\\\\2&-2&0&5&-2\\\\\\end{array}\\right]$$"
   ]
  },
  {
   "cell_type": "code",
   "execution_count": 43,
   "metadata": {},
   "outputs": [
    {
     "name": "stdout",
     "output_type": "stream",
     "text": [
      "\n"
     ]
    }
   ],
   "source": [
    "R = [-3 2 2 0 ; -1 -1 1 4 ; -3 -3 3 17 ; 0 0 0 -1 ] ;"
   ]
  }
 ],
 "metadata": {
  "kernelspec": {
   "display_name": "Matlab",
   "language": "matlab",
   "name": "matlab"
  },
  "language_info": {
   "codemirror_mode": "octave",
   "file_extension": ".m",
   "help_links": [
    {
     "text": "MetaKernel Magics",
     "url": "https://metakernel.readthedocs.io/en/latest/source/README.html"
    }
   ],
   "mimetype": "text/x-octave",
   "name": "matlab",
   "version": "0.16.11"
  }
 },
 "nbformat": 4,
 "nbformat_minor": 4
}
