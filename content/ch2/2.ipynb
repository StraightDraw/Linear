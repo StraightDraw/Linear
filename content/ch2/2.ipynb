{
 "cells": [
  {
   "cell_type": "markdown",
   "metadata": {},
   "source": [
    "# 2.2 Vector Equations and Spans"
   ]
  },
  {
   "cell_type": "markdown",
   "metadata": {},
   "source": [
    "## The span of a set of vectors\n",
    "\n",
    "If the vector $\\vec b$ is in the *span* of the vectors $\\{\\vec v_1, \\vec v_2, \\dots \\vec v_n\\}$, then there is some linear combination that makes the vector equation true.\n",
    "\n",
    "$$c_1 \\vec v_1 + c_2 \\vec v_2 + \\dots + c_n \\vec v_n = \\vec b$$"
   ]
  },
  {
   "cell_type": "markdown",
   "metadata": {},
   "source": [
    "As shown in Margalit and Robanoff, we can find the weights $c_1, c_2, \\dots , c_n$ by row-reducing an augmented matrix. Let's rewrite the equation above slightly by calling the weights $x_1, x_2, \\dots , x_n$.\n",
    "\n",
    "$$x_1 \\vec v_1 + x_2 \\vec v_2 + \\dots + x_n \\vec v_n = \\vec b$$\n",
    "\n",
    "If the columns of the matrix $A$ are comprised of the vectors $\\vec v_1, \\vec v_2, \\dots ,\\vec v_n$, we would write\n",
    "\n",
    "$$A = [\\vec v_1, \\vec v_2, \\dots , \\vec v_3]$$\n",
    "\n",
    "and then the above vector equations are equivalent to the matrix equations\n",
    "\n",
    "$$A\\vec x = \\vec b$$\n",
    "\n",
    "We already know from Chapter 1 that the solution vector $\\vec x$ can be found by row-reducing the augmented matrix $[A | \\vec b]$.\n",
    "\n",
    "### Example 1\n",
    "\n",
    "Determine if the vector $\\vec b$ in the span of the vectors \n",
    "\n",
    "$$\\vec v_1 = \\left[\\begin{array}{r}5\\\\3\\\\-2\\\\\\end{array}\\right], \\vec v_2 = \\left[\\begin{array}{r}0\\\\2\\\\5\\\\\\end{array}\\right], \\vec v_3 = \\left[\\begin{array}{r}3\\\\4\\\\3\\\\\\end{array}\\right]$$\n",
    "\n",
    "where \n",
    "\n",
    "$$\\vec b = \\left[\\begin{array}{r}4\\\\0\\\\2\\\\\\end{array}\\right]$$"
   ]
  },
  {
   "cell_type": "code",
   "execution_count": 25,
   "metadata": {},
   "outputs": [
    {
     "name": "stdout",
     "output_type": "stream",
     "text": [
      "\n",
      "v1 =\n",
      "\n",
      "     5\n",
      "     3\n",
      "    -2\n",
      "\n",
      "\n",
      "v2 =\n",
      "\n",
      "     0\n",
      "     2\n",
      "     5\n",
      "\n",
      "\n",
      "v3 =\n",
      "\n",
      "     3\n",
      "     4\n",
      "     3\n",
      "\n",
      "\n",
      "b =\n",
      "\n",
      "     4\n",
      "     0\n",
      "     2\n",
      "\n",
      "\n"
     ]
    }
   ],
   "source": [
    "v1 = [5 ; 3 ; -2]\n",
    "v2 = [ 0; 2 ; 5 ]\n",
    "v3 = [3 ; 4 ; 3]\n",
    "b = [ 4 ; 0 ; 2]"
   ]
  },
  {
   "cell_type": "markdown",
   "metadata": {},
   "source": [
    "We create the matrix $A$ using the vectors as its columns."
   ]
  },
  {
   "cell_type": "code",
   "execution_count": 26,
   "metadata": {},
   "outputs": [
    {
     "name": "stdout",
     "output_type": "stream",
     "text": [
      "\n",
      "A =\n",
      "\n",
      "     5     0     3\n",
      "     3     2     4\n",
      "    -2     5     3\n",
      "\n",
      "\n"
     ]
    }
   ],
   "source": [
    "A = [v1, v2, v3]"
   ]
  },
  {
   "cell_type": "markdown",
   "metadata": {},
   "source": [
    "We want to augment $A$ with the vector $\\vec b$ and then row-reduce."
   ]
  },
  {
   "cell_type": "code",
   "execution_count": 27,
   "metadata": {},
   "outputs": [
    {
     "name": "stdout",
     "output_type": "stream",
     "text": [
      "\n",
      "ans =\n",
      "\n",
      "     5     0     3     4\n",
      "     3     2     4     0\n",
      "    -2     5     3     2\n",
      "\n",
      "\n"
     ]
    }
   ],
   "source": [
    "[A,b]"
   ]
  },
  {
   "cell_type": "code",
   "execution_count": 28,
   "metadata": {},
   "outputs": [
    {
     "name": "stdout",
     "output_type": "stream",
     "text": [
      "\n",
      "ans =\n",
      "\n",
      "    1.0000         0         0    5.2308\n",
      "         0    1.0000         0    6.9231\n",
      "         0         0    1.0000   -7.3846\n",
      "\n",
      "\n"
     ]
    }
   ],
   "source": [
    "rref([A,b])"
   ]
  },
  {
   "cell_type": "markdown",
   "metadata": {},
   "source": [
    "The components of the vector $\\vec x$ are the weights of the linear combination. Let's use the `rats` function to better understand what rational numbers we're talking about."
   ]
  },
  {
   "cell_type": "code",
   "execution_count": 29,
   "metadata": {},
   "outputs": [
    {
     "name": "stdout",
     "output_type": "stream",
     "text": [
      "\n",
      "ans =\n",
      "\n",
      "  3x56 char array\n",
      "\n",
      "    '       1             0             0           68/13    '\n",
      "    '       0             1             0           90/13    '\n",
      "    '       0             0             1          -96/13    '\n",
      "\n",
      "\n"
     ]
    }
   ],
   "source": [
    "rats(rref([A,b]))"
   ]
  },
  {
   "cell_type": "markdown",
   "metadata": {},
   "source": [
    "Mathematicians often write vectors like this as scalar multiples because they look much better.\n",
    "\n",
    "$$\\vec x = \\frac{1}{13}\\left[\\begin{array}{rrr}68 \\\\ 90 \\\\ -96\\\\\\end{array}\\right]\\hspace{1cm} \\text{instead of}\\hspace{1cm}\\vec x = \\left[\\begin{array}{rrr}\\frac{68}{13} \\\\ \\frac{90}{13} \\\\ \\frac{-96}{13}\\\\\\end{array}\\right]$$\n",
    "\n",
    "### Example 2\n",
    "\n",
    "Determine if the vector $\\vec b$ in the span of the vectors $\\vec v_1, \\vec v_2$ where\n",
    "\n",
    "$$\\vec v_1 = \\left[\\begin{array}{r}0\\\\4\\\\0\\\\4\\\\\\end{array}\\right], \\vec v_2 = \\left[\\begin{array}{r}-1\\\\5\\\\0\\\\-1\\\\\\end{array}\\right] \\hspace{1cm} \\text{and} \\hspace{1cm} \\vec b = \\left[\\begin{array}{r}5\\\\-17\\\\0\\\\3\\\\\\end{array}\\right]$$\n",
    "\n",
    "We create the vectors first, then row-reduce the augemented matrix."
   ]
  },
  {
   "cell_type": "code",
   "execution_count": 22,
   "metadata": {},
   "outputs": [
    {
     "name": "stdout",
     "output_type": "stream",
     "text": [
      "\n",
      "v1 =\n",
      "\n",
      "     0\n",
      "     4\n",
      "     0\n",
      "     4\n",
      "\n",
      "\n",
      "v2 =\n",
      "\n",
      "    -1\n",
      "     5\n",
      "     0\n",
      "    -1\n",
      "\n",
      "\n",
      "b =\n",
      "\n",
      "     5\n",
      "   -17\n",
      "     0\n",
      "     3\n",
      "\n",
      "\n"
     ]
    }
   ],
   "source": [
    "v1 = [0;4;0;4]\n",
    "v2 = [-1;5;0;-1]\n",
    "b = [5 ; -17 ; 0 ; 3]"
   ]
  },
  {
   "cell_type": "code",
   "execution_count": 23,
   "metadata": {},
   "outputs": [
    {
     "name": "stdout",
     "output_type": "stream",
     "text": [
      "\n",
      "M =\n",
      "\n",
      "     0    -1\n",
      "     4     5\n",
      "     0     0\n",
      "     4    -1\n",
      "\n",
      "\n"
     ]
    }
   ],
   "source": [
    "M = [v1,v2]"
   ]
  },
  {
   "cell_type": "code",
   "execution_count": 24,
   "metadata": {},
   "outputs": [
    {
     "name": "stdout",
     "output_type": "stream",
     "text": [
      "\n",
      "ans =\n",
      "\n",
      "     1     0     0\n",
      "     0     1     0\n",
      "     0     0     1\n",
      "     0     0     0\n",
      "\n",
      "\n"
     ]
    }
   ],
   "source": [
    "rref([M, b])"
   ]
  },
  {
   "cell_type": "markdown",
   "metadata": {},
   "source": [
    "We see the third row is impossible since $(0)x_1 + (0)x_2 \\neq 1$. Since the matrix equations are *inconsistent*, there is no linear cobination of the vectors $\\vec v_1,\\vec v_2$ that is equal to $\\vec b$ and, thus, \n",
    "\n",
    "$$\\vec b \\notin \\text{Span}\\{\\vec v_1, \\vec v_2\\}$$"
   ]
  }
 ],
 "metadata": {
  "kernelspec": {
   "display_name": "Matlab",
   "language": "matlab",
   "name": "matlab"
  },
  "language_info": {
   "codemirror_mode": "octave",
   "file_extension": ".m",
   "help_links": [
    {
     "text": "MetaKernel Magics",
     "url": "https://metakernel.readthedocs.io/en/latest/source/README.html"
    }
   ],
   "mimetype": "text/x-octave",
   "name": "matlab",
   "version": "0.16.11"
  }
 },
 "nbformat": 4,
 "nbformat_minor": 4
}
