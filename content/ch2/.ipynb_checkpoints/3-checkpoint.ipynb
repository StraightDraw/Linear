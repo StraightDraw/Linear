{
 "cells": [
  {
   "cell_type": "markdown",
   "metadata": {},
   "source": [
    "# 2.3 Matrix Equations"
   ]
  },
  {
   "cell_type": "markdown",
   "metadata": {},
   "source": [
    "The key to understanding matrix multiplication is the dot product of two vectors. The book calls this the **row-column recipe** for matrix-vector multiplication.\n",
    "\n",
    "$$\\vec x = \\left[\\begin{array}{r}-1\\\\1\\\\5\\\\\\end{array}\\right], \\vec y = \\left[\\begin{array}{r}1\\\\3\\\\-1\\\\\\end{array}\\right]$$"
   ]
  },
  {
   "cell_type": "markdown",
   "metadata": {},
   "source": [
    "The dot product is the sum of the component-wise products.\n",
    "\n",
    "$$ \\vec x \\cdot \\vec y = (-1)(1) + (1)(3) + (5)(-1) = -3 $$\n",
    "\n",
    "MATLAB has a dot product function called, not too surprisingly, `dot`."
   ]
  },
  {
   "cell_type": "code",
   "execution_count": 15,
   "metadata": {},
   "outputs": [
    {
     "name": "stdout",
     "output_type": "stream",
     "text": [
      "\n",
      "x =\n",
      "\n",
      "    -1\n",
      "     1\n",
      "     5\n",
      "\n",
      "\n",
      "y =\n",
      "\n",
      "     1\n",
      "     3\n",
      "    -1\n",
      "\n",
      "\n",
      "ans =\n",
      "\n",
      "    -3\n",
      "\n",
      "\n"
     ]
    }
   ],
   "source": [
    "x = [-1 ; 1 ; 5]\n",
    "y = [ 1 ; 3 ; -1]\n",
    "dot(x,y)"
   ]
  },
  {
   "cell_type": "markdown",
   "metadata": {},
   "source": [
    "When multiplying a matrix by a vector, as in $A\\vec x$, we take the dot product of each row with the vector.\n",
    "\n",
    "$$A = \\left[\\begin{array}{rrrr}3&-2&3&-2\\\\-2&-2&0&1\\\\0&4&5&1\\\\\\end{array}\\right], \\hspace{1cm} \\vec x = \\left[\\begin{array}{r}-2\\\\1\\\\5\\\\0 \\end{array}\\right]$$"
   ]
  },
  {
   "cell_type": "markdown",
   "metadata": {},
   "source": [
    "This means that the matrix must have the same number of columns as there are components (rows) of $\\vec x$. If $A \\vec x = \\vec b$, then the first component of $\\vec b$ is the dot product of the first row of $A$ with $\\vec x$.\n",
    "\n",
    "$$\\left[\\begin{array}{r}3\\\\-2\\\\3\\\\-2\\\\\\end{array}\\right] \\cdot \\left[\\begin{array}{r}-2\\\\1\\\\5\\\\0\\\\\\end{array}\\right] = -6 -2 + 15 + 0  = 7$$"
   ]
  },
  {
   "cell_type": "markdown",
   "metadata": {},
   "source": [
    "The second component is the product of the second row and $\\vec x$, and so on.\n",
    "\n",
    "$$\\left[\\begin{array}{r}-2\\\\-2\\\\0\\\\1\\end{array}\\right] \\cdot  \\left[\\begin{array}{r}-2\\\\1\\\\5\\\\0\\\\\\end{array}\\right] = -4 - 2 + 0 + 0 = -6$$\n",
    "\n",
    "$$\\left[\\begin{array}{r}0\\\\4\\\\5\\\\1\\\\\\end{array}\\right] \\cdot  \\left[\\begin{array}{r}-2\\\\1\\\\5\\\\0\\\\\\end{array}\\right] = 0 + 4 + 25 + 0 = 29$$"
   ]
  },
  {
   "cell_type": "markdown",
   "metadata": {},
   "source": [
    "We can have MATLAB do the multiplication to verify our work that shows\n",
    "\n",
    "$$A\\vec x = \\left[\\begin{array}{r}7\\\\2\\\\29\\\\\\end{array}\\right]$$\n",
    "\n",
    "If we create vectors $\\vec r_1,\\vec r_2,\\vec r_3$ from the rows of $A$, we can use the dot product function to check.\n",
    "\n",
    "````{margin}\n",
    "```{note}\n",
    "The $\\vec v$ is the same vector whether it is represented as a column vector \n",
    "\n",
    "$$\\vec v = \\left[\\begin{array}{r}1\\\\2\\\\3\\\\\\end{array}\\right]$$\n",
    "\n",
    "or as a row vector \n",
    "\n",
    "$\\vec v = \\left[\\begin{array}{rrr}1&2&3\\\\\\end{array}\\right]$.\n",
    "```\n",
    "````"
   ]
  },
  {
   "cell_type": "code",
   "execution_count": 2,
   "metadata": {},
   "outputs": [
    {
     "name": "stdout",
     "output_type": "stream",
     "text": [
      "\n",
      "r1 =\n",
      "\n",
      "     3    -2     3    -2\n",
      "\n",
      "\n",
      "r2 =\n",
      "\n",
      "    -2    -2     0     1\n",
      "\n",
      "\n",
      "r3 =\n",
      "\n",
      "     0     4     5     1\n",
      "\n",
      "\n",
      "x =\n",
      "\n",
      "    -2\n",
      "     1\n",
      "     5\n",
      "     0\n",
      "\n",
      "\n"
     ]
    }
   ],
   "source": [
    "A = [3 -2 3 -2 ; -2 -2 0 1 ; 0 4 5 1 ];\n",
    "r1 = A(1,:)\n",
    "r2 = A(2,:)\n",
    "r3 = A(3,:)\n",
    "x = [-2 ; 1 ; 5 ; 0]"
   ]
  },
  {
   "cell_type": "code",
   "execution_count": 17,
   "metadata": {},
   "outputs": [
    {
     "name": "stdout",
     "output_type": "stream",
     "text": [
      "\n",
      "b =\n",
      "\n",
      "     7\n",
      "     2\n",
      "    29\n",
      "\n",
      "\n"
     ]
    }
   ],
   "source": [
    "b = [ dot(r1,x) ; dot(r2,x) ; dot(r3,x) ]"
   ]
  },
  {
   "cell_type": "markdown",
   "metadata": {},
   "source": [
    "Of course, we can simply use MATLAB's multiplication function to verify $\\vec b$."
   ]
  },
  {
   "cell_type": "code",
   "execution_count": 18,
   "metadata": {},
   "outputs": [
    {
     "name": "stdout",
     "output_type": "stream",
     "text": [
      "\n",
      "b =\n",
      "\n",
      "     7\n",
      "     2\n",
      "    29\n",
      "\n",
      "\n"
     ]
    }
   ],
   "source": [
    "b = A * x"
   ]
  },
  {
   "cell_type": "markdown",
   "metadata": {},
   "source": [
    "This explains why, when we row reduce the augmented matrix $[A|\\vec b]$, we find the vector $\\vec x$."
   ]
  },
  {
   "cell_type": "code",
   "execution_count": 19,
   "metadata": {},
   "outputs": [
    {
     "name": "stdout",
     "output_type": "stream",
     "text": [
      "\n",
      "ans =\n",
      "\n",
      "    1.0000         0         0   -0.6486   -2.0000\n",
      "         0    1.0000         0    0.1486    1.0000\n",
      "         0         0    1.0000    0.0811    5.0000\n",
      "\n",
      "\n"
     ]
    }
   ],
   "source": [
    "rref([A,b])"
   ]
  }
 ],
 "metadata": {
  "kernelspec": {
   "display_name": "Matlab",
   "language": "matlab",
   "name": "matlab"
  },
  "language_info": {
   "codemirror_mode": "octave",
   "file_extension": ".m",
   "help_links": [
    {
     "text": "MetaKernel Magics",
     "url": "https://metakernel.readthedocs.io/en/latest/source/README.html"
    }
   ],
   "mimetype": "text/x-octave",
   "name": "matlab",
   "version": "0.16.11"
  }
 },
 "nbformat": 4,
 "nbformat_minor": 4
}
