{
 "cells": [
  {
   "cell_type": "markdown",
   "metadata": {},
   "source": [
    "# 2.5 Linear Independence"
   ]
  },
  {
   "cell_type": "markdown",
   "metadata": {},
   "source": [
    "Linearly Independent\n",
    ": A set of vectors $\\{v_1,v_2,...,v_k\\}$ is linearly independent if the vector equation $x_1\\vec v_1+x_2\\vec v_2+\\cdots+x_k\\vec v_k=\\vec 0$ has only the *trivial solution*.\n",
    "\n",
    "````{Note}\n",
    "The matrix equations $A\\vec x = \\vec 0$ always has the trivial solution $\\vec x = \\vec 0$. Whenever the zero vector is a solution, we refer to it as the **trivial solution** of the system.\n",
    "````\n",
    "\n",
    "Linearly Dependent\n",
    ": A set of vectors that is not linearly indepedent."
   ]
  },
  {
   "cell_type": "markdown",
   "metadata": {},
   "source": [
    "If the set of vectors $\\{v_1,v_2,...,v_k\\}$ is linearly dependent, then there exists a linear combination of the those vectors equal to the zero vector. This means there is a solution\n",
    "\n",
    "$$\\vec x = \\left[\\begin{array}{r}x_1\\\\x_2\\\\\\vdots\\\\x_k\\end{array}\\right]$$\n",
    "\n",
    "with at least one component not equal to zero such that to dot product equals zero:\n",
    "\n",
    "$x_1\\vec v_1+x_2\\vec v_2+\\cdots+x_k\\vec v_k=\\vec 0$"
   ]
  },
  {
   "cell_type": "markdown",
   "metadata": {},
   "source": [
    "## Examples: Linearly indepedent"
   ]
  },
  {
   "cell_type": "markdown",
   "metadata": {},
   "source": [
    "Determine if the set of vectors $\\{x_1, x_2, \\dots , x_3\\}$ and $\\{y_1, y_2, \\dots , y_3\\}$ are linearly independent.\n",
    "\n",
    "$$x_1 =\\left[\\begin{array}{r}-1\\\\-2\\\\-2\\\\\\end{array}\\right], x_2=\\left[\\begin{array}{r}-2\\\\1\\\\1\\\\\\end{array}\\right], x_3=\\left[\\begin{array}{r}0\\\\4\\\\3\\\\\\end{array}\\right] \\hspace{1cm} \n",
    "y_1 =\\left[\\begin{array}{r}1\\\\5\\\\5\\\\\\end{array}\\right], y_2=\\left[\\begin{array} {r}4\\\\2\\\\5\\\\\\end{array}\\right], y_3=\\left[\\begin{array}{r}1\\\\-1\\\\0\\\\\\end{array}\\right]$$\n",
    "\n",
    "Let's first create a matrix $X$ the columns of which are the vectors $\\{x_1, x_2, \\dots , x_3\\}$.\n",
    "\n",
    "$$X = \\left[\\begin{array}{rrr}-1&-2&0\\\\-2&1&4\\\\-2&1&3\\\\\\end{array}\\right]$$\n",
    "\n",
    "We need to know how many pivots there are because pivots correspond to the linearly independent vectors."
   ]
  },
  {
   "cell_type": "code",
   "execution_count": 4,
   "metadata": {},
   "outputs": [
    {
     "name": "stdout",
     "output_type": "stream",
     "text": [
      "\n",
      "ans =\n",
      "\n",
      "     1     0     0\n",
      "     0     1     0\n",
      "     0     0     1\n",
      "\n",
      "\n"
     ]
    }
   ],
   "source": [
    "X = [ -1    -2     0 ;\n",
    "      -2     1     4 ;\n",
    "      -2     1     3 ] ;\n",
    "      \n",
    "rref(X)"
   ]
  },
  {
   "cell_type": "markdown",
   "metadata": {},
   "source": [
    "Because all three columns are pivot columns, the vectors are linearly indpendent.\n",
    "\n",
    "We'll do the same for a matrix $Y$.\n",
    "\n",
    "$$Y = \\left[\\begin{array}{rrr}1&4&1\\\\5&2&-1\\\\5&5&0\\\\\\end{array}\\right]$$"
   ]
  },
  {
   "cell_type": "code",
   "execution_count": 6,
   "metadata": {},
   "outputs": [
    {
     "name": "stdout",
     "output_type": "stream",
     "text": [
      "\n",
      "ans =\n",
      "\n",
      "    1.0000         0   -0.3333\n",
      "         0    1.0000    0.3333\n",
      "         0         0         0\n",
      "\n",
      "\n"
     ]
    }
   ],
   "source": [
    "Y = [  1     4     1 ;\n",
    "       5     2    -1 ;\n",
    "       5     5     0 ] ;\n",
    "       \n",
    "rref(Y)"
   ]
  },
  {
   "cell_type": "markdown",
   "metadata": {},
   "source": [
    "This set of vectors is linearly dependent because there are only two pivots, not three. Therefor, there must be a non-trivial solution to the homogeneous system of equations."
   ]
  }
 ],
 "metadata": {
  "kernelspec": {
   "display_name": "Matlab",
   "language": "matlab",
   "name": "matlab"
  },
  "language_info": {
   "codemirror_mode": "octave",
   "file_extension": ".m",
   "help_links": [
    {
     "text": "MetaKernel Magics",
     "url": "https://metakernel.readthedocs.io/en/latest/source/README.html"
    }
   ],
   "mimetype": "text/x-octave",
   "name": "matlab",
   "version": "0.16.11"
  }
 },
 "nbformat": 4,
 "nbformat_minor": 4
}
