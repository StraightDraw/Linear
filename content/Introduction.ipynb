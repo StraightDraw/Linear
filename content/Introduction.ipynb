{
 "cells": [
  {
   "cell_type": "markdown",
   "metadata": {},
   "source": [
    "# Linear Algebra Using MATLAB"
   ]
  },
  {
   "cell_type": "markdown",
   "metadata": {},
   "source": [
    "## Course activities and labs for UNG's Linear Algebra (MATH 3650)\n",
    "Created by Robb Sinn for use with the excellent online [Linear Algebra textbook](https://textbooks.math.gatech.edu/ila/index.html) by Dan Margalit and Joseph Rabinoff."
   ]
  },
  {
   "cell_type": "markdown",
   "metadata": {},
   "source": [
    "### Get your copy of MATLAB"
   ]
  },
  {
   "cell_type": "markdown",
   "metadata": {},
   "source": [
    "UNG students can either use [MATLAB online](https://matlab.mathworks.com/) or can download the full MATLAB desktop version. The online version is generally good enough for small files and short sessions. The desktop version can be used offline. I have both.\n",
    "\n",
    "````{warning}\n",
    "The download files for the desktop version of MATLAB are huge. Be sure you are on a high bandwidth network before trying to download and install the desktop version.\n",
    "````\n",
    "\n",
    "You might wish to begin online, then get the desktop version later, if needed. The installation takes a good bit of time even after the download is complete. You may need 15 minutes or more of installation time, and the download can take close to an hour on home networks.\n"
   ]
  },
  {
   "cell_type": "markdown",
   "metadata": {},
   "source": [
    "### Create MATLAB account using UNG credentials"
   ]
  },
  {
   "cell_type": "markdown",
   "metadata": {},
   "source": [
    "Either way you access MATLAB, you will be asked to create an account. If you use your UNG email address to create the account, MATLAB will verify you are entitled to use the product based on UNG's site license."
   ]
  },
  {
   "cell_type": "markdown",
   "metadata": {},
   "source": [
    "### Downloading the desktop version"
   ]
  },
  {
   "cell_type": "markdown",
   "metadata": {},
   "source": [
    "If you are currently enrolled at the University of North Georgia and decide you wish to have the desktop version, go the UNG [Information Technology](https://ung.edu/information-technology/index.php) page   and click on **Software Depot**. You'll find it in the right-side menu bar and may need to scroll down a bit to see it.\n",
    "\n",
    "````{tip}\n",
    "Try this link first: [software.ung.edu](https://software.ung.edu)\n",
    "````\n",
    "\n",
    "You will find the MATLAB link in the top-left menu bar. When you click, you get a download option and a set of installation instructions.\n",
    "\n",
    "#### Optional packages\n",
    "\n",
    "When you install MATLAB, you will be asked about installing more than dozen different packages, some of which sound interesting as if they may be useful. I would suggest **not** downloading or installing them. The vanilla setup you'll be prompted to install is quite robust enough for this course, and the packages can always be installed later. While everyone has their own opinion, I suggest you go with the preset packages.\n",
    "\n",
    "#### Which version to install?\n",
    "\n",
    "I would install the latest stable version. There is good backward compatilability, and the online version is updated to the most recent stable version. I am still running a version on my laptop that is two years old because I'm too lazy to download and install the new version every six months. It works fine."
   ]
  }
 ],
 "metadata": {
  "kernelspec": {
   "display_name": "Python 3",
   "language": "python",
   "name": "python3"
  },
  "language_info": {
   "codemirror_mode": {
    "name": "ipython",
    "version": 3
   },
   "file_extension": ".py",
   "mimetype": "text/x-python",
   "name": "python",
   "nbconvert_exporter": "python",
   "pygments_lexer": "ipython3",
   "version": "3.8.5"
  }
 },
 "nbformat": 4,
 "nbformat_minor": 4
}
