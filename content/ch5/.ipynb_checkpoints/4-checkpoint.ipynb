{
 "cells": [
  {
   "cell_type": "markdown",
   "metadata": {},
   "source": [
    "# 5.4 Diagonalization"
   ]
  },
  {
   "cell_type": "markdown",
   "metadata": {},
   "source": [
    "The diagonalization of a matrix $A$, provided it exists, can be written as\n",
    "\n",
    "    $$A = PDP^{-1}$$\n",
    "\n",
    "where $D$ is a diagonal matrix of eigenvalues and $P$ has columns which are the  corresponding eigenvectors."
   ]
  },
  {
   "cell_type": "markdown",
   "metadata": {},
   "source": [
    "## Example\n",
    "\n",
    "Diagonalize the matrix $A$.\n",
    "\n",
    "$$A = \\left[\\begin{array}{rrr}-3&-7&-2\\\\0&-2&0\\\\1&7&0\\\\\\end{array}\\right] $$"
   ]
  },
  {
   "cell_type": "markdown",
   "metadata": {},
   "source": [
    "### Finding the eigenvalues and matrix $D$\n",
    "\n",
    "As we found in section 5.2, the *characteristic polynomial* is found by calculating the determinant of the matrix $A-\\lambda I$."
   ]
  },
  {
   "cell_type": "code",
   "execution_count": 2,
   "metadata": {},
   "outputs": [
    {
     "name": "stdout",
     "output_type": "stream",
     "text": [
      " \n",
      "y =\n",
      " \n",
      "x^3 + 5*x^2 + 8*x + 4\n",
      " \n",
      "\n"
     ]
    }
   ],
   "source": [
    "A = [-3 -7 -2 ; 0 -2 0 ; 1 7 0 ];\n",
    "syms x\n",
    "y = charpoly(A,x)"
   ]
  },
  {
   "cell_type": "markdown",
   "metadata": {},
   "source": [
    "#### Testing factors for zero remainder using `polynomialReduce` function\n",
    "\n",
    "MATLAB's `polynomialReduce` function divides one polynomial by another of lesser degree returning the remainder. This allows us to test likely factors quickly. Here, the candidate factors are $x \\pm 1, x \\pm 2, x \\pm 4$. Let's try $x=\\pm 1$ fist.\n",
    "\n",
    "````{tip}\n",
    "We can ask the `polynomialReduce` function to return both quotient and remainder.\n",
    "````"
   ]
  },
  {
   "cell_type": "code",
   "execution_count": 6,
   "metadata": {},
   "outputs": [
    {
     "name": "stdout",
     "output_type": "stream",
     "text": [
      " \n",
      "r =\n",
      " \n",
      "18\n",
      " \n",
      " \n",
      "q =\n",
      " \n",
      "x^2 + 6*x + 14\n",
      " \n",
      "\n"
     ]
    }
   ],
   "source": [
    "[r,q] = polynomialReduce(y,x-1)"
   ]
  },
  {
   "cell_type": "markdown",
   "metadata": {},
   "source": [
    "The remainder is not zero which means $x-1$ is not a factor of $y$."
   ]
  },
  {
   "cell_type": "code",
   "execution_count": 42,
   "metadata": {},
   "outputs": [
    {
     "name": "stdout",
     "output_type": "stream",
     "text": [
      " \n",
      "r =\n",
      " \n",
      "0\n",
      " \n",
      " \n",
      "q =\n",
      " \n",
      "x^2 + 4*x + 4\n",
      " \n",
      "\n"
     ]
    }
   ],
   "source": [
    "[r,q] = polynomialReduce(y,x+1)"
   ]
  },
  {
   "cell_type": "markdown",
   "metadata": {},
   "source": [
    "With $x+1$ confirmed as a factor, we can see the factors have to be:\n",
    "\n",
    "$$z = (x+1)(x+2)^2$$"
   ]
  },
  {
   "cell_type": "code",
   "execution_count": 43,
   "metadata": {},
   "outputs": [
    {
     "name": "stdout",
     "output_type": "stream",
     "text": [
      " \n",
      "z =\n",
      " \n",
      "(x + 1)*(x + 2)^2\n",
      " \n",
      "\n"
     ]
    }
   ],
   "source": [
    "z = (x+1)*(x+2)^2"
   ]
  },
  {
   "cell_type": "markdown",
   "metadata": {},
   "source": [
    "We would like to test our factorization by expanding."
   ]
  },
  {
   "cell_type": "code",
   "execution_count": 46,
   "metadata": {},
   "outputs": [
    {
     "name": "stdout",
     "output_type": "stream",
     "text": [
      " \n",
      "ans =\n",
      " \n",
      "x^3 + 5*x^2 + 8*x + 4\n",
      " \n",
      "\n"
     ]
    }
   ],
   "source": [
    "expand(z)"
   ]
  },
  {
   "cell_type": "markdown",
   "metadata": {},
   "source": [
    "#### Matrix $D$\n",
    "\n",
    "The diagonal matrix we seek must include all the eigenvalues listed as many times as indicated by their multiplicity.\n",
    "\n",
    "$$D = \\left[\\begin{array}{rrr}-1&0&0\\\\0&-2&0\\\\0&0&-2\\end{array}\\right]$$"
   ]
  },
  {
   "cell_type": "code",
   "execution_count": 48,
   "metadata": {},
   "outputs": [
    {
     "name": "stdout",
     "output_type": "stream",
     "text": [
      "\n",
      "D =\n",
      "\n",
      "    -1     0     0\n",
      "     0    -2     0\n",
      "     0     0    -2\n",
      "\n",
      "\n"
     ]
    }
   ],
   "source": [
    "D = [-1 0 0 ; 0 -2 0 ; 0 0 -2 ]"
   ]
  },
  {
   "cell_type": "markdown",
   "metadata": {},
   "source": [
    "### Finding the eigenvectors and the matrix $P$"
   ]
  },
  {
   "cell_type": "code",
   "execution_count": 50,
   "metadata": {},
   "outputs": [
    {
     "name": "stdout",
     "output_type": "stream",
     "text": [
      "\n",
      "ans =\n",
      "\n",
      "     1     0     1     0\n",
      "     0     1     0     0\n",
      "     0     0     0     0\n",
      "\n",
      "\n"
     ]
    }
   ],
   "source": [
    "rref([A + 1 * eye(3), zeros(3,1)])"
   ]
  },
  {
   "cell_type": "code",
   "execution_count": 51,
   "metadata": {},
   "outputs": [
    {
     "name": "stdout",
     "output_type": "stream",
     "text": [
      "\n",
      "v1 =\n",
      "\n",
      "    -1\n",
      "     0\n",
      "     1\n",
      "\n",
      "\n"
     ]
    }
   ],
   "source": [
    "v1 = [ -1 ; 0 ; 1]"
   ]
  },
  {
   "cell_type": "code",
   "execution_count": 52,
   "metadata": {},
   "outputs": [
    {
     "name": "stdout",
     "output_type": "stream",
     "text": [
      "\n",
      "ans =\n",
      "\n",
      "     1     7     2     0\n",
      "     0     0     0     0\n",
      "     0     0     0     0\n",
      "\n",
      "\n"
     ]
    }
   ],
   "source": [
    "rref([A + 2 * eye(3), zeros(3,1)])"
   ]
  },
  {
   "cell_type": "code",
   "execution_count": 53,
   "metadata": {},
   "outputs": [
    {
     "name": "stdout",
     "output_type": "stream",
     "text": [
      "\n"
     ]
    }
   ],
   "source": [
    "v21 = [ -2 ; 0 ; 1];\n",
    "v22 = [-7 ; 1 ; 0];"
   ]
  },
  {
   "cell_type": "markdown",
   "metadata": {},
   "source": [
    "To test the vectors, we muliply."
   ]
  },
  {
   "cell_type": "code",
   "execution_count": 30,
   "metadata": {},
   "outputs": [
    {
     "name": "stdout",
     "output_type": "stream",
     "text": [
      "\n",
      "ans =\n",
      "\n",
      "     1\n",
      "     0\n",
      "    -1\n",
      "\n",
      "\n"
     ]
    }
   ],
   "source": [
    "A * v1"
   ]
  },
  {
   "cell_type": "code",
   "execution_count": 31,
   "metadata": {},
   "outputs": [
    {
     "name": "stdout",
     "output_type": "stream",
     "text": [
      "\n",
      "ans =\n",
      "\n",
      "     4\n",
      "     0\n",
      "    -2\n",
      "\n",
      "\n"
     ]
    }
   ],
   "source": [
    "A * v21"
   ]
  },
  {
   "cell_type": "code",
   "execution_count": 32,
   "metadata": {},
   "outputs": [
    {
     "name": "stdout",
     "output_type": "stream",
     "text": [
      "\n",
      "ans =\n",
      "\n",
      "    14\n",
      "    -2\n",
      "     0\n",
      "\n",
      "\n"
     ]
    }
   ],
   "source": [
    "A * v22"
   ]
  },
  {
   "cell_type": "markdown",
   "metadata": {},
   "source": [
    "This means we have found and confirmed the eigenvectors for $A$, and we can construct the matrix $P$. We only need to ensure that they are in the same order as their associated eigenvalues are in $D$.\n",
    "\n",
    "$$$$"
   ]
  },
  {
   "cell_type": "code",
   "execution_count": 33,
   "metadata": {},
   "outputs": [
    {
     "name": "stdout",
     "output_type": "stream",
     "text": [
      "\n",
      "P =\n",
      "\n",
      "    -1    -2    -7\n",
      "     0     0     1\n",
      "     1     1     0\n",
      "\n",
      "\n"
     ]
    }
   ],
   "source": [
    "P = [v1, v21, v22]"
   ]
  },
  {
   "cell_type": "code",
   "execution_count": 37,
   "metadata": {},
   "outputs": [
    {
     "name": "stdout",
     "output_type": "stream",
     "text": [
      "\n",
      "ans =\n",
      "\n",
      "    -3    -7    -2\n",
      "     0    -2     0\n",
      "     1     7     0\n",
      "\n",
      "\n"
     ]
    }
   ],
   "source": [
    "P * D * inv(P)"
   ]
  },
  {
   "cell_type": "code",
   "execution_count": 38,
   "metadata": {},
   "outputs": [
    {
     "name": "stdout",
     "output_type": "stream",
     "text": [
      "\n",
      "A =\n",
      "\n",
      "    -3    -7    -2\n",
      "     0    -2     0\n",
      "     1     7     0\n",
      "\n",
      "\n"
     ]
    }
   ],
   "source": [
    "A"
   ]
  },
  {
   "cell_type": "markdown",
   "metadata": {},
   "source": [
    "We can also test with a conditional statement."
   ]
  },
  {
   "cell_type": "code",
   "execution_count": 41,
   "metadata": {},
   "outputs": [
    {
     "name": "stdout",
     "output_type": "stream",
     "text": [
      "\n",
      "ans =\n",
      "\n",
      "  3x3 logical array\n",
      "\n",
      "   1   1   1\n",
      "   1   1   1\n",
      "   1   1   1\n",
      "\n",
      "\n"
     ]
    }
   ],
   "source": [
    "A == P * D * inv(P)"
   ]
  },
  {
   "cell_type": "markdown",
   "metadata": {},
   "source": [
    "Thus, $A$ is diagonalizable using the invertible matrix\n",
    "\n",
    "$$P = \\left[\\begin{array}{rrr}-1&-2&-7\\\\0&0&1\\\\1&1&0\\\\\\end{array}\\right]$$\n",
    "\n",
    "and the diagonal matrix\n",
    "\n",
    "$$D = \\left[\\begin{array}{rrr}-1&0&0\\\\0&-2&0\\\\0&0&-2\\end{array}\\right]$$"
   ]
  },
  {
   "cell_type": "markdown",
   "metadata": {},
   "source": [
    "## Exercises\n",
    "\n",
    "Determine if the following matrices are diagonlizable. If so, determine an invertible matrix $C$ and diagonal matrix $D$ such that\n",
    "\n",
    "$$M = CDC^{-1}$$"
   ]
  },
  {
   "cell_type": "markdown",
   "metadata": {},
   "source": [
    "````{panels}\n",
    "HW Question 1\n",
    "^^^\n",
    "$$A = \\left[\\begin{array}{rrr}-4&3.5&-3\\\\-6&6&-6\\\\1&-0.5&0\\\\\\end{array}\\right]$$\n",
    "\n",
    "```{dropdown} Solution\n",
    "$$C = \\left[\\begin{array}{rrr}1&-2&-1\\\\2&0&-2\\\\1&2&0\\end{array}\\right]$$\n",
    "$$D = \\left[\\begin{array}{rrr}0&0&0\\\\0&-1&0\\\\0&0&3\\end{array}\\right]$$\n",
    "Answers vary.\n",
    "```\n",
    "\n",
    "---\n",
    "HW Question 2\n",
    "^^^\n",
    "$$B = \\left[\\begin{array}{rrr}3&0&4\\\\2&-7&20\\\\1&-3&9\\end{array}\\right]$$\n",
    "\n",
    "```{dropdown} Solution\n",
    "$$C = \\left[\\begin{array}{rrr}-2&-2&-1\\\\2&-2&3\\\\1&-1&1\\end{array}\\right]$$\n",
    "$$D = \\left[\\begin{array}{rrr}1&0&0\\\\0&5&0\\\\0&0&-1\\\\\\end{array}\\right]$$\n",
    "Answers vary.\n",
    "```"
   ]
  }
 ],
 "metadata": {
  "kernelspec": {
   "display_name": "Matlab",
   "language": "matlab",
   "name": "matlab"
  },
  "language_info": {
   "codemirror_mode": "octave",
   "file_extension": ".m",
   "help_links": [
    {
     "text": "MetaKernel Magics",
     "url": "https://metakernel.readthedocs.io/en/latest/source/README.html"
    }
   ],
   "mimetype": "text/x-octave",
   "name": "matlab",
   "version": "0.16.11"
  }
 },
 "nbformat": 4,
 "nbformat_minor": 4
}
