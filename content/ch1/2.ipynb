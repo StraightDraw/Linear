{
 "cells": [
  {
   "cell_type": "markdown",
   "metadata": {},
   "source": [
    "# 1.2 Row Operations"
   ]
  },
  {
   "cell_type": "markdown",
   "metadata": {},
   "source": [
    "We need to learn how to row-reduce matrices. Row-reducing is a skill will use in almost every process and application problem in the first three-quarters of this course. Let's begin with the matrix equation: $A\\vec x=\\vec v$ where: \n",
    "\n",
    "$$A=\\left[\\begin{array}{rrr}0&0&-2\\\\2&0&-10\\\\1&1&-3\\\\\\end{array}\\right] \\hspace{1cm}\\text{and} \\hspace{1cm}\\vec v = \\left[\\begin{array}{r}-4\\\\2\\\\3\\\\\\end{array}\\right]$$"
   ]
  },
  {
   "cell_type": "markdown",
   "metadata": {},
   "source": [
    "We need to first create MATLAB versions of the example matrix and the vector."
   ]
  },
  {
   "cell_type": "code",
   "execution_count": 211,
   "metadata": {},
   "outputs": [
    {
     "name": "stdout",
     "output_type": "stream",
     "text": [
      "\n",
      "A =\n",
      "\n",
      "     0     0    -2\n",
      "     2     0   -10\n",
      "     1     1    -3\n",
      "\n",
      "\n",
      "v =\n",
      "\n",
      "    -4\n",
      "     2\n",
      "     3\n",
      "\n",
      "\n"
     ]
    }
   ],
   "source": [
    "A=[0 0 -2 ; 2 0 -10 ; 1 1 -3]\n",
    "v=[-4 ; 2 ; 3]"
   ]
  },
  {
   "cell_type": "markdown",
   "metadata": {},
   "source": [
    "Matlab treats $\\vec v$ as a $3\\times 1$ matrix, and all built-in Matlab matrix operations work for vectors just as they do for marices."
   ]
  },
  {
   "cell_type": "markdown",
   "metadata": {},
   "source": [
    "## Augmented Matrices\n",
    "\n",
    "The solution vector $\\vec x$ can be found by row-reducing the corresponding augmented matrix:\n",
    "\n",
    "$$[A|\\vec v]=\\left[\\begin{array}{rrr|r}0&0&-2&2\\\\2&0&-10&-4\\\\1&1&-3&3\\\\\\end{array}\\right]$$\n",
    "\n",
    "````{margin}\n",
    "```{note}\n",
    "Joining two objects is often called *concatenation* in programming languages.\n",
    "```\n",
    "````\n",
    "We create the augmented matrix in Matlab using the code block below. The brackets say \"join these two matrices into one\" which MATLAB will do if its possible."
   ]
  },
  {
   "cell_type": "code",
   "execution_count": 212,
   "metadata": {},
   "outputs": [
    {
     "name": "stdout",
     "output_type": "stream",
     "text": [
      "\n",
      "B =\n",
      "\n",
      "     0     0    -2    -4\n",
      "     2     0   -10     2\n",
      "     1     1    -3     3\n",
      "\n",
      "\n"
     ]
    }
   ],
   "source": [
    "B=[A,v]"
   ]
  },
  {
   "cell_type": "markdown",
   "metadata": {},
   "source": [
    "Now the column vector $\\vec v$  is the fourth column of the matrix. To refer to individual elements of matrix , we can specify its row and column:"
   ]
  },
  {
   "cell_type": "markdown",
   "metadata": {},
   "source": [
    "To refer to an entire row (or column), we use a colon which is Matlab's indexing operator:"
   ]
  },
  {
   "cell_type": "code",
   "execution_count": 213,
   "metadata": {},
   "outputs": [
    {
     "name": "stdout",
     "output_type": "stream",
     "text": [
      "\n",
      "ans =\n",
      "\n",
      "     2     0   -10     2\n",
      "\n",
      "\n"
     ]
    }
   ],
   "source": [
    "B(2,:)"
   ]
  },
  {
   "cell_type": "markdown",
   "metadata": {},
   "source": [
    "With the colon is in the column position, all elements in Row 2 are displayed as Matlab indexes through columns 1 through 4. We will use this indexing feature to create row operations."
   ]
  },
  {
   "cell_type": "markdown",
   "metadata": {},
   "source": [
    "## Row Operations\n",
    "\n",
    "We can use just the following three elementary row operations to solve any linear system:\n",
    "1. Swapping two rows\n",
    "2. Multiplying a row by a non-zero scalar\n",
    "3. Replacing any row with the sum of that row and a scalar multiple of another row"
   ]
  },
  {
   "cell_type": "markdown",
   "metadata": {},
   "source": [
    "### Strategic Goal: Row Echelon Form\n",
    "\n",
    "````{margin}\n",
    "![REF Ex 1](https://images.deepai.org/glossary-terms/row-echelon-form-3253747.jpg)\n",
    "![REF Ex 2](https://images.deepai.org/glossary-terms/row-echelon-form-5349083.jpg)\n",
    "![REF Ex 3](https://images.deepai.org/glossary-terms/row-echelon-form-379522.jpg)\n",
    "![REF Ex 4](https://images.deepai.org/glossary-terms/row-echelon-form-1220669.jpg)\n",
    "\n",
    "Examples of matrices in row-reduced form, abbreviated **ref**.\n",
    "````\n",
    "\n",
    "We have two ways to solve a linear system, a partial row-reduction method with back-substitution, and a full row-reduction method that leaves the solution on the right-hand side of the augmentation bar. The first step is to row-redcue to **ref** form\n",
    "\n",
    "\n",
    "\n",
    "#### Row Operation 1: Swapping Rows\n",
    "In the augmented matrix B, we see that Row 2 has a pivot in the third position. Thus, we can make progress by swapping Row 1 and Row 2."
   ]
  },
  {
   "cell_type": "code",
   "execution_count": 214,
   "metadata": {},
   "outputs": [
    {
     "name": "stdout",
     "output_type": "stream",
     "text": [
      "\n",
      "B =\n",
      "\n",
      "     2     0   -10     2\n",
      "     0     0    -2    -4\n",
      "     1     1    -3     3\n",
      "\n",
      "\n"
     ]
    }
   ],
   "source": [
    "B([2 1],:)=B([1 2],:)"
   ]
  },
  {
   "cell_type": "markdown",
   "metadata": {},
   "source": [
    "````{Tip}\n",
    "We can swap multiple rows at once.\n",
    "````\n",
    "We would actually prefer the row starting with \"1\" to be our pivot, and we want the row that starts with zeros at the bottom. Let's do all that at once with a multi-row-swap."
   ]
  },
  {
   "cell_type": "code",
   "execution_count": 215,
   "metadata": {},
   "outputs": [
    {
     "name": "stdout",
     "output_type": "stream",
     "text": [
      "\n",
      "B =\n",
      "\n",
      "     1     1    -3     3\n",
      "     2     0   -10     2\n",
      "     0     0    -2    -4\n",
      "\n",
      "\n"
     ]
    }
   ],
   "source": [
    "B([1 2 3],:)=B([3 1 2],:)"
   ]
  },
  {
   "cell_type": "markdown",
   "metadata": {},
   "source": [
    "To understand the mapping, remember that the \"old\" matrix, the one we started with, is on the right side of the equal sign. The new matrix we are creating is on the left. Row 2 is sent to Row 1, Row 3 to Row 2 and Row 1 to Row 3."
   ]
  },
  {
   "cell_type": "code",
   "execution_count": 216,
   "metadata": {},
   "outputs": [
    {
     "name": "stdout",
     "output_type": "stream",
     "text": [
      "\n",
      "b =\n",
      "\n",
      "     1     1    -3     3\n",
      "     2     0   -10     2\n",
      "     0     0    -2    -4\n",
      "\n",
      "\n"
     ]
    }
   ],
   "source": [
    "b = B"
   ]
  },
  {
   "cell_type": "markdown",
   "metadata": {},
   "source": [
    "````{hint}\n",
    "Save your matrix into a new matrix before operating on it. This creates a saved checkpoint of your matrix. If you mess up later, you can return to this point rather than going all the way back to the beginning.\n",
    "````\n",
    "\n",
    "As you can in the above example, the lists in the brackets control how the rows will be swapped. Experiment with different values, and see what happens."
   ]
  },
  {
   "cell_type": "markdown",
   "metadata": {},
   "source": [
    "#### Row Operation 2: Multiplying a Row by a Non-zero Scalar\n",
    "Let's return to matrix B. Multiplying through the first row by $-\\frac{1}{2}$ will turn the first pivot into a one:"
   ]
  },
  {
   "cell_type": "code",
   "execution_count": 217,
   "metadata": {},
   "outputs": [
    {
     "name": "stdout",
     "output_type": "stream",
     "text": [
      "\n",
      "b =\n",
      "\n",
      "     1     1    -3     3\n",
      "    -1     0     5    -1\n",
      "     0     0    -2    -4\n",
      "\n",
      "\n"
     ]
    }
   ],
   "source": [
    "b(2,:) = b(2,:) / (-2)"
   ]
  },
  {
   "cell_type": "markdown",
   "metadata": {},
   "source": [
    "````{admonition} Pro Tip\n",
    ":class: tip\n",
    "Use lower case letters for matrices while performing row operations. They are a whole lot easier to type. Now $B$ will be our clean copy of the original augmented matrix, and we can keep working with $b$.\n",
    "````\n",
    "\n",
    "Let's do the same with Row 3: multiply through by $-\\frac{1}{2}$. While neither of these row operations are needed, when working by we often multiply through a row by a non-zero real to make life easier. "
   ]
  },
  {
   "cell_type": "code",
   "execution_count": 218,
   "metadata": {},
   "outputs": [
    {
     "name": "stdout",
     "output_type": "stream",
     "text": [
      "\n",
      "b =\n",
      "\n",
      "     1     1    -3     3\n",
      "    -1     0     5    -1\n",
      "     0     0     1     2\n",
      "\n",
      "\n"
     ]
    }
   ],
   "source": [
    "b(3,:) = b(3,:) / (-2)"
   ]
  },
  {
   "cell_type": "markdown",
   "metadata": {},
   "source": [
    "#### Row Operation 3: Replacing a Row with the Sum of that Row and a Scalar Multiple of Another Row\n",
    "\n",
    "````{admonition} Pro Tip\n",
    ":class: tip\n",
    "This is the workhorse row op -- learn it well, grasshopper.\n",
    "````\n",
    "\n",
    "We would now like to replace Row subtract Row 2 minus Row 1:\n",
    "\n",
    "so that entry , and thus we will have all zeros below the first pivot:"
   ]
  },
  {
   "cell_type": "code",
   "execution_count": 219,
   "metadata": {},
   "outputs": [
    {
     "name": "stdout",
     "output_type": "stream",
     "text": [
      "\n",
      "b =\n",
      "\n",
      "     1     1    -3     3\n",
      "     0     1     2     2\n",
      "     0     0     1     2\n",
      "\n",
      "\n"
     ]
    }
   ],
   "source": [
    "b(2,:)=b(2,:)+b(1,:)"
   ]
  },
  {
   "cell_type": "markdown",
   "metadata": {},
   "source": [
    "### REF Completed\n",
    "\n",
    "If we wish to solve the linear system, often the fastest way is using back substitution, with \"back\" indicating we start from the bottom-right and work our way back up to the top-left. Think about the matrix $b$ means in terms of algebraic equations.\n",
    "\n",
    "$$b = \\left[\\begin{array}{rrrr}1&1&-3&3\\\\0&1&2&2\\\\0&0&1&2\\\\\\end{array}\\right]$$\n",
    "\n",
    "The bottom row means\n",
    "\n",
    "$$z = 2$$\n",
    "\n",
    "which implies the row above it simplifies to\n",
    "\n",
    "$$y + 2(2) = 2$$\n",
    "\n",
    "so $y = -2$. With these two values, we can solve for $x$:\n",
    "\n",
    "$$ \\begin{align*}\n",
    "x + 1(-2) -3(2) &= 3 \\\\\n",
    "x -2 -6 &= 3 \\\\\n",
    "x &= 11\n",
    "\\end{align*}$$"
   ]
  },
  {
   "cell_type": "markdown",
   "metadata": {},
   "source": [
    "We now know that\n",
    "\n",
    "$$\\vec x = \\left[\\begin{array}{r}11\\\\-2\\\\2\\\\\\end{array}\\right]$$"
   ]
  },
  {
   "cell_type": "markdown",
   "metadata": {},
   "source": [
    "is the solution vector.\n",
    "\n",
    "### Goal 2: Row-Reduce to RREF\n",
    "\n",
    "First, let's create a saved checkpoint, since all of our steps up to this point are correct."
   ]
  },
  {
   "cell_type": "code",
   "execution_count": 221,
   "metadata": {},
   "outputs": [
    {
     "name": "stdout",
     "output_type": "stream",
     "text": [
      "\n",
      "c =\n",
      "\n",
      "     1     1    -3     3\n",
      "     0     1     2     2\n",
      "     0     0     1     2\n",
      "\n",
      "\n"
     ]
    }
   ],
   "source": [
    "c=b"
   ]
  },
  {
   "cell_type": "markdown",
   "metadata": {},
   "source": [
    "To make our way to RREF, we need get zeros above the \"1\" in the third row."
   ]
  },
  {
   "cell_type": "code",
   "execution_count": 222,
   "metadata": {},
   "outputs": [
    {
     "name": "stdout",
     "output_type": "stream",
     "text": [
      "\n",
      "c =\n",
      "\n",
      "     1     1    -3     3\n",
      "     0     1     0    -2\n",
      "     0     0     1     2\n",
      "\n",
      "\n"
     ]
    }
   ],
   "source": [
    "c(2,:)=c(2,:) - 2 * c(3,:)"
   ]
  },
  {
   "cell_type": "markdown",
   "metadata": {},
   "source": [
    "And to get the zero in Row 1:"
   ]
  },
  {
   "cell_type": "code",
   "execution_count": 223,
   "metadata": {},
   "outputs": [
    {
     "name": "stdout",
     "output_type": "stream",
     "text": [
      "\n",
      "c =\n",
      "\n",
      "     1     1     0     9\n",
      "     0     1     0    -2\n",
      "     0     0     1     2\n",
      "\n",
      "\n"
     ]
    }
   ],
   "source": [
    "c(1,:)= c(1,:) + 3 * c(3,:)"
   ]
  },
  {
   "cell_type": "markdown",
   "metadata": {},
   "source": [
    "We want the element $a_{12}=0$, so "
   ]
  },
  {
   "cell_type": "code",
   "execution_count": 224,
   "metadata": {},
   "outputs": [
    {
     "name": "stdout",
     "output_type": "stream",
     "text": [
      "\n",
      "c =\n",
      "\n",
      "     1     0     0    11\n",
      "     0     1     0    -2\n",
      "     0     0     1     2\n",
      "\n",
      "\n"
     ]
    }
   ],
   "source": [
    "c(1,:)= c(1,:) - c(2,:)"
   ]
  },
  {
   "cell_type": "markdown",
   "metadata": {},
   "source": [
    "Since the matrix is now in RREF, the solution is just the vector on the right side of the agumentation bar. To check our solution (beyond comparing it to back-substitution), we need a Matlab version of :"
   ]
  },
  {
   "cell_type": "code",
   "execution_count": 227,
   "metadata": {},
   "outputs": [
    {
     "name": "stdout",
     "output_type": "stream",
     "text": [
      "\n",
      "x =\n",
      "\n",
      "    11\n",
      "    -2\n",
      "     2\n",
      "\n",
      "\n"
     ]
    }
   ],
   "source": [
    "x=c(:,4)"
   ]
  },
  {
   "cell_type": "markdown",
   "metadata": {},
   "source": [
    "We can verify that  as required:"
   ]
  },
  {
   "cell_type": "code",
   "execution_count": 228,
   "metadata": {},
   "outputs": [
    {
     "name": "stdout",
     "output_type": "stream",
     "text": [
      "\n",
      "ans =\n",
      "\n",
      "    -4\n",
      "     2\n",
      "     3\n",
      "\n",
      "\n",
      "v =\n",
      "\n",
      "    -4\n",
      "     2\n",
      "     3\n",
      "\n",
      "\n"
     ]
    }
   ],
   "source": [
    "A*x\n",
    "v"
   ]
  },
  {
   "cell_type": "markdown",
   "metadata": {},
   "source": [
    "We can also use a logical operator to check:"
   ]
  },
  {
   "cell_type": "code",
   "execution_count": 229,
   "metadata": {},
   "outputs": [
    {
     "name": "stdout",
     "output_type": "stream",
     "text": [
      "\n",
      "ans =\n",
      "\n",
      "  3x1 logical array\n",
      "\n",
      "   1\n",
      "   1\n",
      "   1\n",
      "\n",
      "\n"
     ]
    }
   ],
   "source": [
    "A*x == v"
   ]
  },
  {
   "cell_type": "markdown",
   "metadata": {},
   "source": [
    "If the two expressions were not equal, we would get an array of zero's instead. We can also check whether our has produced the correct RREF by the using function RREF."
   ]
  },
  {
   "cell_type": "code",
   "execution_count": 115,
   "metadata": {},
   "outputs": [
    {
     "name": "stdout",
     "output_type": "stream",
     "text": [
      "\n",
      "ans =\n",
      "\n",
      "     1     0     0    11\n",
      "     0     1     0    -2\n",
      "     0     0     1     2\n",
      "\n",
      "\n"
     ]
    }
   ],
   "source": [
    "rref([A,v])"
   ]
  },
  {
   "cell_type": "markdown",
   "metadata": {},
   "source": [
    "````{warning}\n",
    "MATLAB does not have an REF function.\n",
    "````\n",
    "\n",
    "Hence, we have verified that we have the correct solution."
   ]
  },
  {
   "cell_type": "markdown",
   "metadata": {},
   "source": [
    "## Examples\n",
    "In the examples below, you can copy the code blocks into MATLAB. When you execute them, all the steps will be shown down to **ref**."
   ]
  },
  {
   "cell_type": "markdown",
   "metadata": {},
   "source": [
    "### By-hand Examples\n",
    "\n",
    "You should definitely learn to do row-reduction by hand. The first set of examples are great. They either have very few steps, or very easy calculations in every step, or both.\n",
    "\n",
    "\n",
    "````{dropdown} Example 1\n",
    "\n",
    "$$A = \\left[\\begin{array}{rrrr}0&0&0&1\\\\0&6&7&4\\\\1&4&-2&-2\\\\0&3&1&1\\\\\\end{array}\\right]$$\n",
    "\n",
    "```\n",
    "A = [ 0     0     0     1 ;\n",
    "      0     6     7     4;\n",
    "      1     4    -2    -2 ;\n",
    "      0     3     1     1  ]\n",
    "b=A;\n",
    "b([1 2 3 4],:) = b([3 4 2 1],:)\n",
    "b(3,:) = b(3,:) - 2 * b(2,:)\n",
    "```\n",
    "\n",
    "````\n",
    "\n",
    "````{dropdown} Example 2\n",
    "\n",
    "$$B = \\left[\\begin{array}{rr}1&0\\\\-2&1\\\\2&-1\\\\-2&1\\\\\\end{array}\\right]$$\n",
    "\n",
    "```\n",
    "B = [ 1 0 ; -2 1 ; 2 -1 ; -2 1 ]\n",
    "c = B;\n",
    "c(2,:) = c(2,:) + 2 * c(1,:)\n",
    "c(3,:) = c(3,:) - 2 * c(1,:)\n",
    "c(4,:) = c(4,:) + 2 * c(1,:)\n",
    "c(3,:) = c(3,:) + c(2,:)\n",
    "c(4,:) = c(4,:) + c(2,:)\n",
    "```\n",
    "````\n",
    "\n",
    "\n",
    "\n"
   ]
  }
 ],
 "metadata": {
  "kernelspec": {
   "display_name": "Matlab",
   "language": "matlab",
   "name": "matlab"
  },
  "language_info": {
   "codemirror_mode": "octave",
   "file_extension": ".m",
   "help_links": [
    {
     "text": "MetaKernel Magics",
     "url": "https://metakernel.readthedocs.io/en/latest/source/README.html"
    }
   ],
   "mimetype": "text/x-octave",
   "name": "matlab",
   "version": "0.16.11"
  }
 },
 "nbformat": 4,
 "nbformat_minor": 4
}
