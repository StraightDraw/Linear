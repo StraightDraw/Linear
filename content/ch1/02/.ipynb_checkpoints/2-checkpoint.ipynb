{
 "cells": [
  {
   "cell_type": "markdown",
   "metadata": {},
   "source": [
    "# 1.2.2 Homework"
   ]
  },
  {
   "cell_type": "markdown",
   "metadata": {},
   "source": [
    "## Row Reduce the Following Matrices\n",
    "\n",
    "Do not use the `rref` command until you have finished row-reducing and solving. For quick reference, here are the \"by-hand\" way to use the three elementary row operations in MATLAB. Practice both ways, in MATLAB and with pencil and paper, as both will be essential tools in this course. For full solutions, you can copy the matrix into your version of MATLAB and use the `rref` command. One version of the REF for each example is shown in the drop-down solution area.\n",
    "\n",
    "1. Swap rows 1 and 2 in matrix $A$.\n",
    "    \n",
    "    ```\n",
    "    a([1 2],:) = a([2 1],:)\n",
    "    ```\n",
    "    \n",
    "2. Multiply row 2 by 7 in matrix $A$.\n",
    "    \n",
    "    ```\n",
    "    a(2,:) = 7 * a(2,:)\n",
    "    ```\n",
    "    \n",
    "3. Replace row 2 with the sum of itself with 3 times row 1.\n",
    "    \n",
    "    ```\n",
    "    a(1,:) = a(2,:) + 3 * a(1,:)\n",
    "    ```\n",
    "\n",
    "````{panels}\n",
    "HW Question 1\n",
    "^^^\n",
    "$$A = \\left[\\begin{array}{rrr}0&0&1\\\\-4&10&13\\\\0&-1&2\\\\-2&5&6\\\\\\end{array}\\right]$$\n",
    "\n",
    "```{dropdown} Solution\n",
    "$$\\left[\\begin{array}{rrr}-4&10&13\\\\0&-1&2\\\\0&0&1\\\\0&0&0\\end{array}\\right]$$\n",
    "```\n",
    "\n",
    "---\n",
    "HW Question 2\n",
    "^^^\n",
    "$$B = \\left[\\begin{array}{rrr}4&8&-11\\\\2&-1&4\\\\2&1&0\\\\\\end{array}\\right]$$\n",
    "\n",
    "```{dropdown} Solution\n",
    "$$\\left[\\begin{array}{rrr}4&8&-11\\\\0&-5&\\frac{19}{2}\\\\0&0&-\\frac{1}{2}\\\\\\end{array}\\right]$$\n",
    "```\n",
    "\n",
    "---\n",
    "HW Question 3\n",
    "^^^\n",
    "$$C = \\left[\\begin{array}{rrr}8&0&-9\\\\0&2&1\\\\2&-1&-4\\\\\\end{array}\\right]$$\n",
    "\n",
    "```{dropdown} Solution\n",
    "$$\\left[\\begin{array}{rrr}8&0&-9\\\\0&2&1\\\\0&0&-\\frac{5}{4}\\\\\\end{array}\\right]$$\n",
    "```\n",
    "\n",
    "---\n",
    "HW Question 4\n",
    "^^^\n",
    "$$D = \\left[\\begin{array}{rrrr}4&3&-28&-25\\\\-4&0&23&20\\\\\\end{array}\\right]$$\n",
    "\n",
    "```{dropdown} Solution\n",
    "$$\\left[\\begin{array}{rrrr}4&3&-28&-25\\\\0&3&-5&-5\\\\\\end{array}\\right]$$\n",
    "```\n",
    "\n",
    "````\n",
    "\n"
   ]
  }
 ],
 "metadata": {
  "kernelspec": {
   "display_name": "Matlab",
   "language": "matlab",
   "name": "matlab"
  },
  "language_info": {
   "codemirror_mode": "octave",
   "file_extension": ".m",
   "help_links": [
    {
     "text": "MetaKernel Magics",
     "url": "https://metakernel.readthedocs.io/en/latest/source/README.html"
    }
   ],
   "mimetype": "text/x-octave",
   "name": "matlab",
   "version": "0.16.11"
  }
 },
 "nbformat": 4,
 "nbformat_minor": 4
}
